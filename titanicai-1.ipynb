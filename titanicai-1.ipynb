{
 "cells": [
  {
   "cell_type": "markdown",
   "id": "8549899c",
   "metadata": {
    "papermill": {
     "duration": 0.025319,
     "end_time": "2022-06-14T13:26:22.013082",
     "exception": false,
     "start_time": "2022-06-14T13:26:21.987763",
     "status": "completed"
    },
    "tags": []
   },
   "source": [
    "# Software Engineering Project - Titanic ML from Disaster\n",
    "Jesse van der Merwe - 1829172\n",
    "\n",
    "Robyn Gebbie - 2127777\n",
    "\n",
    "https://www.kaggle.com/robynjesse"
   ]
  },
  {
   "cell_type": "markdown",
   "id": "989ea210",
   "metadata": {
    "papermill": {
     "duration": 0.023459,
     "end_time": "2022-06-14T13:26:22.060748",
     "exception": false,
     "start_time": "2022-06-14T13:26:22.037289",
     "status": "completed"
    },
    "tags": []
   },
   "source": [
    "## Introduction\n",
    "This notebook serves to document the code submitted for both the ELEN4009 exam and Titanic Machine Learning competition. \n",
    "\n",
    "The Titanic ML competition uses machine learning to create a model that predicts which passengers survived the Titanic shipwreck. \n",
    "\n",
    "The following steps will be taken: \n",
    "- Data analysis \n",
    "- Choice of ML\n",
    "- ML Tuning\n",
    "- Competition submisison "
   ]
  },
  {
   "cell_type": "markdown",
   "id": "363ab810",
   "metadata": {
    "papermill": {
     "duration": 0.014526,
     "end_time": "2022-06-14T13:26:22.091550",
     "exception": false,
     "start_time": "2022-06-14T13:26:22.077024",
     "status": "completed"
    },
    "tags": []
   },
   "source": [
    "## Imports and data input"
   ]
  },
  {
   "cell_type": "code",
   "execution_count": 1,
   "id": "3fa8aba2",
   "metadata": {
    "execution": {
     "iopub.execute_input": "2022-06-14T13:26:22.122673Z",
     "iopub.status.busy": "2022-06-14T13:26:22.121979Z",
     "iopub.status.idle": "2022-06-14T13:26:23.642154Z",
     "shell.execute_reply": "2022-06-14T13:26:23.641252Z"
    },
    "papermill": {
     "duration": 1.538666,
     "end_time": "2022-06-14T13:26:23.644382",
     "exception": false,
     "start_time": "2022-06-14T13:26:22.105716",
     "status": "completed"
    },
    "tags": []
   },
   "outputs": [],
   "source": [
    "# IMPORTS\n",
    "import numpy as np\n",
    "import pandas as pd\n",
    "import seaborn as sns\n",
    "import matplotlib.pyplot as plt\n",
    "import math\n",
    "from sklearn.linear_model import LogisticRegression\n",
    "from sklearn.neighbors import KNeighborsClassifier\n",
    "from sklearn.naive_bayes import GaussianNB\n",
    "from sklearn.neural_network import MLPClassifier\n",
    "from sklearn.model_selection import GridSearchCV\n",
    "from sklearn.model_selection import RandomizedSearchCV\n",
    "from sklearn.preprocessing import StandardScaler\n",
    "from sklearn.model_selection import validation_curve\n",
    "from sklearn.pipeline import make_pipeline\n",
    "from sklearn.model_selection import KFold\n",
    "from sklearn.model_selection import cross_val_score\n",
    "from scipy.stats import uniform as sp_randFloat\n",
    "from scipy.stats import randint as sp_randInt\n",
    "\n",
    "\n",
    "# testing and testing data input\n",
    "train_df = pd.read_csv('../input/titanic/train.csv')\n",
    "test_df = pd.read_csv('../input/titanic/test.csv')"
   ]
  },
  {
   "cell_type": "markdown",
   "id": "43fdc02f",
   "metadata": {
    "papermill": {
     "duration": 0.014002,
     "end_time": "2022-06-14T13:26:23.674380",
     "exception": false,
     "start_time": "2022-06-14T13:26:23.660378",
     "status": "completed"
    },
    "tags": []
   },
   "source": [
    "## Analyzing the data"
   ]
  },
  {
   "cell_type": "code",
   "execution_count": 2,
   "id": "749baa51",
   "metadata": {
    "execution": {
     "iopub.execute_input": "2022-06-14T13:26:23.705108Z",
     "iopub.status.busy": "2022-06-14T13:26:23.704500Z",
     "iopub.status.idle": "2022-06-14T13:26:23.724898Z",
     "shell.execute_reply": "2022-06-14T13:26:23.724110Z"
    },
    "papermill": {
     "duration": 0.037727,
     "end_time": "2022-06-14T13:26:23.726631",
     "exception": false,
     "start_time": "2022-06-14T13:26:23.688904",
     "status": "completed"
    },
    "tags": []
   },
   "outputs": [
    {
     "name": "stdout",
     "output_type": "stream",
     "text": [
      "     PassengerId  Survived  Pclass  \\\n",
      "0              1         0       3   \n",
      "1              2         1       1   \n",
      "2              3         1       3   \n",
      "3              4         1       1   \n",
      "4              5         0       3   \n",
      "..           ...       ...     ...   \n",
      "886          887         0       2   \n",
      "887          888         1       1   \n",
      "888          889         0       3   \n",
      "889          890         1       1   \n",
      "890          891         0       3   \n",
      "\n",
      "                                                  Name     Sex   Age  SibSp  \\\n",
      "0                              Braund, Mr. Owen Harris    male  22.0      1   \n",
      "1    Cumings, Mrs. John Bradley (Florence Briggs Th...  female  38.0      1   \n",
      "2                               Heikkinen, Miss. Laina  female  26.0      0   \n",
      "3         Futrelle, Mrs. Jacques Heath (Lily May Peel)  female  35.0      1   \n",
      "4                             Allen, Mr. William Henry    male  35.0      0   \n",
      "..                                                 ...     ...   ...    ...   \n",
      "886                              Montvila, Rev. Juozas    male  27.0      0   \n",
      "887                       Graham, Miss. Margaret Edith  female  19.0      0   \n",
      "888           Johnston, Miss. Catherine Helen \"Carrie\"  female   NaN      1   \n",
      "889                              Behr, Mr. Karl Howell    male  26.0      0   \n",
      "890                                Dooley, Mr. Patrick    male  32.0      0   \n",
      "\n",
      "     Parch            Ticket     Fare Cabin Embarked  \n",
      "0        0         A/5 21171   7.2500   NaN        S  \n",
      "1        0          PC 17599  71.2833   C85        C  \n",
      "2        0  STON/O2. 3101282   7.9250   NaN        S  \n",
      "3        0            113803  53.1000  C123        S  \n",
      "4        0            373450   8.0500   NaN        S  \n",
      "..     ...               ...      ...   ...      ...  \n",
      "886      0            211536  13.0000   NaN        S  \n",
      "887      0            112053  30.0000   B42        S  \n",
      "888      2        W./C. 6607  23.4500   NaN        S  \n",
      "889      0            111369  30.0000  C148        C  \n",
      "890      0            370376   7.7500   NaN        Q  \n",
      "\n",
      "[891 rows x 12 columns]\n"
     ]
    }
   ],
   "source": [
    "# Lets take a look at the data\n",
    "print(train_df)"
   ]
  },
  {
   "cell_type": "markdown",
   "id": "ddb2e129",
   "metadata": {
    "papermill": {
     "duration": 0.014336,
     "end_time": "2022-06-14T13:26:23.755772",
     "exception": false,
     "start_time": "2022-06-14T13:26:23.741436",
     "status": "completed"
    },
    "tags": []
   },
   "source": [
    "#### Column data analysis \n",
    "- PassengerId: ID of passenger\n",
    "- Survived: Whether passenger survived or not (0=no, 1=yes)\n",
    "- Pclass: Ticket class (1=1st/Upper, 2=2nd/Middle, 3=3rd/Lower)\n",
    "- Name: Name of passenger\n",
    "- Sex: Sex of passenger\n",
    "- Age: Age of passenger (in years, fractional if less than 1)\n",
    "- SibSp: Number of siblings/spouses aboard the Titanic \n",
    "- Parch: Number of parents/children aboard the Titanic \n",
    "- Ticket: Ticket number (mixed alphanumeric and numeric data type)\n",
    "- Fare: Passenger fare\n",
    "- Cabin: Cabin number (alphanumeric data type)\n",
    "- Embarked: Port of embarkation (C=Cherbourg, Q=Queenstown, S=South Hampton)"
   ]
  },
  {
   "cell_type": "code",
   "execution_count": 3,
   "id": "d53852f4",
   "metadata": {
    "execution": {
     "iopub.execute_input": "2022-06-14T13:26:23.786534Z",
     "iopub.status.busy": "2022-06-14T13:26:23.785899Z",
     "iopub.status.idle": "2022-06-14T13:26:23.791409Z",
     "shell.execute_reply": "2022-06-14T13:26:23.790440Z"
    },
    "papermill": {
     "duration": 0.022732,
     "end_time": "2022-06-14T13:26:23.793043",
     "exception": false,
     "start_time": "2022-06-14T13:26:23.770311",
     "status": "completed"
    },
    "tags": []
   },
   "outputs": [],
   "source": [
    "# Categorization of the columns into three categories\n",
    "all_columns = train_df.columns\n",
    "categorical_columns = ['Survived', 'Pclass', 'Sex', 'Embarked']\n",
    "numerical_columns = ['Age', 'SibSp', 'Parch', 'Fare']\n",
    "descriptive_columns = ['PassengerID', 'Name', 'Ticket', 'Cabin']"
   ]
  },
  {
   "cell_type": "markdown",
   "id": "17ef4ecb",
   "metadata": {
    "papermill": {
     "duration": 0.015476,
     "end_time": "2022-06-14T13:26:23.823789",
     "exception": false,
     "start_time": "2022-06-14T13:26:23.808313",
     "status": "completed"
    },
    "tags": []
   },
   "source": [
    "#### Description of the numerical and categorical columns"
   ]
  },
  {
   "cell_type": "code",
   "execution_count": 4,
   "id": "7c548a62",
   "metadata": {
    "execution": {
     "iopub.execute_input": "2022-06-14T13:26:23.855326Z",
     "iopub.status.busy": "2022-06-14T13:26:23.854498Z",
     "iopub.status.idle": "2022-06-14T13:26:23.891384Z",
     "shell.execute_reply": "2022-06-14T13:26:23.890143Z"
    },
    "papermill": {
     "duration": 0.054959,
     "end_time": "2022-06-14T13:26:23.893588",
     "exception": false,
     "start_time": "2022-06-14T13:26:23.838629",
     "status": "completed"
    },
    "tags": []
   },
   "outputs": [
    {
     "data": {
      "text/html": [
       "<div>\n",
       "<style scoped>\n",
       "    .dataframe tbody tr th:only-of-type {\n",
       "        vertical-align: middle;\n",
       "    }\n",
       "\n",
       "    .dataframe tbody tr th {\n",
       "        vertical-align: top;\n",
       "    }\n",
       "\n",
       "    .dataframe thead th {\n",
       "        text-align: right;\n",
       "    }\n",
       "</style>\n",
       "<table border=\"1\" class=\"dataframe\">\n",
       "  <thead>\n",
       "    <tr style=\"text-align: right;\">\n",
       "      <th></th>\n",
       "      <th>Name</th>\n",
       "      <th>Sex</th>\n",
       "      <th>Ticket</th>\n",
       "      <th>Cabin</th>\n",
       "      <th>Embarked</th>\n",
       "    </tr>\n",
       "  </thead>\n",
       "  <tbody>\n",
       "    <tr>\n",
       "      <th>count</th>\n",
       "      <td>891</td>\n",
       "      <td>891</td>\n",
       "      <td>891</td>\n",
       "      <td>204</td>\n",
       "      <td>889</td>\n",
       "    </tr>\n",
       "    <tr>\n",
       "      <th>unique</th>\n",
       "      <td>891</td>\n",
       "      <td>2</td>\n",
       "      <td>681</td>\n",
       "      <td>147</td>\n",
       "      <td>3</td>\n",
       "    </tr>\n",
       "    <tr>\n",
       "      <th>top</th>\n",
       "      <td>Braund, Mr. Owen Harris</td>\n",
       "      <td>male</td>\n",
       "      <td>347082</td>\n",
       "      <td>B96 B98</td>\n",
       "      <td>S</td>\n",
       "    </tr>\n",
       "    <tr>\n",
       "      <th>freq</th>\n",
       "      <td>1</td>\n",
       "      <td>577</td>\n",
       "      <td>7</td>\n",
       "      <td>4</td>\n",
       "      <td>644</td>\n",
       "    </tr>\n",
       "  </tbody>\n",
       "</table>\n",
       "</div>"
      ],
      "text/plain": [
       "                           Name   Sex  Ticket    Cabin Embarked\n",
       "count                       891   891     891      204      889\n",
       "unique                      891     2     681      147        3\n",
       "top     Braund, Mr. Owen Harris  male  347082  B96 B98        S\n",
       "freq                          1   577       7        4      644"
      ]
     },
     "execution_count": 4,
     "metadata": {},
     "output_type": "execute_result"
    }
   ],
   "source": [
    "# Describe the categorical data\n",
    "train_df.describe(include=['O'])"
   ]
  },
  {
   "cell_type": "code",
   "execution_count": 5,
   "id": "dd254544",
   "metadata": {
    "execution": {
     "iopub.execute_input": "2022-06-14T13:26:23.925892Z",
     "iopub.status.busy": "2022-06-14T13:26:23.925305Z",
     "iopub.status.idle": "2022-06-14T13:26:23.957552Z",
     "shell.execute_reply": "2022-06-14T13:26:23.956575Z"
    },
    "papermill": {
     "duration": 0.051044,
     "end_time": "2022-06-14T13:26:23.959678",
     "exception": false,
     "start_time": "2022-06-14T13:26:23.908634",
     "status": "completed"
    },
    "tags": []
   },
   "outputs": [
    {
     "data": {
      "text/html": [
       "<div>\n",
       "<style scoped>\n",
       "    .dataframe tbody tr th:only-of-type {\n",
       "        vertical-align: middle;\n",
       "    }\n",
       "\n",
       "    .dataframe tbody tr th {\n",
       "        vertical-align: top;\n",
       "    }\n",
       "\n",
       "    .dataframe thead th {\n",
       "        text-align: right;\n",
       "    }\n",
       "</style>\n",
       "<table border=\"1\" class=\"dataframe\">\n",
       "  <thead>\n",
       "    <tr style=\"text-align: right;\">\n",
       "      <th></th>\n",
       "      <th>PassengerId</th>\n",
       "      <th>Survived</th>\n",
       "      <th>Pclass</th>\n",
       "      <th>Age</th>\n",
       "      <th>SibSp</th>\n",
       "      <th>Parch</th>\n",
       "      <th>Fare</th>\n",
       "    </tr>\n",
       "  </thead>\n",
       "  <tbody>\n",
       "    <tr>\n",
       "      <th>count</th>\n",
       "      <td>891.000000</td>\n",
       "      <td>891.000000</td>\n",
       "      <td>891.000000</td>\n",
       "      <td>714.000000</td>\n",
       "      <td>891.000000</td>\n",
       "      <td>891.000000</td>\n",
       "      <td>891.000000</td>\n",
       "    </tr>\n",
       "    <tr>\n",
       "      <th>mean</th>\n",
       "      <td>446.000000</td>\n",
       "      <td>0.383838</td>\n",
       "      <td>2.308642</td>\n",
       "      <td>29.699118</td>\n",
       "      <td>0.523008</td>\n",
       "      <td>0.381594</td>\n",
       "      <td>32.204208</td>\n",
       "    </tr>\n",
       "    <tr>\n",
       "      <th>std</th>\n",
       "      <td>257.353842</td>\n",
       "      <td>0.486592</td>\n",
       "      <td>0.836071</td>\n",
       "      <td>14.526497</td>\n",
       "      <td>1.102743</td>\n",
       "      <td>0.806057</td>\n",
       "      <td>49.693429</td>\n",
       "    </tr>\n",
       "    <tr>\n",
       "      <th>min</th>\n",
       "      <td>1.000000</td>\n",
       "      <td>0.000000</td>\n",
       "      <td>1.000000</td>\n",
       "      <td>0.420000</td>\n",
       "      <td>0.000000</td>\n",
       "      <td>0.000000</td>\n",
       "      <td>0.000000</td>\n",
       "    </tr>\n",
       "    <tr>\n",
       "      <th>25%</th>\n",
       "      <td>223.500000</td>\n",
       "      <td>0.000000</td>\n",
       "      <td>2.000000</td>\n",
       "      <td>20.125000</td>\n",
       "      <td>0.000000</td>\n",
       "      <td>0.000000</td>\n",
       "      <td>7.910400</td>\n",
       "    </tr>\n",
       "    <tr>\n",
       "      <th>50%</th>\n",
       "      <td>446.000000</td>\n",
       "      <td>0.000000</td>\n",
       "      <td>3.000000</td>\n",
       "      <td>28.000000</td>\n",
       "      <td>0.000000</td>\n",
       "      <td>0.000000</td>\n",
       "      <td>14.454200</td>\n",
       "    </tr>\n",
       "    <tr>\n",
       "      <th>75%</th>\n",
       "      <td>668.500000</td>\n",
       "      <td>1.000000</td>\n",
       "      <td>3.000000</td>\n",
       "      <td>38.000000</td>\n",
       "      <td>1.000000</td>\n",
       "      <td>0.000000</td>\n",
       "      <td>31.000000</td>\n",
       "    </tr>\n",
       "    <tr>\n",
       "      <th>max</th>\n",
       "      <td>891.000000</td>\n",
       "      <td>1.000000</td>\n",
       "      <td>3.000000</td>\n",
       "      <td>80.000000</td>\n",
       "      <td>8.000000</td>\n",
       "      <td>6.000000</td>\n",
       "      <td>512.329200</td>\n",
       "    </tr>\n",
       "  </tbody>\n",
       "</table>\n",
       "</div>"
      ],
      "text/plain": [
       "       PassengerId    Survived      Pclass         Age       SibSp  \\\n",
       "count   891.000000  891.000000  891.000000  714.000000  891.000000   \n",
       "mean    446.000000    0.383838    2.308642   29.699118    0.523008   \n",
       "std     257.353842    0.486592    0.836071   14.526497    1.102743   \n",
       "min       1.000000    0.000000    1.000000    0.420000    0.000000   \n",
       "25%     223.500000    0.000000    2.000000   20.125000    0.000000   \n",
       "50%     446.000000    0.000000    3.000000   28.000000    0.000000   \n",
       "75%     668.500000    1.000000    3.000000   38.000000    1.000000   \n",
       "max     891.000000    1.000000    3.000000   80.000000    8.000000   \n",
       "\n",
       "            Parch        Fare  \n",
       "count  891.000000  891.000000  \n",
       "mean     0.381594   32.204208  \n",
       "std      0.806057   49.693429  \n",
       "min      0.000000    0.000000  \n",
       "25%      0.000000    7.910400  \n",
       "50%      0.000000   14.454200  \n",
       "75%      0.000000   31.000000  \n",
       "max      6.000000  512.329200  "
      ]
     },
     "execution_count": 5,
     "metadata": {},
     "output_type": "execute_result"
    }
   ],
   "source": [
    "# Describe the numerical data\n",
    "train_df.describe()"
   ]
  },
  {
   "cell_type": "markdown",
   "id": "8ae90de4",
   "metadata": {
    "papermill": {
     "duration": 0.024423,
     "end_time": "2022-06-14T13:26:24.008795",
     "exception": false,
     "start_time": "2022-06-14T13:26:23.984372",
     "status": "completed"
    },
    "tags": []
   },
   "source": [
    "#### How many empty values are there in each column?\n",
    "These empty cells need to be filled with suitable values. "
   ]
  },
  {
   "cell_type": "code",
   "execution_count": 6,
   "id": "94874c45",
   "metadata": {
    "execution": {
     "iopub.execute_input": "2022-06-14T13:26:24.060098Z",
     "iopub.status.busy": "2022-06-14T13:26:24.059332Z",
     "iopub.status.idle": "2022-06-14T13:26:24.069149Z",
     "shell.execute_reply": "2022-06-14T13:26:24.068410Z"
    },
    "papermill": {
     "duration": 0.037713,
     "end_time": "2022-06-14T13:26:24.071186",
     "exception": false,
     "start_time": "2022-06-14T13:26:24.033473",
     "status": "completed"
    },
    "tags": []
   },
   "outputs": [
    {
     "data": {
      "text/plain": [
       "PassengerId      0\n",
       "Survived         0\n",
       "Pclass           0\n",
       "Name             0\n",
       "Sex              0\n",
       "Age            177\n",
       "SibSp            0\n",
       "Parch            0\n",
       "Ticket           0\n",
       "Fare             0\n",
       "Cabin          687\n",
       "Embarked         2\n",
       "dtype: int64"
      ]
     },
     "execution_count": 6,
     "metadata": {},
     "output_type": "execute_result"
    }
   ],
   "source": [
    "# Print the number of empty values for each column\n",
    "train_df.isna().sum()"
   ]
  },
  {
   "cell_type": "markdown",
   "id": "1955c0f1",
   "metadata": {
    "papermill": {
     "duration": 0.024687,
     "end_time": "2022-06-14T13:26:24.120753",
     "exception": false,
     "start_time": "2022-06-14T13:26:24.096066",
     "status": "completed"
    },
    "tags": []
   },
   "source": [
    "#### What are the different data types of each column?\n",
    "This is important because the final ML algorithms implemented will only accept numerical input. Therefore, identifying the values that need to be changed in order to figure out how to change them is important.  \n",
    "\n",
    "It can be seen that 'Name', 'Sex', 'Ticket', 'Cabin' and 'Embarked fields are objects and therefore will need to be changed."
   ]
  },
  {
   "cell_type": "code",
   "execution_count": 7,
   "id": "05201b88",
   "metadata": {
    "execution": {
     "iopub.execute_input": "2022-06-14T13:26:24.171647Z",
     "iopub.status.busy": "2022-06-14T13:26:24.171105Z",
     "iopub.status.idle": "2022-06-14T13:26:24.177742Z",
     "shell.execute_reply": "2022-06-14T13:26:24.177168Z"
    },
    "papermill": {
     "duration": 0.033952,
     "end_time": "2022-06-14T13:26:24.179438",
     "exception": false,
     "start_time": "2022-06-14T13:26:24.145486",
     "status": "completed"
    },
    "tags": []
   },
   "outputs": [
    {
     "data": {
      "text/plain": [
       "PassengerId      int64\n",
       "Survived         int64\n",
       "Pclass           int64\n",
       "Name            object\n",
       "Sex             object\n",
       "Age            float64\n",
       "SibSp            int64\n",
       "Parch            int64\n",
       "Ticket          object\n",
       "Fare           float64\n",
       "Cabin           object\n",
       "Embarked        object\n",
       "dtype: object"
      ]
     },
     "execution_count": 7,
     "metadata": {},
     "output_type": "execute_result"
    }
   ],
   "source": [
    "train_df.dtypes"
   ]
  },
  {
   "cell_type": "markdown",
   "id": "91246ac0",
   "metadata": {
    "papermill": {
     "duration": 0.024277,
     "end_time": "2022-06-14T13:26:24.227962",
     "exception": false,
     "start_time": "2022-06-14T13:26:24.203685",
     "status": "completed"
    },
    "tags": []
   },
   "source": [
    "#### How many duplicate entries are there per column?\n",
    "Duplicate entries could imply that the data is incorrect, especially if the column should be unique. Such columns include PassengerID, Name, Ticket and Cabin.\n",
    "\n",
    "By printing the number of duplicate entries below, it can be seen that 'Ticket' has a high number of duplicates - this is concerning considering this should be a unique field. It was therefore decided that the 'Ticket' column could be ignored, as it would not provide useful data. \n",
    "\n",
    "The 'Cabin' field has an extremely high duplication rate.  "
   ]
  },
  {
   "cell_type": "code",
   "execution_count": 8,
   "id": "47430527",
   "metadata": {
    "execution": {
     "iopub.execute_input": "2022-06-14T13:26:24.278991Z",
     "iopub.status.busy": "2022-06-14T13:26:24.278622Z",
     "iopub.status.idle": "2022-06-14T13:26:24.292504Z",
     "shell.execute_reply": "2022-06-14T13:26:24.291353Z"
    },
    "papermill": {
     "duration": 0.042492,
     "end_time": "2022-06-14T13:26:24.295175",
     "exception": false,
     "start_time": "2022-06-14T13:26:24.252683",
     "status": "completed"
    },
    "tags": []
   },
   "outputs": [
    {
     "name": "stdout",
     "output_type": "stream",
     "text": [
      "PassengerId\t0\n",
      "Name\t\t0\n",
      "Ticket\t\t344\n",
      "Cabin\t\t790\n"
     ]
    }
   ],
   "source": [
    "# Print the number of duplicate entries of columns that should be unique/almost unique\n",
    "unique_columns = [\"PassengerId\", \"Name\", \"Ticket\", \"Cabin\"]\n",
    "for i in range(0,len(unique_columns)):\n",
    "    if len(unique_columns[i]) > 7:\n",
    "        end = '\\t'\n",
    "    else:\n",
    "        end = '\\t\\t'\n",
    "    print(unique_columns[i], end=end)\n",
    "    print(len(train_df[train_df.duplicated([unique_columns[i]], keep=False)]))"
   ]
  },
  {
   "cell_type": "markdown",
   "id": "07acb4eb",
   "metadata": {
    "papermill": {
     "duration": 0.024688,
     "end_time": "2022-06-14T13:26:24.345589",
     "exception": false,
     "start_time": "2022-06-14T13:26:24.320901",
     "status": "completed"
    },
    "tags": []
   },
   "source": [
    "#### Analysing the Cabin \n",
    "As mentioned above, the 'Cabin' column has a high rate of duplication. However, it should also be noted that there are also many missing cabin numbers. \n",
    "\n",
    "\n",
    "Interestingly, it can be seen that most passengers (70%) that do not have a cabin number, do not survive. It was therefore decided to extract the deck number (represented by the first letter of the 'Cabin' column) into a new column, and note each of the passengers with missing cabin (and therefore unknown deck numbers) with the same value. "
   ]
  },
  {
   "cell_type": "code",
   "execution_count": 9,
   "id": "65901232",
   "metadata": {
    "execution": {
     "iopub.execute_input": "2022-06-14T13:26:24.397670Z",
     "iopub.status.busy": "2022-06-14T13:26:24.397089Z",
     "iopub.status.idle": "2022-06-14T13:26:24.426210Z",
     "shell.execute_reply": "2022-06-14T13:26:24.425655Z"
    },
    "papermill": {
     "duration": 0.058654,
     "end_time": "2022-06-14T13:26:24.429437",
     "exception": false,
     "start_time": "2022-06-14T13:26:24.370783",
     "status": "completed"
    },
    "tags": []
   },
   "outputs": [
    {
     "name": "stdout",
     "output_type": "stream",
     "text": [
      "70.01455604075691% of passengers with no cabin number did not survive.\n"
     ]
    }
   ],
   "source": [
    "count_no_cabin_no_survive = 0\n",
    "count_no_cabin_survive = 0\n",
    "for i in range(len(train_df)):\n",
    "    if type(train_df['Cabin'][i]) != str and train_df['Survived'][i] == 0:\n",
    "        count_no_cabin_no_survive = count_no_cabin_no_survive + 1\n",
    "    elif type(train_df['Cabin'][i]) != str and train_df['Survived'][i] == 1:\n",
    "        count_no_cabin_survive = count_no_cabin_survive + 1\n",
    "print(count_no_cabin_no_survive/(count_no_cabin_no_survive+count_no_cabin_survive)*100, end='')\n",
    "print('% of passengers with no cabin number did not survive.')"
   ]
  },
  {
   "cell_type": "markdown",
   "id": "d8d66b06",
   "metadata": {
    "papermill": {
     "duration": 0.024995,
     "end_time": "2022-06-14T13:26:24.480540",
     "exception": false,
     "start_time": "2022-06-14T13:26:24.455545",
     "status": "completed"
    },
    "tags": []
   },
   "source": [
    "## Data manipulation\n",
    "#### Extract 'Title' from Name column \n",
    "Test 2: leaving the rare columns as is"
   ]
  },
  {
   "cell_type": "code",
   "execution_count": 10,
   "id": "493004d6",
   "metadata": {
    "execution": {
     "iopub.execute_input": "2022-06-14T13:26:24.532769Z",
     "iopub.status.busy": "2022-06-14T13:26:24.532342Z",
     "iopub.status.idle": "2022-06-14T13:26:24.554034Z",
     "shell.execute_reply": "2022-06-14T13:26:24.553240Z"
    },
    "papermill": {
     "duration": 0.050338,
     "end_time": "2022-06-14T13:26:24.556268",
     "exception": false,
     "start_time": "2022-06-14T13:26:24.505930",
     "status": "completed"
    },
    "tags": []
   },
   "outputs": [
    {
     "name": "stdout",
     "output_type": "stream",
     "text": [
      "       Title  Survived\n",
      "0       Capt  0.000000\n",
      "1        Col  0.500000\n",
      "2   Countess  1.000000\n",
      "3        Don  0.000000\n",
      "4         Dr  0.428571\n",
      "5   Jonkheer  0.000000\n",
      "6       Lady  1.000000\n",
      "7      Major  0.500000\n",
      "8     Master  0.575000\n",
      "9       Miss  0.697802\n",
      "10      Mlle  1.000000\n",
      "11       Mme  1.000000\n",
      "12        Mr  0.156673\n",
      "13       Mrs  0.792000\n",
      "14        Ms  1.000000\n",
      "15       Rev  0.000000\n",
      "16       Sir  1.000000\n"
     ]
    }
   ],
   "source": [
    "# Lets start by extracting the title field (from both the training and testing data) so that Name column can be dropped\n",
    "# If the title is less than 10% of the passengers, group it into \"other\"\n",
    "for t in [train_df, test_df]:\n",
    "    title = t.Name.str.extract(' ([A-Za-z]+)\\.', expand=False)\n",
    "    t['Title'] = title\n",
    "    \n",
    "print(train_df[['Title', 'Survived']].groupby(['Title'], as_index=False).mean())\n"
   ]
  },
  {
   "cell_type": "markdown",
   "id": "9af9d61c",
   "metadata": {
    "papermill": {
     "duration": 0.025244,
     "end_time": "2022-06-14T13:26:24.607141",
     "exception": false,
     "start_time": "2022-06-14T13:26:24.581897",
     "status": "completed"
    },
    "tags": []
   },
   "source": [
    "#### Create a new column for 'Deck' value\n",
    "We can also drop the 'Cabin' column after this"
   ]
  },
  {
   "cell_type": "code",
   "execution_count": 11,
   "id": "c6cc41c2",
   "metadata": {
    "execution": {
     "iopub.execute_input": "2022-06-14T13:26:24.659965Z",
     "iopub.status.busy": "2022-06-14T13:26:24.658951Z",
     "iopub.status.idle": "2022-06-14T13:26:24.748309Z",
     "shell.execute_reply": "2022-06-14T13:26:24.747645Z"
    },
    "papermill": {
     "duration": 0.118895,
     "end_time": "2022-06-14T13:26:24.751124",
     "exception": false,
     "start_time": "2022-06-14T13:26:24.632229",
     "status": "completed"
    },
    "tags": []
   },
   "outputs": [
    {
     "name": "stdout",
     "output_type": "stream",
     "text": [
      "   Deck  Survived\n",
      "0     0  0.466667\n",
      "1     1  0.744681\n",
      "2     2  0.593220\n",
      "3     3  0.757576\n",
      "4     4  0.750000\n",
      "5     5  0.615385\n",
      "6     6  0.500000\n",
      "7     7  0.000000\n",
      "8     8  0.299854\n"
     ]
    },
    {
     "name": "stderr",
     "output_type": "stream",
     "text": [
      "/opt/conda/lib/python3.7/site-packages/ipykernel_launcher.py:7: SettingWithCopyWarning: \n",
      "A value is trying to be set on a copy of a slice from a DataFrame\n",
      "\n",
      "See the caveats in the documentation: https://pandas.pydata.org/pandas-docs/stable/user_guide/indexing.html#returning-a-view-versus-a-copy\n",
      "  import sys\n",
      "/opt/conda/lib/python3.7/site-packages/ipykernel_launcher.py:11: SettingWithCopyWarning: \n",
      "A value is trying to be set on a copy of a slice from a DataFrame\n",
      "\n",
      "See the caveats in the documentation: https://pandas.pydata.org/pandas-docs/stable/user_guide/indexing.html#returning-a-view-versus-a-copy\n",
      "  # This is added back by InteractiveShellApp.init_path()\n"
     ]
    }
   ],
   "source": [
    "deck_array = ['A', 'B', 'C', 'D', 'E', 'F', 'G', 'T', 'X'] # Note -  there is a T deck, but only one entry\n",
    "for t in [train_df, test_df]:\n",
    "    t['Deck'] = deck_array.index('X')\n",
    "\n",
    "for i in range(len(train_df)):\n",
    "    if type(train_df['Cabin'][i]) == str:\n",
    "        train_df['Deck'][i] = deck_array.index(train_df['Cabin'][i][0])\n",
    "\n",
    "for i in range(len(test_df)):\n",
    "    if type(test_df['Cabin'][i]) == str:\n",
    "        test_df['Deck'][i] = deck_array.index(test_df['Cabin'][i][0])\n",
    "\n",
    "print(train_df[['Deck', 'Survived']].groupby(['Deck'], as_index=False).mean())\n",
    "\n",
    "train_df = train_df.drop(['Cabin'], axis=1)\n",
    "test_df = test_df.drop(['Cabin'], axis=1)"
   ]
  },
  {
   "cell_type": "markdown",
   "id": "1d7dfee2",
   "metadata": {
    "papermill": {
     "duration": 0.027233,
     "end_time": "2022-06-14T13:26:24.803528",
     "exception": false,
     "start_time": "2022-06-14T13:26:24.776295",
     "status": "completed"
    },
    "tags": []
   },
   "source": [
    "#### Remove 'Name', 'PassengerId', and 'Ticket' columns\n",
    "As mentioned above, these columns do not correlate to the survival rate of the passengers."
   ]
  },
  {
   "cell_type": "code",
   "execution_count": 12,
   "id": "2a66b420",
   "metadata": {
    "execution": {
     "iopub.execute_input": "2022-06-14T13:26:24.856866Z",
     "iopub.status.busy": "2022-06-14T13:26:24.856333Z",
     "iopub.status.idle": "2022-06-14T13:26:24.862578Z",
     "shell.execute_reply": "2022-06-14T13:26:24.861965Z"
    },
    "papermill": {
     "duration": 0.035335,
     "end_time": "2022-06-14T13:26:24.864533",
     "exception": false,
     "start_time": "2022-06-14T13:26:24.829198",
     "status": "completed"
    },
    "tags": []
   },
   "outputs": [],
   "source": [
    "# After extracting the Title field, we can drop the Name column\n",
    "# We also want to drop the PassengerId, and Ticket columns as mentioned above\n",
    "train_df = train_df.drop(['Name', 'PassengerId', 'Ticket'], axis=1)\n",
    "test_df = test_df.drop(['Name', 'Ticket'], axis=1) # NB: We cannot drop PassengerId from test data yet as we need it for the final submission\n"
   ]
  },
  {
   "cell_type": "markdown",
   "id": "3081d21f",
   "metadata": {
    "papermill": {
     "duration": 0.025176,
     "end_time": "2022-06-14T13:26:24.915503",
     "exception": false,
     "start_time": "2022-06-14T13:26:24.890327",
     "status": "completed"
    },
    "tags": []
   },
   "source": [
    "#### Combining SibSp and Parch\n",
    "Since SibSp contains both siblings and spouses, and Parch contains both parents and children, there is no useful way of using this data (for example to decide whether the person has children and therefore must be an adult, but they could also have parents and therefore be young in age).\n",
    "\n",
    "We will instead combine these two columns into one 'NumRelatives' column. \n",
    "\n",
    "If the passenger was alone, this might increase or decrease their chance of survival. Therefore by using the new 'NumRelatives' column we can easily create a new column to describe whether the passenger was alone or not.\n",
    "\n",
    "Use 1=alone, 0=not alone."
   ]
  },
  {
   "cell_type": "code",
   "execution_count": 13,
   "id": "55c3fde2",
   "metadata": {
    "execution": {
     "iopub.execute_input": "2022-06-14T13:26:24.969107Z",
     "iopub.status.busy": "2022-06-14T13:26:24.968619Z",
     "iopub.status.idle": "2022-06-14T13:26:24.987976Z",
     "shell.execute_reply": "2022-06-14T13:26:24.987007Z"
    },
    "papermill": {
     "duration": 0.048541,
     "end_time": "2022-06-14T13:26:24.989732",
     "exception": false,
     "start_time": "2022-06-14T13:26:24.941191",
     "status": "completed"
    },
    "tags": []
   },
   "outputs": [
    {
     "name": "stdout",
     "output_type": "stream",
     "text": [
      "   NumRelatives  Survived\n",
      "0             0  0.303538\n",
      "1             1  0.552795\n",
      "2             2  0.578431\n",
      "3             3  0.724138\n",
      "4             4  0.200000\n",
      "5             5  0.136364\n",
      "6             6  0.333333\n",
      "7             7  0.000000\n",
      "8            10  0.000000\n",
      "   Alone  Survived\n",
      "0      0  0.505650\n",
      "1      1  0.303538\n"
     ]
    }
   ],
   "source": [
    "for t in [train_df, test_df]:\n",
    "    t['NumRelatives'] = t['SibSp'] + t['Parch']\n",
    "    t.loc[t['NumRelatives'] > 0, 'Alone'] = 0\n",
    "    t.loc[t['NumRelatives'] == 0, 'Alone'] = 1\n",
    "    t['Alone'] = t['Alone'].astype(int)\n",
    "print(train_df[['NumRelatives', 'Survived']].groupby(['NumRelatives'], as_index=False).mean())\n",
    "print(train_df[['Alone', 'Survived']].groupby(['Alone'], as_index=False).mean())\n",
    "\n",
    "train_df = train_df.drop(['SibSp', 'Parch'], axis=1)\n",
    "test_df = test_df.drop(['SibSp', 'Parch'], axis=1)\n"
   ]
  },
  {
   "cell_type": "markdown",
   "id": "a4c5760e",
   "metadata": {
    "papermill": {
     "duration": 0.015082,
     "end_time": "2022-06-14T13:26:25.020483",
     "exception": false,
     "start_time": "2022-06-14T13:26:25.005401",
     "status": "completed"
    },
    "tags": []
   },
   "source": [
    "#### Calculate missing age values \n",
    "By using the title's average age group. \n",
    "- By plotting Title, Age, and Survived, we see that most titles band Age groups accurately. \n",
    "- A random number between the title's average age plus and minus that title's standard deviation. \n",
    "- By generating a random number between the one standard deviation up and down from the average age value, we will be able to populate the 'Other' title values. \n"
   ]
  },
  {
   "cell_type": "code",
   "execution_count": 14,
   "id": "bdd312d3",
   "metadata": {
    "execution": {
     "iopub.execute_input": "2022-06-14T13:26:25.053508Z",
     "iopub.status.busy": "2022-06-14T13:26:25.052617Z",
     "iopub.status.idle": "2022-06-14T13:26:25.276349Z",
     "shell.execute_reply": "2022-06-14T13:26:25.275122Z"
    },
    "papermill": {
     "duration": 0.242755,
     "end_time": "2022-06-14T13:26:25.278636",
     "exception": false,
     "start_time": "2022-06-14T13:26:25.035881",
     "status": "completed"
    },
    "tags": []
   },
   "outputs": [
    {
     "name": "stdout",
     "output_type": "stream",
     "text": [
      "       Title        Age\n",
      "0       Capt        NaN\n",
      "1        Col   2.828427\n",
      "2   Countess        NaN\n",
      "3        Don        NaN\n",
      "4         Dr  12.016655\n",
      "5   Jonkheer        NaN\n",
      "6       Lady        NaN\n",
      "7      Major   4.949747\n",
      "8     Master   3.619872\n",
      "9       Miss  12.990292\n",
      "10      Mlle   0.000000\n",
      "11       Mme        NaN\n",
      "12        Mr  12.708793\n",
      "13       Mrs  11.433628\n",
      "14        Ms        NaN\n",
      "15       Rev  13.136463\n",
      "16       Sir        NaN\n",
      "    Age  Survived\n",
      "0     0  0.875000\n",
      "1     1  0.714286\n",
      "2     2  0.300000\n",
      "3     3  0.833333\n",
      "4     4  0.700000\n",
      "..  ...       ...\n",
      "66   66  0.000000\n",
      "67   70  0.000000\n",
      "68   71  0.000000\n",
      "69   74  0.000000\n",
      "70   80  1.000000\n",
      "\n",
      "[71 rows x 2 columns]\n"
     ]
    },
    {
     "name": "stderr",
     "output_type": "stream",
     "text": [
      "/opt/conda/lib/python3.7/site-packages/ipykernel_launcher.py:18: SettingWithCopyWarning: \n",
      "A value is trying to be set on a copy of a slice from a DataFrame\n",
      "\n",
      "See the caveats in the documentation: https://pandas.pydata.org/pandas-docs/stable/user_guide/indexing.html#returning-a-view-versus-a-copy\n",
      "/opt/conda/lib/python3.7/site-packages/ipykernel_launcher.py:32: SettingWithCopyWarning: \n",
      "A value is trying to be set on a copy of a slice from a DataFrame\n",
      "\n",
      "See the caveats in the documentation: https://pandas.pydata.org/pandas-docs/stable/user_guide/indexing.html#returning-a-view-versus-a-copy\n",
      "/opt/conda/lib/python3.7/site-packages/ipykernel_launcher.py:34: SettingWithCopyWarning: \n",
      "A value is trying to be set on a copy of a slice from a DataFrame\n",
      "\n",
      "See the caveats in the documentation: https://pandas.pydata.org/pandas-docs/stable/user_guide/indexing.html#returning-a-view-versus-a-copy\n"
     ]
    }
   ],
   "source": [
    "average_ages_per_title = train_df[['Title', 'Age']].groupby(['Title'], as_index=False).mean()\n",
    "std_dev_per_title = train_df[['Title', 'Age']].groupby(['Title'], as_index=False).std()\n",
    "average = train_df['Age'].mean()\n",
    "standard_deviation = test_df['Age'].std()\n",
    "\n",
    "print(std_dev_per_title)\n",
    "\n",
    "for i in range(len(train_df)):\n",
    "    if math.isnan(train_df['Age'][i]):\n",
    "        # if(train_df['Title'][i] == 'Other'):\n",
    "        #     rand_age = np.random.randint(average - standard_deviation, average + standard_deviation)\n",
    "        #     train_df['Age'][i] = rand_age\n",
    "        # else:\n",
    "        for j in range(len(average_ages_per_title)):\n",
    "            if train_df['Title'][i] == average_ages_per_title['Title'][j]:\n",
    "                if(not math.isnan(std_dev_per_title['Age'][j])):\n",
    "                    rand_age_title = np.random.randint(average_ages_per_title['Age'][j] - std_dev_per_title['Age'][j], average_ages_per_title['Age'][j] + std_dev_per_title['Age'][j])\n",
    "                    train_df['Age'][i] = rand_age_title\n",
    "                else:\n",
    "                    train_df['Age'][i] = average_ages_per_title['Age'][j]\n",
    "\n",
    "for i in range(len(test_df)):\n",
    "    if math.isnan(test_df['Age'][i]):\n",
    "        # if(test_df['Title'][i] == 'Other'):\n",
    "        #     rand_age = np.random.randint(average - standard_deviation, average + standard_deviation)\n",
    "        #     test_df['Age'][i] = rand_age\n",
    "        # else:\n",
    "        for j in range(len(average_ages_per_title)):\n",
    "            if test_df['Title'][i] == average_ages_per_title['Title'][j]:\n",
    "                if(not math.isnan(std_dev_per_title['Age'][j])):\n",
    "                    rand_age_title = np.random.randint(average_ages_per_title['Age'][j] - std_dev_per_title['Age'][j], average_ages_per_title['Age'][j] + std_dev_per_title['Age'][j])\n",
    "                    test_df['Age'][i] = rand_age_title\n",
    "                else:\n",
    "                    test_df['Age'][i] = average_ages_per_title['Age'][j]\n",
    "\n",
    "train_df['Age'] = train_df['Age'].astype(int)\n",
    "test_df['Age'] = test_df['Age'].astype(int)\n",
    "\n",
    "print(train_df[['Age', 'Survived']].groupby(['Age'], as_index=False).mean())"
   ]
  },
  {
   "cell_type": "markdown",
   "id": "77ba8aca",
   "metadata": {
    "papermill": {
     "duration": 0.015055,
     "end_time": "2022-06-14T13:26:25.309947",
     "exception": false,
     "start_time": "2022-06-14T13:26:25.294892",
     "status": "completed"
    },
    "tags": []
   },
   "source": [
    "#### Calculate missing Embarked values\n",
    "Since there are only two missing embark values (<1%), we will just fill these values with the most common Embark location: S\n",
    "It should be noted that the test data is not missing any Embark values."
   ]
  },
  {
   "cell_type": "code",
   "execution_count": 15,
   "id": "6da849ab",
   "metadata": {
    "execution": {
     "iopub.execute_input": "2022-06-14T13:26:25.342610Z",
     "iopub.status.busy": "2022-06-14T13:26:25.342233Z",
     "iopub.status.idle": "2022-06-14T13:26:25.349356Z",
     "shell.execute_reply": "2022-06-14T13:26:25.348308Z"
    },
    "papermill": {
     "duration": 0.026278,
     "end_time": "2022-06-14T13:26:25.351716",
     "exception": false,
     "start_time": "2022-06-14T13:26:25.325438",
     "status": "completed"
    },
    "tags": []
   },
   "outputs": [],
   "source": [
    "train_df['Embarked'].describe()\n",
    "train_df['Embarked'].fillna('S', inplace=True)"
   ]
  },
  {
   "cell_type": "markdown",
   "id": "840005c3",
   "metadata": {
    "papermill": {
     "duration": 0.015565,
     "end_time": "2022-06-14T13:26:25.383805",
     "exception": false,
     "start_time": "2022-06-14T13:26:25.368240",
     "status": "completed"
    },
    "tags": []
   },
   "source": [
    "#### Convert 'Fare' individual values to grouped data \n",
    "Binning helps deal with outliers"
   ]
  },
  {
   "cell_type": "code",
   "execution_count": 16,
   "id": "0c3766f9",
   "metadata": {
    "execution": {
     "iopub.execute_input": "2022-06-14T13:26:25.418035Z",
     "iopub.status.busy": "2022-06-14T13:26:25.417574Z",
     "iopub.status.idle": "2022-06-14T13:26:25.900523Z",
     "shell.execute_reply": "2022-06-14T13:26:25.899126Z"
    },
    "papermill": {
     "duration": 0.50312,
     "end_time": "2022-06-14T13:26:25.902875",
     "exception": false,
     "start_time": "2022-06-14T13:26:25.399755",
     "status": "completed"
    },
    "tags": []
   },
   "outputs": [
    {
     "name": "stdout",
     "output_type": "stream",
     "text": [
      "[  7.75       7.9104     9.84065   14.4542    24.479175  31.\n",
      "  69.4875   512.3292  ]\n"
     ]
    },
    {
     "name": "stderr",
     "output_type": "stream",
     "text": [
      "/opt/conda/lib/python3.7/site-packages/ipykernel_launcher.py:15: SettingWithCopyWarning: \n",
      "A value is trying to be set on a copy of a slice from a DataFrame\n",
      "\n",
      "See the caveats in the documentation: https://pandas.pydata.org/pandas-docs/stable/user_guide/indexing.html#returning-a-view-versus-a-copy\n",
      "  from ipykernel import kernelapp as app\n",
      "/opt/conda/lib/python3.7/site-packages/ipykernel_launcher.py:29: SettingWithCopyWarning: \n",
      "A value is trying to be set on a copy of a slice from a DataFrame\n",
      "\n",
      "See the caveats in the documentation: https://pandas.pydata.org/pandas-docs/stable/user_guide/indexing.html#returning-a-view-versus-a-copy\n",
      "/opt/conda/lib/python3.7/site-packages/ipykernel_launcher.py:19: SettingWithCopyWarning: \n",
      "A value is trying to be set on a copy of a slice from a DataFrame\n",
      "\n",
      "See the caveats in the documentation: https://pandas.pydata.org/pandas-docs/stable/user_guide/indexing.html#returning-a-view-versus-a-copy\n",
      "/opt/conda/lib/python3.7/site-packages/ipykernel_launcher.py:27: SettingWithCopyWarning: \n",
      "A value is trying to be set on a copy of a slice from a DataFrame\n",
      "\n",
      "See the caveats in the documentation: https://pandas.pydata.org/pandas-docs/stable/user_guide/indexing.html#returning-a-view-versus-a-copy\n",
      "/opt/conda/lib/python3.7/site-packages/ipykernel_launcher.py:23: SettingWithCopyWarning: \n",
      "A value is trying to be set on a copy of a slice from a DataFrame\n",
      "\n",
      "See the caveats in the documentation: https://pandas.pydata.org/pandas-docs/stable/user_guide/indexing.html#returning-a-view-versus-a-copy\n",
      "/opt/conda/lib/python3.7/site-packages/ipykernel_launcher.py:21: SettingWithCopyWarning: \n",
      "A value is trying to be set on a copy of a slice from a DataFrame\n",
      "\n",
      "See the caveats in the documentation: https://pandas.pydata.org/pandas-docs/stable/user_guide/indexing.html#returning-a-view-versus-a-copy\n",
      "/opt/conda/lib/python3.7/site-packages/ipykernel_launcher.py:25: SettingWithCopyWarning: \n",
      "A value is trying to be set on a copy of a slice from a DataFrame\n",
      "\n",
      "See the caveats in the documentation: https://pandas.pydata.org/pandas-docs/stable/user_guide/indexing.html#returning-a-view-versus-a-copy\n",
      "/opt/conda/lib/python3.7/site-packages/ipykernel_launcher.py:17: SettingWithCopyWarning: \n",
      "A value is trying to be set on a copy of a slice from a DataFrame\n",
      "\n",
      "See the caveats in the documentation: https://pandas.pydata.org/pandas-docs/stable/user_guide/indexing.html#returning-a-view-versus-a-copy\n",
      "  app.launch_new_instance()\n"
     ]
    },
    {
     "name": "stdout",
     "output_type": "stream",
     "text": [
      "   Fare  Survived\n",
      "0   0.0  0.207143\n",
      "1   1.0  0.180723\n",
      "2   2.0  0.198198\n",
      "3   3.0  0.407080\n",
      "4   4.0  0.436364\n",
      "5   5.0  0.473214\n",
      "6   6.0  0.481818\n",
      "7   7.0  0.678571\n"
     ]
    },
    {
     "name": "stderr",
     "output_type": "stream",
     "text": [
      "/opt/conda/lib/python3.7/site-packages/ipykernel_launcher.py:40: SettingWithCopyWarning: \n",
      "A value is trying to be set on a copy of a slice from a DataFrame\n",
      "\n",
      "See the caveats in the documentation: https://pandas.pydata.org/pandas-docs/stable/user_guide/indexing.html#returning-a-view-versus-a-copy\n",
      "/opt/conda/lib/python3.7/site-packages/ipykernel_launcher.py:38: SettingWithCopyWarning: \n",
      "A value is trying to be set on a copy of a slice from a DataFrame\n",
      "\n",
      "See the caveats in the documentation: https://pandas.pydata.org/pandas-docs/stable/user_guide/indexing.html#returning-a-view-versus-a-copy\n",
      "/opt/conda/lib/python3.7/site-packages/ipykernel_launcher.py:42: SettingWithCopyWarning: \n",
      "A value is trying to be set on a copy of a slice from a DataFrame\n",
      "\n",
      "See the caveats in the documentation: https://pandas.pydata.org/pandas-docs/stable/user_guide/indexing.html#returning-a-view-versus-a-copy\n",
      "/opt/conda/lib/python3.7/site-packages/ipykernel_launcher.py:44: SettingWithCopyWarning: \n",
      "A value is trying to be set on a copy of a slice from a DataFrame\n",
      "\n",
      "See the caveats in the documentation: https://pandas.pydata.org/pandas-docs/stable/user_guide/indexing.html#returning-a-view-versus-a-copy\n",
      "/opt/conda/lib/python3.7/site-packages/ipykernel_launcher.py:48: SettingWithCopyWarning: \n",
      "A value is trying to be set on a copy of a slice from a DataFrame\n",
      "\n",
      "See the caveats in the documentation: https://pandas.pydata.org/pandas-docs/stable/user_guide/indexing.html#returning-a-view-versus-a-copy\n",
      "/opt/conda/lib/python3.7/site-packages/ipykernel_launcher.py:46: SettingWithCopyWarning: \n",
      "A value is trying to be set on a copy of a slice from a DataFrame\n",
      "\n",
      "See the caveats in the documentation: https://pandas.pydata.org/pandas-docs/stable/user_guide/indexing.html#returning-a-view-versus-a-copy\n",
      "/opt/conda/lib/python3.7/site-packages/ipykernel_launcher.py:52: SettingWithCopyWarning: \n",
      "A value is trying to be set on a copy of a slice from a DataFrame\n",
      "\n",
      "See the caveats in the documentation: https://pandas.pydata.org/pandas-docs/stable/user_guide/indexing.html#returning-a-view-versus-a-copy\n",
      "/opt/conda/lib/python3.7/site-packages/ipykernel_launcher.py:50: SettingWithCopyWarning: \n",
      "A value is trying to be set on a copy of a slice from a DataFrame\n",
      "\n",
      "See the caveats in the documentation: https://pandas.pydata.org/pandas-docs/stable/user_guide/indexing.html#returning-a-view-versus-a-copy\n"
     ]
    }
   ],
   "source": [
    "# <12.5th percentile = 0\n",
    "# <25th percentile = 1\n",
    "# <37.5th percentile = 2\n",
    "# <50th percentile = 3\n",
    "# <62.5th percentile = 4 \n",
    "# <75th percentile = 5\n",
    "# <87.5th percentile = 6 \n",
    "# <100th percentile = 7\n",
    "\n",
    "percentile = np.quantile(train_df['Fare'], [0.125, 0.25, 0.375, 0.5, 0.625, 0.75, 0.875, 1])\n",
    "print(percentile)\n",
    "\n",
    "for i in range(len(train_df['Fare'])):\n",
    "    if train_df['Fare'][i] <= percentile[0]:\n",
    "        train_df['Fare'][i] = 0\n",
    "    elif train_df['Fare'][i] <= percentile[1]:\n",
    "        train_df['Fare'][i] = 1\n",
    "    elif train_df['Fare'][i] <= percentile[2]:\n",
    "        train_df['Fare'][i] = 2\n",
    "    elif train_df['Fare'][i] <= percentile[3]:\n",
    "        train_df['Fare'][i] = 3\n",
    "    elif train_df['Fare'][i] <= percentile[4]:\n",
    "        train_df['Fare'][i] = 4\n",
    "    elif train_df['Fare'][i] <= percentile[5]:\n",
    "        train_df['Fare'][i] = 5\n",
    "    elif train_df['Fare'][i] <= percentile[6]:\n",
    "        train_df['Fare'][i] = 6\n",
    "    elif train_df['Fare'][i] <= percentile[7]:\n",
    "        train_df['Fare'][i] = 7\n",
    "\n",
    "print(train_df[['Fare', 'Survived']].groupby(['Fare'], as_index=False).mean())\n",
    "\n",
    "# Fill in the two missing fare values with the average fare value\n",
    "test_df['Fare'].fillna(test_df['Fare'].dropna().median(), inplace=True)\n",
    "\n",
    "for i in range(len(test_df['Fare'])):\n",
    "    if test_df['Fare'][i] <= percentile[0]:\n",
    "        test_df['Fare'][i] = 0\n",
    "    elif test_df['Fare'][i] <= percentile[1]:\n",
    "        test_df['Fare'][i] = 1\n",
    "    elif test_df['Fare'][i] <= percentile[2]:\n",
    "        test_df['Fare'][i] = 2\n",
    "    elif test_df['Fare'][i] <= percentile[3]:\n",
    "        test_df['Fare'][i] = 3\n",
    "    elif test_df['Fare'][i] <= percentile[4]:\n",
    "        test_df['Fare'][i] = 4\n",
    "    elif test_df['Fare'][i] <= percentile[5]:\n",
    "        test_df['Fare'][i] = 5\n",
    "    elif test_df['Fare'][i] <= percentile[6]:\n",
    "        test_df['Fare'][i] = 6\n",
    "    elif test_df['Fare'][i] <= percentile[7]:\n",
    "        test_df['Fare'][i] = 7"
   ]
  },
  {
   "cell_type": "markdown",
   "id": "cc56eb24",
   "metadata": {
    "papermill": {
     "duration": 0.025818,
     "end_time": "2022-06-14T13:26:25.955450",
     "exception": false,
     "start_time": "2022-06-14T13:26:25.929632",
     "status": "completed"
    },
    "tags": []
   },
   "source": [
    "#### Convert 'Age' individual values to grouped data \n",
    "Binning helps deal with outliers"
   ]
  },
  {
   "cell_type": "code",
   "execution_count": 17,
   "id": "43b31cb8",
   "metadata": {
    "execution": {
     "iopub.execute_input": "2022-06-14T13:26:26.009682Z",
     "iopub.status.busy": "2022-06-14T13:26:26.009279Z",
     "iopub.status.idle": "2022-06-14T13:26:26.490715Z",
     "shell.execute_reply": "2022-06-14T13:26:26.489888Z"
    },
    "papermill": {
     "duration": 0.511646,
     "end_time": "2022-06-14T13:26:26.493089",
     "exception": false,
     "start_time": "2022-06-14T13:26:25.981443",
     "status": "completed"
    },
    "tags": []
   },
   "outputs": [
    {
     "name": "stderr",
     "output_type": "stream",
     "text": [
      "/opt/conda/lib/python3.7/site-packages/ipykernel_launcher.py:17: SettingWithCopyWarning: \n",
      "A value is trying to be set on a copy of a slice from a DataFrame\n",
      "\n",
      "See the caveats in the documentation: https://pandas.pydata.org/pandas-docs/stable/user_guide/indexing.html#returning-a-view-versus-a-copy\n",
      "  app.launch_new_instance()\n",
      "/opt/conda/lib/python3.7/site-packages/ipykernel_launcher.py:23: SettingWithCopyWarning: \n",
      "A value is trying to be set on a copy of a slice from a DataFrame\n",
      "\n",
      "See the caveats in the documentation: https://pandas.pydata.org/pandas-docs/stable/user_guide/indexing.html#returning-a-view-versus-a-copy\n",
      "/opt/conda/lib/python3.7/site-packages/ipykernel_launcher.py:19: SettingWithCopyWarning: \n",
      "A value is trying to be set on a copy of a slice from a DataFrame\n",
      "\n",
      "See the caveats in the documentation: https://pandas.pydata.org/pandas-docs/stable/user_guide/indexing.html#returning-a-view-versus-a-copy\n",
      "/opt/conda/lib/python3.7/site-packages/ipykernel_launcher.py:27: SettingWithCopyWarning: \n",
      "A value is trying to be set on a copy of a slice from a DataFrame\n",
      "\n",
      "See the caveats in the documentation: https://pandas.pydata.org/pandas-docs/stable/user_guide/indexing.html#returning-a-view-versus-a-copy\n",
      "/opt/conda/lib/python3.7/site-packages/ipykernel_launcher.py:13: SettingWithCopyWarning: \n",
      "A value is trying to be set on a copy of a slice from a DataFrame\n",
      "\n",
      "See the caveats in the documentation: https://pandas.pydata.org/pandas-docs/stable/user_guide/indexing.html#returning-a-view-versus-a-copy\n",
      "  del sys.path[0]\n",
      "/opt/conda/lib/python3.7/site-packages/ipykernel_launcher.py:15: SettingWithCopyWarning: \n",
      "A value is trying to be set on a copy of a slice from a DataFrame\n",
      "\n",
      "See the caveats in the documentation: https://pandas.pydata.org/pandas-docs/stable/user_guide/indexing.html#returning-a-view-versus-a-copy\n",
      "  from ipykernel import kernelapp as app\n",
      "/opt/conda/lib/python3.7/site-packages/ipykernel_launcher.py:25: SettingWithCopyWarning: \n",
      "A value is trying to be set on a copy of a slice from a DataFrame\n",
      "\n",
      "See the caveats in the documentation: https://pandas.pydata.org/pandas-docs/stable/user_guide/indexing.html#returning-a-view-versus-a-copy\n",
      "/opt/conda/lib/python3.7/site-packages/ipykernel_launcher.py:21: SettingWithCopyWarning: \n",
      "A value is trying to be set on a copy of a slice from a DataFrame\n",
      "\n",
      "See the caveats in the documentation: https://pandas.pydata.org/pandas-docs/stable/user_guide/indexing.html#returning-a-view-versus-a-copy\n",
      "/opt/conda/lib/python3.7/site-packages/ipykernel_launcher.py:43: SettingWithCopyWarning: \n",
      "A value is trying to be set on a copy of a slice from a DataFrame\n",
      "\n",
      "See the caveats in the documentation: https://pandas.pydata.org/pandas-docs/stable/user_guide/indexing.html#returning-a-view-versus-a-copy\n",
      "/opt/conda/lib/python3.7/site-packages/ipykernel_launcher.py:47: SettingWithCopyWarning: \n",
      "A value is trying to be set on a copy of a slice from a DataFrame\n",
      "\n",
      "See the caveats in the documentation: https://pandas.pydata.org/pandas-docs/stable/user_guide/indexing.html#returning-a-view-versus-a-copy\n",
      "/opt/conda/lib/python3.7/site-packages/ipykernel_launcher.py:39: SettingWithCopyWarning: \n",
      "A value is trying to be set on a copy of a slice from a DataFrame\n",
      "\n",
      "See the caveats in the documentation: https://pandas.pydata.org/pandas-docs/stable/user_guide/indexing.html#returning-a-view-versus-a-copy\n",
      "/opt/conda/lib/python3.7/site-packages/ipykernel_launcher.py:37: SettingWithCopyWarning: \n",
      "A value is trying to be set on a copy of a slice from a DataFrame\n",
      "\n",
      "See the caveats in the documentation: https://pandas.pydata.org/pandas-docs/stable/user_guide/indexing.html#returning-a-view-versus-a-copy\n",
      "/opt/conda/lib/python3.7/site-packages/ipykernel_launcher.py:33: SettingWithCopyWarning: \n",
      "A value is trying to be set on a copy of a slice from a DataFrame\n",
      "\n",
      "See the caveats in the documentation: https://pandas.pydata.org/pandas-docs/stable/user_guide/indexing.html#returning-a-view-versus-a-copy\n",
      "/opt/conda/lib/python3.7/site-packages/ipykernel_launcher.py:41: SettingWithCopyWarning: \n",
      "A value is trying to be set on a copy of a slice from a DataFrame\n",
      "\n",
      "See the caveats in the documentation: https://pandas.pydata.org/pandas-docs/stable/user_guide/indexing.html#returning-a-view-versus-a-copy\n",
      "/opt/conda/lib/python3.7/site-packages/ipykernel_launcher.py:35: SettingWithCopyWarning: \n",
      "A value is trying to be set on a copy of a slice from a DataFrame\n",
      "\n",
      "See the caveats in the documentation: https://pandas.pydata.org/pandas-docs/stable/user_guide/indexing.html#returning-a-view-versus-a-copy\n",
      "/opt/conda/lib/python3.7/site-packages/ipykernel_launcher.py:45: SettingWithCopyWarning: \n",
      "A value is trying to be set on a copy of a slice from a DataFrame\n",
      "\n",
      "See the caveats in the documentation: https://pandas.pydata.org/pandas-docs/stable/user_guide/indexing.html#returning-a-view-versus-a-copy\n"
     ]
    }
   ],
   "source": [
    "# <12.5th percentile = 0\n",
    "# <25th percentile = 1\n",
    "# <37.5th percentile = 2\n",
    "# <50th percentile = 3\n",
    "# <62.5th percentile = 4 \n",
    "# <75th percentile = 5\n",
    "# <87.5th percentile = 6 \n",
    "# <100th percentile = 7\n",
    "\n",
    "percentile_age = np.quantile(train_df['Age'], [0.125, 0.25, 0.375, 0.5, 0.625, 0.75, 0.875, 1])\n",
    "for i in range(len(train_df['Age'])):\n",
    "    if train_df['Age'][i] <= percentile_age[0]:\n",
    "        train_df['Age'][i] = 0\n",
    "    elif train_df['Age'][i] <= percentile_age[1]:\n",
    "        train_df['Age'][i] = 1\n",
    "    elif train_df['Age'][i] <= percentile_age[2]:\n",
    "        train_df['Age'][i] = 2\n",
    "    elif train_df['Age'][i] <= percentile_age[3]:\n",
    "        train_df['Age'][i] = 3\n",
    "    elif train_df['Age'][i] <= percentile_age[4]:\n",
    "        train_df['Age'][i] = 4\n",
    "    elif train_df['Age'][i] <= percentile_age[5]:\n",
    "        train_df['Age'][i] = 5\n",
    "    elif train_df['Age'][i] <= percentile_age[6]:\n",
    "        train_df['Age'][i] = 6\n",
    "    elif train_df['Age'][i] <= percentile_age[7]:\n",
    "        train_df['Age'][i] = 7\n",
    "\n",
    "# print(train_df[['Age', 'Survived']].groupby(['Age'], as_index=False).mean())\n",
    "\n",
    "for i in range(len(test_df['Age'])):\n",
    "    if test_df['Age'][i] <= percentile_age[0]:\n",
    "        test_df['Age'][i] = 0\n",
    "    elif test_df['Age'][i] <= percentile_age[1]:\n",
    "        test_df['Age'][i] = 1\n",
    "    elif test_df['Age'][i] <= percentile_age[2]:\n",
    "        test_df['Age'][i] = 2\n",
    "    elif test_df['Age'][i] <= percentile_age[3]:\n",
    "        test_df['Age'][i] = 3\n",
    "    elif test_df['Age'][i] <= percentile_age[4]:\n",
    "        test_df['Age'][i] = 4\n",
    "    elif test_df['Age'][i] <= percentile_age[5]:\n",
    "        test_df['Age'][i] = 5\n",
    "    elif test_df['Age'][i] <= percentile_age[6]:\n",
    "        test_df['Age'][i] = 6\n",
    "    elif test_df['Age'][i] <= percentile_age[7]:\n",
    "        test_df['Age'][i] = 7"
   ]
  },
  {
   "cell_type": "markdown",
   "id": "ff279534",
   "metadata": {
    "papermill": {
     "duration": 0.027069,
     "end_time": "2022-06-14T13:26:26.548096",
     "exception": false,
     "start_time": "2022-06-14T13:26:26.521027",
     "status": "completed"
    },
    "tags": []
   },
   "source": [
    "#### RESULTING DATA EXTRACTED: \n",
    "- Title: extracted from the Name column\n",
    "- NumRelatives: extracted by combining SibSp and Parch \n",
    "- Deck: extracted from the first letter of Cabin's\n",
    "\n",
    "#### RESULTING ASSUMPTIONS FOR EACH COLUMN: \n",
    "- PassengerId: dropped - no correlation to survival\n",
    "- Pclass: correlates to survival\n",
    "- Name: dropped - no correlation to survival without too complicated algorithms \n",
    "- Sex: correlates to survival, needs to be converted to number set\n",
    "- Age: correlates to survival, many missing values - needs to be completed\n",
    "- SibSp: dropped - too vague to correlate to survival without further complicated analysis\n",
    "- Parch: dropped - too vague to correlate to survival without further complicated analysis\n",
    "- Ticket: dropped - no correlation to survival, and high rate of duplication\n",
    "- Fare: converted into bands for better dealing of outliers\n",
    "- Cabin: dropped - no correlation to survival, and high rate of duplication and many missing values \n",
    "- Embarked: correlates to survival, needs to be completed"
   ]
  },
  {
   "cell_type": "markdown",
   "id": "6818c80f",
   "metadata": {
    "papermill": {
     "duration": 0.026627,
     "end_time": "2022-06-14T13:26:26.601923",
     "exception": false,
     "start_time": "2022-06-14T13:26:26.575296",
     "status": "completed"
    },
    "tags": []
   },
   "source": [
    "## Convert Categorical Column Values to Numerical Values\n",
    "#### Convert 'S', 'C' and 'Q' to numerical values for analysis"
   ]
  },
  {
   "cell_type": "code",
   "execution_count": 18,
   "id": "800a3314",
   "metadata": {
    "execution": {
     "iopub.execute_input": "2022-06-14T13:26:26.657086Z",
     "iopub.status.busy": "2022-06-14T13:26:26.656658Z",
     "iopub.status.idle": "2022-06-14T13:26:27.101691Z",
     "shell.execute_reply": "2022-06-14T13:26:27.100505Z"
    },
    "papermill": {
     "duration": 0.474642,
     "end_time": "2022-06-14T13:26:27.103326",
     "exception": false,
     "start_time": "2022-06-14T13:26:26.628684",
     "status": "completed"
    },
    "tags": []
   },
   "outputs": [
    {
     "name": "stdout",
     "output_type": "stream",
     "text": [
      "   Embarked  Survived\n",
      "0         1  0.553571\n",
      "1         2  0.389610\n",
      "2         3  0.339009\n"
     ]
    },
    {
     "name": "stderr",
     "output_type": "stream",
     "text": [
      "/opt/conda/lib/python3.7/site-packages/ipykernel_launcher.py:11: SettingWithCopyWarning: \n",
      "A value is trying to be set on a copy of a slice from a DataFrame\n",
      "\n",
      "See the caveats in the documentation: https://pandas.pydata.org/pandas-docs/stable/user_guide/indexing.html#returning-a-view-versus-a-copy\n",
      "  # This is added back by InteractiveShellApp.init_path()\n",
      "/opt/conda/lib/python3.7/site-packages/ipykernel_launcher.py:7: SettingWithCopyWarning: \n",
      "A value is trying to be set on a copy of a slice from a DataFrame\n",
      "\n",
      "See the caveats in the documentation: https://pandas.pydata.org/pandas-docs/stable/user_guide/indexing.html#returning-a-view-versus-a-copy\n",
      "  import sys\n",
      "/opt/conda/lib/python3.7/site-packages/ipykernel_launcher.py:9: SettingWithCopyWarning: \n",
      "A value is trying to be set on a copy of a slice from a DataFrame\n",
      "\n",
      "See the caveats in the documentation: https://pandas.pydata.org/pandas-docs/stable/user_guide/indexing.html#returning-a-view-versus-a-copy\n",
      "  if __name__ == \"__main__\":\n",
      "/opt/conda/lib/python3.7/site-packages/ipykernel_launcher.py:19: SettingWithCopyWarning: \n",
      "A value is trying to be set on a copy of a slice from a DataFrame\n",
      "\n",
      "See the caveats in the documentation: https://pandas.pydata.org/pandas-docs/stable/user_guide/indexing.html#returning-a-view-versus-a-copy\n",
      "/opt/conda/lib/python3.7/site-packages/ipykernel_launcher.py:21: SettingWithCopyWarning: \n",
      "A value is trying to be set on a copy of a slice from a DataFrame\n",
      "\n",
      "See the caveats in the documentation: https://pandas.pydata.org/pandas-docs/stable/user_guide/indexing.html#returning-a-view-versus-a-copy\n",
      "/opt/conda/lib/python3.7/site-packages/ipykernel_launcher.py:17: SettingWithCopyWarning: \n",
      "A value is trying to be set on a copy of a slice from a DataFrame\n",
      "\n",
      "See the caveats in the documentation: https://pandas.pydata.org/pandas-docs/stable/user_guide/indexing.html#returning-a-view-versus-a-copy\n",
      "  app.launch_new_instance()\n"
     ]
    }
   ],
   "source": [
    "cherbourg = 1 # C=1\n",
    "queenstown = 2 # Q=2\n",
    "southhampton = 3# S=3\n",
    "\n",
    "for i in range(len(train_df)):\n",
    "    if train_df['Embarked'][i] == 'C':\n",
    "        train_df['Embarked'][i] = cherbourg\n",
    "    elif train_df['Embarked'][i] == 'Q':\n",
    "        train_df['Embarked'][i] = queenstown    \n",
    "    elif train_df['Embarked'][i] == 'S':\n",
    "        train_df['Embarked'][i] = southhampton\n",
    "\n",
    "print(train_df[['Embarked', 'Survived']].groupby(['Embarked'], as_index=False).mean())\n",
    "\n",
    "for i in range(len(test_df)):\n",
    "    if test_df['Embarked'][i] == 'C':\n",
    "        test_df['Embarked'][i] = cherbourg\n",
    "    elif test_df['Embarked'][i] == 'Q':\n",
    "        test_df['Embarked'][i] = queenstown    \n",
    "    elif test_df['Embarked'][i] == 'S':\n",
    "        test_df['Embarked'][i] = southhampton"
   ]
  },
  {
   "cell_type": "markdown",
   "id": "6a5050dc",
   "metadata": {
    "papermill": {
     "duration": 0.027597,
     "end_time": "2022-06-14T13:26:27.147302",
     "exception": false,
     "start_time": "2022-06-14T13:26:27.119705",
     "status": "completed"
    },
    "tags": []
   },
   "source": [
    "#### Convert 'Titles' to numerical values for analysis"
   ]
  },
  {
   "cell_type": "code",
   "execution_count": 19,
   "id": "c3f510a0",
   "metadata": {
    "execution": {
     "iopub.execute_input": "2022-06-14T13:26:27.182013Z",
     "iopub.status.busy": "2022-06-14T13:26:27.181583Z",
     "iopub.status.idle": "2022-06-14T13:26:27.789589Z",
     "shell.execute_reply": "2022-06-14T13:26:27.788874Z"
    },
    "papermill": {
     "duration": 0.630063,
     "end_time": "2022-06-14T13:26:27.794039",
     "exception": false,
     "start_time": "2022-06-14T13:26:27.163976",
     "status": "completed"
    },
    "tags": []
   },
   "outputs": [
    {
     "name": "stdout",
     "output_type": "stream",
     "text": [
      "['Mr' 'Mrs' 'Miss' 'Master' 'Don' 'Rev' 'Dr' 'Mme' 'Ms' 'Major' 'Lady'\n",
      " 'Sir' 'Mlle' 'Col' 'Capt' 'Countess' 'Jonkheer']\n"
     ]
    },
    {
     "name": "stderr",
     "output_type": "stream",
     "text": [
      "/opt/conda/lib/python3.7/site-packages/ipykernel_launcher.py:19: SettingWithCopyWarning: \n",
      "A value is trying to be set on a copy of a slice from a DataFrame\n",
      "\n",
      "See the caveats in the documentation: https://pandas.pydata.org/pandas-docs/stable/user_guide/indexing.html#returning-a-view-versus-a-copy\n"
     ]
    },
    {
     "name": "stdout",
     "output_type": "stream",
     "text": [
      "    Title  Survived\n",
      "0       0  0.156673\n",
      "1       1  0.792000\n",
      "2       2  0.697802\n",
      "3       3  0.575000\n",
      "4       4  0.000000\n",
      "5       5  0.000000\n",
      "6       6  0.428571\n",
      "7       7  1.000000\n",
      "8       8  1.000000\n",
      "9       9  0.500000\n",
      "10     10  1.000000\n",
      "11     11  1.000000\n",
      "12     12  1.000000\n",
      "13     13  0.500000\n",
      "14     14  0.000000\n",
      "15     15  1.000000\n",
      "16     16  0.000000\n"
     ]
    },
    {
     "name": "stderr",
     "output_type": "stream",
     "text": [
      "/opt/conda/lib/python3.7/site-packages/ipykernel_launcher.py:27: SettingWithCopyWarning: \n",
      "A value is trying to be set on a copy of a slice from a DataFrame\n",
      "\n",
      "See the caveats in the documentation: https://pandas.pydata.org/pandas-docs/stable/user_guide/indexing.html#returning-a-view-versus-a-copy\n"
     ]
    }
   ],
   "source": [
    "# print(titles_updated)\n",
    "# for i in range(len(train_df)):\n",
    "#     for j in range(0, len(titles_updated)):\n",
    "#         if train_df['Title'][i] == titles_updated[j]:\n",
    "#             train_df['Title'][i] = j\n",
    "\n",
    "# print(train_df[['Title', 'Survived']].groupby(['Title'], as_index=False).mean())\n",
    "\n",
    "# for i in range(len(test_df)):\n",
    "#     for j in range(len(titles_updated)):\n",
    "#         if test_df['Title'][i] == titles_updated[j]:\n",
    "#             test_df['Title'][i] = j\n",
    "\n",
    "title_array = train_df['Title'].unique()\n",
    "print(title_array)\n",
    "for i in range(len(train_df)):\n",
    "    for j in range(0, len(title_array)):\n",
    "        if train_df['Title'][i] == title_array[j]:\n",
    "            train_df['Title'][i] = j\n",
    "\n",
    "print(train_df[['Title', 'Survived']].groupby(['Title'], as_index=False).mean())\n",
    "\n",
    "title_array_test = test_df['Title'].unique()\n",
    "for i in range(len(test_df)):\n",
    "    for j in range(len(title_array_test)):\n",
    "        if test_df['Title'][i] == title_array_test[j]:\n",
    "            test_df['Title'][i] = j"
   ]
  },
  {
   "cell_type": "markdown",
   "id": "8e55a8c1",
   "metadata": {
    "papermill": {
     "duration": 0.027049,
     "end_time": "2022-06-14T13:26:27.849206",
     "exception": false,
     "start_time": "2022-06-14T13:26:27.822157",
     "status": "completed"
    },
    "tags": []
   },
   "source": [
    "#### Convert 'Sex' to numerical values for analysis"
   ]
  },
  {
   "cell_type": "code",
   "execution_count": 20,
   "id": "3353aff6",
   "metadata": {
    "execution": {
     "iopub.execute_input": "2022-06-14T13:26:27.906527Z",
     "iopub.status.busy": "2022-06-14T13:26:27.906164Z",
     "iopub.status.idle": "2022-06-14T13:26:28.265501Z",
     "shell.execute_reply": "2022-06-14T13:26:28.264558Z"
    },
    "papermill": {
     "duration": 0.390369,
     "end_time": "2022-06-14T13:26:28.267807",
     "exception": false,
     "start_time": "2022-06-14T13:26:27.877438",
     "status": "completed"
    },
    "tags": []
   },
   "outputs": [
    {
     "name": "stdout",
     "output_type": "stream",
     "text": [
      "   Sex  Survived\n",
      "0    0  0.742038\n",
      "1    1  0.188908\n"
     ]
    },
    {
     "name": "stderr",
     "output_type": "stream",
     "text": [
      "/opt/conda/lib/python3.7/site-packages/ipykernel_launcher.py:5: SettingWithCopyWarning: \n",
      "A value is trying to be set on a copy of a slice from a DataFrame\n",
      "\n",
      "See the caveats in the documentation: https://pandas.pydata.org/pandas-docs/stable/user_guide/indexing.html#returning-a-view-versus-a-copy\n",
      "  \"\"\"\n",
      "/opt/conda/lib/python3.7/site-packages/ipykernel_launcher.py:3: SettingWithCopyWarning: \n",
      "A value is trying to be set on a copy of a slice from a DataFrame\n",
      "\n",
      "See the caveats in the documentation: https://pandas.pydata.org/pandas-docs/stable/user_guide/indexing.html#returning-a-view-versus-a-copy\n",
      "  This is separate from the ipykernel package so we can avoid doing imports until\n",
      "/opt/conda/lib/python3.7/site-packages/ipykernel_launcher.py:13: SettingWithCopyWarning: \n",
      "A value is trying to be set on a copy of a slice from a DataFrame\n",
      "\n",
      "See the caveats in the documentation: https://pandas.pydata.org/pandas-docs/stable/user_guide/indexing.html#returning-a-view-versus-a-copy\n",
      "  del sys.path[0]\n",
      "/opt/conda/lib/python3.7/site-packages/ipykernel_launcher.py:11: SettingWithCopyWarning: \n",
      "A value is trying to be set on a copy of a slice from a DataFrame\n",
      "\n",
      "See the caveats in the documentation: https://pandas.pydata.org/pandas-docs/stable/user_guide/indexing.html#returning-a-view-versus-a-copy\n",
      "  # This is added back by InteractiveShellApp.init_path()\n"
     ]
    }
   ],
   "source": [
    "for i in range(len(train_df)):\n",
    "    if train_df['Sex'][i] == 'female':\n",
    "        train_df['Sex'][i] = 0\n",
    "    elif train_df['Sex'][i] == 'male':\n",
    "        train_df['Sex'][i] = 1\n",
    "\n",
    "print(train_df[['Sex', 'Survived']].groupby(['Sex'], as_index=False).mean())\n",
    "\n",
    "for i in range(len(test_df)):\n",
    "    if test_df['Sex'][i] == 'female':\n",
    "        test_df['Sex'][i] = 0\n",
    "    elif test_df['Sex'][i] == 'male':\n",
    "        test_df['Sex'][i] = 1"
   ]
  },
  {
   "cell_type": "markdown",
   "id": "7ab40a57",
   "metadata": {
    "papermill": {
     "duration": 0.016296,
     "end_time": "2022-06-14T13:26:28.301587",
     "exception": false,
     "start_time": "2022-06-14T13:26:28.285291",
     "status": "completed"
    },
    "tags": []
   },
   "source": [
    "#### Fill in all blank values of test_db with 0"
   ]
  },
  {
   "cell_type": "markdown",
   "id": "5b00713d",
   "metadata": {
    "papermill": {
     "duration": 0.01621,
     "end_time": "2022-06-14T13:26:28.334229",
     "exception": false,
     "start_time": "2022-06-14T13:26:28.318019",
     "status": "completed"
    },
    "tags": []
   },
   "source": [
    "## Final Data Display"
   ]
  },
  {
   "cell_type": "code",
   "execution_count": 21,
   "id": "f99d29dc",
   "metadata": {
    "execution": {
     "iopub.execute_input": "2022-06-14T13:26:28.368995Z",
     "iopub.status.busy": "2022-06-14T13:26:28.368581Z",
     "iopub.status.idle": "2022-06-14T13:26:28.871270Z",
     "shell.execute_reply": "2022-06-14T13:26:28.870653Z"
    },
    "papermill": {
     "duration": 0.52225,
     "end_time": "2022-06-14T13:26:28.873145",
     "exception": false,
     "start_time": "2022-06-14T13:26:28.350895",
     "status": "completed"
    },
    "tags": []
   },
   "outputs": [
    {
     "data": {
      "image/png": "[encoded data removed]",
      "text/plain": [
       "<Figure size 432x288 with 1 Axes>"
      ]
     },
     "metadata": {
      "needs_background": "light"
     },
     "output_type": "display_data"
    },
    {
     "data": {
      "image/png": "[encoded data removed]",
      "text/plain": [
       "<Figure size 432x288 with 1 Axes>"
      ]
     },
     "metadata": {
      "needs_background": "light"
     },
     "output_type": "display_data"
    },
    {
     "data": {
      "image/png": "[encoded data removed]",
      "text/plain": [
       "<Figure size 432x288 with 1 Axes>"
      ]
     },
     "metadata": {
      "needs_background": "light"
     },
     "output_type": "display_data"
    }
   ],
   "source": [
    "cols = categorical_columns\n",
    "\n",
    "for i in range(0, len(cols)):\n",
    "    if(cols[i] != 'Survived'):\n",
    "        sns.countplot(x=train_df[cols[i]], hue=train_df[\"Survived\"])\n",
    "        plt.show()"
   ]
  },
  {
   "cell_type": "markdown",
   "id": "a4a5f834",
   "metadata": {
    "papermill": {
     "duration": 0.027706,
     "end_time": "2022-06-14T13:26:28.929099",
     "exception": false,
     "start_time": "2022-06-14T13:26:28.901393",
     "status": "completed"
    },
    "tags": []
   },
   "source": [
    "## Machine Learning Algorithm Implementation"
   ]
  },
  {
   "cell_type": "code",
   "execution_count": 22,
   "id": "7d511fd8",
   "metadata": {
    "execution": {
     "iopub.execute_input": "2022-06-14T13:26:28.988404Z",
     "iopub.status.busy": "2022-06-14T13:26:28.986732Z",
     "iopub.status.idle": "2022-06-14T13:26:28.997378Z",
     "shell.execute_reply": "2022-06-14T13:26:28.996545Z"
    },
    "papermill": {
     "duration": 0.041825,
     "end_time": "2022-06-14T13:26:28.999268",
     "exception": false,
     "start_time": "2022-06-14T13:26:28.957443",
     "status": "completed"
    },
    "tags": []
   },
   "outputs": [
    {
     "data": {
      "text/plain": [
       "((891, 9), (891,), (418, 9))"
      ]
     },
     "execution_count": 22,
     "metadata": {},
     "output_type": "execute_result"
    }
   ],
   "source": [
    "train_x = train_df.drop(\"Survived\", axis=1)\n",
    "train_y = train_df[\"Survived\"]\n",
    "test_x  = test_df.drop(\"PassengerId\", axis=1).copy()\n",
    "train_x.shape, train_y.shape, test_x.shape"
   ]
  },
  {
   "cell_type": "markdown",
   "id": "aa694cc7",
   "metadata": {
    "papermill": {
     "duration": 0.028906,
     "end_time": "2022-06-14T13:26:29.056938",
     "exception": false,
     "start_time": "2022-06-14T13:26:29.028032",
     "status": "completed"
    },
    "tags": []
   },
   "source": [
    "#### Logistic Regression"
   ]
  },
  {
   "cell_type": "code",
   "execution_count": 23,
   "id": "8f0871f8",
   "metadata": {
    "execution": {
     "iopub.execute_input": "2022-06-14T13:26:29.116557Z",
     "iopub.status.busy": "2022-06-14T13:26:29.116192Z",
     "iopub.status.idle": "2022-06-14T13:26:29.159735Z",
     "shell.execute_reply": "2022-06-14T13:26:29.158973Z"
    },
    "papermill": {
     "duration": 0.075359,
     "end_time": "2022-06-14T13:26:29.161914",
     "exception": false,
     "start_time": "2022-06-14T13:26:29.086555",
     "status": "completed"
    },
    "tags": []
   },
   "outputs": [
    {
     "data": {
      "text/plain": [
       "80.0224"
      ]
     },
     "execution_count": 23,
     "metadata": {},
     "output_type": "execute_result"
    }
   ],
   "source": [
    "logistic_regression = LogisticRegression()\n",
    "logistic_regression.fit(train_x, train_y)\n",
    "prediction_lr = logistic_regression.predict(test_x)\n",
    "accuracy_lr = round(logistic_regression.score(train_x, train_y) * 100, 4)\n",
    "accuracy_lr"
   ]
  },
  {
   "cell_type": "markdown",
   "id": "99e3967f",
   "metadata": {
    "papermill": {
     "duration": 0.017141,
     "end_time": "2022-06-14T13:26:29.197464",
     "exception": false,
     "start_time": "2022-06-14T13:26:29.180323",
     "status": "completed"
    },
    "tags": []
   },
   "source": [
    "#### KNN"
   ]
  },
  {
   "cell_type": "code",
   "execution_count": 24,
   "id": "e7e5d869",
   "metadata": {
    "execution": {
     "iopub.execute_input": "2022-06-14T13:26:29.234544Z",
     "iopub.status.busy": "2022-06-14T13:26:29.233676Z",
     "iopub.status.idle": "2022-06-14T13:26:29.280638Z",
     "shell.execute_reply": "2022-06-14T13:26:29.280082Z"
    },
    "papermill": {
     "duration": 0.067355,
     "end_time": "2022-06-14T13:26:29.282395",
     "exception": false,
     "start_time": "2022-06-14T13:26:29.215040",
     "status": "completed"
    },
    "tags": []
   },
   "outputs": [
    {
     "data": {
      "text/plain": [
       "86.6442"
      ]
     },
     "execution_count": 24,
     "metadata": {},
     "output_type": "execute_result"
    }
   ],
   "source": [
    "knn = KNeighborsClassifier(n_neighbors = 3)\n",
    "knn.fit(train_x, train_y)\n",
    "prediction_knn = knn.predict(test_x)\n",
    "accuracy_knn = round(knn.score(train_x, train_y) * 100, 4)\n",
    "accuracy_knn"
   ]
  },
  {
   "cell_type": "markdown",
   "id": "db08d3f2",
   "metadata": {
    "papermill": {
     "duration": 0.029289,
     "end_time": "2022-06-14T13:26:29.340861",
     "exception": false,
     "start_time": "2022-06-14T13:26:29.311572",
     "status": "completed"
    },
    "tags": []
   },
   "source": [
    "Gaussian Naive Bayes"
   ]
  },
  {
   "cell_type": "code",
   "execution_count": 25,
   "id": "6cb33d4b",
   "metadata": {
    "execution": {
     "iopub.execute_input": "2022-06-14T13:26:29.400638Z",
     "iopub.status.busy": "2022-06-14T13:26:29.400055Z",
     "iopub.status.idle": "2022-06-14T13:26:29.412427Z",
     "shell.execute_reply": "2022-06-14T13:26:29.411620Z"
    },
    "papermill": {
     "duration": 0.044507,
     "end_time": "2022-06-14T13:26:29.414527",
     "exception": false,
     "start_time": "2022-06-14T13:26:29.370020",
     "status": "completed"
    },
    "tags": []
   },
   "outputs": [
    {
     "data": {
      "text/plain": [
       "77.2166"
      ]
     },
     "execution_count": 25,
     "metadata": {},
     "output_type": "execute_result"
    }
   ],
   "source": [
    "gaussian = GaussianNB()\n",
    "gaussian.fit(train_x, train_y)\n",
    "prediction_gauss = gaussian.predict(test_x)\n",
    "accuracy_gauss = round(gaussian.score(train_x, train_y) * 100, 4)\n",
    "accuracy_gauss"
   ]
  },
  {
   "cell_type": "markdown",
   "id": "c10242db",
   "metadata": {
    "papermill": {
     "duration": 0.028471,
     "end_time": "2022-06-14T13:26:29.472487",
     "exception": false,
     "start_time": "2022-06-14T13:26:29.444016",
     "status": "completed"
    },
    "tags": []
   },
   "source": [
    "MLP"
   ]
  },
  {
   "cell_type": "code",
   "execution_count": 26,
   "id": "f3403caf",
   "metadata": {
    "execution": {
     "iopub.execute_input": "2022-06-14T13:26:29.530654Z",
     "iopub.status.busy": "2022-06-14T13:26:29.530270Z",
     "iopub.status.idle": "2022-06-14T13:26:30.382941Z",
     "shell.execute_reply": "2022-06-14T13:26:30.382242Z"
    },
    "papermill": {
     "duration": 0.884225,
     "end_time": "2022-06-14T13:26:30.385086",
     "exception": false,
     "start_time": "2022-06-14T13:26:29.500861",
     "status": "completed"
    },
    "tags": []
   },
   "outputs": [
    {
     "name": "stderr",
     "output_type": "stream",
     "text": [
      "/opt/conda/lib/python3.7/site-packages/sklearn/neural_network/_multilayer_perceptron.py:696: ConvergenceWarning: Stochastic Optimizer: Maximum iterations (200) reached and the optimization hasn't converged yet.\n",
      "  ConvergenceWarning,\n"
     ]
    },
    {
     "data": {
      "text/plain": [
       "84.624"
      ]
     },
     "execution_count": 26,
     "metadata": {},
     "output_type": "execute_result"
    }
   ],
   "source": [
    "mlp_classification = MLPClassifier() \n",
    "mlp_classification.fit(train_x, train_y)\n",
    "prediction_mlp = mlp_classification.predict(test_x)\n",
    "accuracy_mlp = round(mlp_classification.score(train_x, train_y) * 100, 4)\n",
    "accuracy_mlp"
   ]
  },
  {
   "cell_type": "markdown",
   "id": "fa8b015a",
   "metadata": {
    "papermill": {
     "duration": 0.034391,
     "end_time": "2022-06-14T13:26:30.454627",
     "exception": false,
     "start_time": "2022-06-14T13:26:30.420236",
     "status": "completed"
    },
    "tags": []
   },
   "source": [
    "## Logistic Regression Tuning"
   ]
  },
  {
   "cell_type": "markdown",
   "id": "9a2170d0",
   "metadata": {
    "papermill": {
     "duration": 0.029221,
     "end_time": "2022-06-14T13:26:30.518661",
     "exception": false,
     "start_time": "2022-06-14T13:26:30.489440",
     "status": "completed"
    },
    "tags": []
   },
   "source": [
    "#### Split Up Training Data"
   ]
  },
  {
   "cell_type": "code",
   "execution_count": 27,
   "id": "fc0cb2f6",
   "metadata": {
    "execution": {
     "iopub.execute_input": "2022-06-14T13:26:30.579392Z",
     "iopub.status.busy": "2022-06-14T13:26:30.578996Z",
     "iopub.status.idle": "2022-06-14T13:26:30.583398Z",
     "shell.execute_reply": "2022-06-14T13:26:30.582585Z"
    },
    "papermill": {
     "duration": 0.037954,
     "end_time": "2022-06-14T13:26:30.585961",
     "exception": false,
     "start_time": "2022-06-14T13:26:30.548007",
     "status": "completed"
    },
    "tags": []
   },
   "outputs": [],
   "source": [
    "## Should only testing data be used and data split? "
   ]
  },
  {
   "cell_type": "markdown",
   "id": "653ec28a",
   "metadata": {
    "papermill": {
     "duration": 0.029856,
     "end_time": "2022-06-14T13:26:30.646024",
     "exception": false,
     "start_time": "2022-06-14T13:26:30.616168",
     "status": "completed"
    },
    "tags": []
   },
   "source": [
    "#### Grid Search Method"
   ]
  },
  {
   "cell_type": "code",
   "execution_count": 28,
   "id": "796a2df6",
   "metadata": {
    "execution": {
     "iopub.execute_input": "2022-06-14T13:26:30.708665Z",
     "iopub.status.busy": "2022-06-14T13:26:30.707698Z",
     "iopub.status.idle": "2022-06-14T13:26:37.963462Z",
     "shell.execute_reply": "2022-06-14T13:26:37.962535Z"
    },
    "papermill": {
     "duration": 7.289421,
     "end_time": "2022-06-14T13:26:37.965868",
     "exception": false,
     "start_time": "2022-06-14T13:26:30.676447",
     "status": "completed"
    },
    "tags": []
   },
   "outputs": [
    {
     "name": "stderr",
     "output_type": "stream",
     "text": [
      "/opt/conda/lib/python3.7/site-packages/sklearn/linear_model/_sag.py:354: ConvergenceWarning: The max_iter was reached which means the coef_ did not converge\n",
      "  ConvergenceWarning,\n",
      "/opt/conda/lib/python3.7/site-packages/sklearn/linear_model/_sag.py:354: ConvergenceWarning: The max_iter was reached which means the coef_ did not converge\n",
      "  ConvergenceWarning,\n",
      "/opt/conda/lib/python3.7/site-packages/sklearn/linear_model/_sag.py:354: ConvergenceWarning: The max_iter was reached which means the coef_ did not converge\n",
      "  ConvergenceWarning,\n",
      "/opt/conda/lib/python3.7/site-packages/sklearn/linear_model/_sag.py:354: ConvergenceWarning: The max_iter was reached which means the coef_ did not converge\n",
      "  ConvergenceWarning,\n",
      "/opt/conda/lib/python3.7/site-packages/sklearn/linear_model/_sag.py:354: ConvergenceWarning: The max_iter was reached which means the coef_ did not converge\n",
      "  ConvergenceWarning,\n",
      "/opt/conda/lib/python3.7/site-packages/sklearn/linear_model/_sag.py:354: ConvergenceWarning: The max_iter was reached which means the coef_ did not converge\n",
      "  ConvergenceWarning,\n",
      "/opt/conda/lib/python3.7/site-packages/sklearn/linear_model/_sag.py:354: ConvergenceWarning: The max_iter was reached which means the coef_ did not converge\n",
      "  ConvergenceWarning,\n",
      "/opt/conda/lib/python3.7/site-packages/sklearn/linear_model/_sag.py:354: ConvergenceWarning: The max_iter was reached which means the coef_ did not converge\n",
      "  ConvergenceWarning,\n",
      "/opt/conda/lib/python3.7/site-packages/sklearn/linear_model/_sag.py:354: ConvergenceWarning: The max_iter was reached which means the coef_ did not converge\n",
      "  ConvergenceWarning,\n",
      "/opt/conda/lib/python3.7/site-packages/sklearn/linear_model/_sag.py:354: ConvergenceWarning: The max_iter was reached which means the coef_ did not converge\n",
      "  ConvergenceWarning,\n",
      "/opt/conda/lib/python3.7/site-packages/sklearn/linear_model/_sag.py:354: ConvergenceWarning: The max_iter was reached which means the coef_ did not converge\n",
      "  ConvergenceWarning,\n",
      "/opt/conda/lib/python3.7/site-packages/sklearn/linear_model/_sag.py:354: ConvergenceWarning: The max_iter was reached which means the coef_ did not converge\n",
      "  ConvergenceWarning,\n",
      "/opt/conda/lib/python3.7/site-packages/sklearn/linear_model/_sag.py:354: ConvergenceWarning: The max_iter was reached which means the coef_ did not converge\n",
      "  ConvergenceWarning,\n",
      "/opt/conda/lib/python3.7/site-packages/sklearn/linear_model/_sag.py:354: ConvergenceWarning: The max_iter was reached which means the coef_ did not converge\n",
      "  ConvergenceWarning,\n",
      "/opt/conda/lib/python3.7/site-packages/sklearn/linear_model/_sag.py:354: ConvergenceWarning: The max_iter was reached which means the coef_ did not converge\n",
      "  ConvergenceWarning,\n",
      "/opt/conda/lib/python3.7/site-packages/sklearn/linear_model/_sag.py:354: ConvergenceWarning: The max_iter was reached which means the coef_ did not converge\n",
      "  ConvergenceWarning,\n",
      "/opt/conda/lib/python3.7/site-packages/sklearn/linear_model/_sag.py:354: ConvergenceWarning: The max_iter was reached which means the coef_ did not converge\n",
      "  ConvergenceWarning,\n",
      "/opt/conda/lib/python3.7/site-packages/sklearn/linear_model/_sag.py:354: ConvergenceWarning: The max_iter was reached which means the coef_ did not converge\n",
      "  ConvergenceWarning,\n",
      "/opt/conda/lib/python3.7/site-packages/sklearn/linear_model/_sag.py:354: ConvergenceWarning: The max_iter was reached which means the coef_ did not converge\n",
      "  ConvergenceWarning,\n",
      "/opt/conda/lib/python3.7/site-packages/sklearn/linear_model/_sag.py:354: ConvergenceWarning: The max_iter was reached which means the coef_ did not converge\n",
      "  ConvergenceWarning,\n",
      "/opt/conda/lib/python3.7/site-packages/sklearn/linear_model/_sag.py:354: ConvergenceWarning: The max_iter was reached which means the coef_ did not converge\n",
      "  ConvergenceWarning,\n",
      "/opt/conda/lib/python3.7/site-packages/sklearn/linear_model/_sag.py:354: ConvergenceWarning: The max_iter was reached which means the coef_ did not converge\n",
      "  ConvergenceWarning,\n",
      "/opt/conda/lib/python3.7/site-packages/sklearn/linear_model/_sag.py:354: ConvergenceWarning: The max_iter was reached which means the coef_ did not converge\n",
      "  ConvergenceWarning,\n",
      "/opt/conda/lib/python3.7/site-packages/sklearn/linear_model/_sag.py:354: ConvergenceWarning: The max_iter was reached which means the coef_ did not converge\n",
      "  ConvergenceWarning,\n",
      "/opt/conda/lib/python3.7/site-packages/sklearn/linear_model/_sag.py:354: ConvergenceWarning: The max_iter was reached which means the coef_ did not converge\n",
      "  ConvergenceWarning,\n",
      "/opt/conda/lib/python3.7/site-packages/sklearn/linear_model/_sag.py:354: ConvergenceWarning: The max_iter was reached which means the coef_ did not converge\n",
      "  ConvergenceWarning,\n",
      "/opt/conda/lib/python3.7/site-packages/sklearn/linear_model/_sag.py:354: ConvergenceWarning: The max_iter was reached which means the coef_ did not converge\n",
      "  ConvergenceWarning,\n",
      "/opt/conda/lib/python3.7/site-packages/sklearn/linear_model/_sag.py:354: ConvergenceWarning: The max_iter was reached which means the coef_ did not converge\n",
      "  ConvergenceWarning,\n",
      "/opt/conda/lib/python3.7/site-packages/sklearn/linear_model/_sag.py:354: ConvergenceWarning: The max_iter was reached which means the coef_ did not converge\n",
      "  ConvergenceWarning,\n",
      "/opt/conda/lib/python3.7/site-packages/sklearn/linear_model/_sag.py:354: ConvergenceWarning: The max_iter was reached which means the coef_ did not converge\n",
      "  ConvergenceWarning,\n",
      "/opt/conda/lib/python3.7/site-packages/sklearn/linear_model/_sag.py:354: ConvergenceWarning: The max_iter was reached which means the coef_ did not converge\n",
      "  ConvergenceWarning,\n",
      "/opt/conda/lib/python3.7/site-packages/sklearn/linear_model/_sag.py:354: ConvergenceWarning: The max_iter was reached which means the coef_ did not converge\n",
      "  ConvergenceWarning,\n",
      "/opt/conda/lib/python3.7/site-packages/sklearn/linear_model/_sag.py:354: ConvergenceWarning: The max_iter was reached which means the coef_ did not converge\n",
      "  ConvergenceWarning,\n",
      "/opt/conda/lib/python3.7/site-packages/sklearn/linear_model/_sag.py:354: ConvergenceWarning: The max_iter was reached which means the coef_ did not converge\n",
      "  ConvergenceWarning,\n",
      "/opt/conda/lib/python3.7/site-packages/sklearn/linear_model/_sag.py:354: ConvergenceWarning: The max_iter was reached which means the coef_ did not converge\n",
      "  ConvergenceWarning,\n",
      "/opt/conda/lib/python3.7/site-packages/sklearn/linear_model/_sag.py:354: ConvergenceWarning: The max_iter was reached which means the coef_ did not converge\n",
      "  ConvergenceWarning,\n",
      "/opt/conda/lib/python3.7/site-packages/sklearn/linear_model/_sag.py:354: ConvergenceWarning: The max_iter was reached which means the coef_ did not converge\n",
      "  ConvergenceWarning,\n",
      "/opt/conda/lib/python3.7/site-packages/sklearn/linear_model/_sag.py:354: ConvergenceWarning: The max_iter was reached which means the coef_ did not converge\n",
      "  ConvergenceWarning,\n",
      "/opt/conda/lib/python3.7/site-packages/sklearn/linear_model/_sag.py:354: ConvergenceWarning: The max_iter was reached which means the coef_ did not converge\n",
      "  ConvergenceWarning,\n",
      "/opt/conda/lib/python3.7/site-packages/sklearn/linear_model/_sag.py:354: ConvergenceWarning: The max_iter was reached which means the coef_ did not converge\n",
      "  ConvergenceWarning,\n",
      "/opt/conda/lib/python3.7/site-packages/sklearn/linear_model/_sag.py:354: ConvergenceWarning: The max_iter was reached which means the coef_ did not converge\n",
      "  ConvergenceWarning,\n",
      "/opt/conda/lib/python3.7/site-packages/sklearn/linear_model/_sag.py:354: ConvergenceWarning: The max_iter was reached which means the coef_ did not converge\n",
      "  ConvergenceWarning,\n",
      "/opt/conda/lib/python3.7/site-packages/sklearn/linear_model/_sag.py:354: ConvergenceWarning: The max_iter was reached which means the coef_ did not converge\n",
      "  ConvergenceWarning,\n",
      "/opt/conda/lib/python3.7/site-packages/sklearn/linear_model/_sag.py:354: ConvergenceWarning: The max_iter was reached which means the coef_ did not converge\n",
      "  ConvergenceWarning,\n",
      "/opt/conda/lib/python3.7/site-packages/sklearn/linear_model/_sag.py:354: ConvergenceWarning: The max_iter was reached which means the coef_ did not converge\n",
      "  ConvergenceWarning,\n",
      "/opt/conda/lib/python3.7/site-packages/sklearn/linear_model/_sag.py:354: ConvergenceWarning: The max_iter was reached which means the coef_ did not converge\n",
      "  ConvergenceWarning,\n"
     ]
    },
    {
     "name": "stdout",
     "output_type": "stream",
     "text": [
      "Best parameters according to Grid Search: \n",
      " {'C': 0.5, 'max_iter': 200, 'solver': 'saga'}\n"
     ]
    },
    {
     "name": "stderr",
     "output_type": "stream",
     "text": [
      "/opt/conda/lib/python3.7/site-packages/sklearn/linear_model/_sag.py:354: ConvergenceWarning: The max_iter was reached which means the coef_ did not converge\n",
      "  ConvergenceWarning,\n"
     ]
    }
   ],
   "source": [
    "parameters = {\n",
    "    'solver':  ['liblinear', 'lbfgs', 'newton-cg', 'sag', 'saga'],\n",
    "    'C': [0.001, 0.05, 0.1, 0.5, 1, 10, 100, 1000],\n",
    "    'max_iter': [100, 200, 300, 400, 500, 600]\n",
    "}\n",
    "clf = GridSearchCV(logistic_regression, parameters, n_jobs=-1, cv=3)\n",
    "clf.fit(train_x, train_y)\n",
    "\n",
    "print('Best parameters according to Grid Search: \\n', clf.best_params_)"
   ]
  },
  {
   "cell_type": "markdown",
   "id": "de86a5c5",
   "metadata": {
    "papermill": {
     "duration": 0.029051,
     "end_time": "2022-06-14T13:26:38.024467",
     "exception": false,
     "start_time": "2022-06-14T13:26:37.995416",
     "status": "completed"
    },
    "tags": []
   },
   "source": [
    "#### Random Search Method"
   ]
  },
  {
   "cell_type": "code",
   "execution_count": 29,
   "id": "f9ac65b4",
   "metadata": {
    "execution": {
     "iopub.execute_input": "2022-06-14T13:26:38.086060Z",
     "iopub.status.busy": "2022-06-14T13:26:38.085188Z",
     "iopub.status.idle": "2022-06-14T13:26:38.977802Z",
     "shell.execute_reply": "2022-06-14T13:26:38.976986Z"
    },
    "papermill": {
     "duration": 0.925418,
     "end_time": "2022-06-14T13:26:38.979440",
     "exception": false,
     "start_time": "2022-06-14T13:26:38.054022",
     "status": "completed"
    },
    "tags": []
   },
   "outputs": [
    {
     "name": "stdout",
     "output_type": "stream",
     "text": [
      "Best parameters according to Randomized Search: \n",
      " {'C': 64, 'max_iter': 732}\n"
     ]
    }
   ],
   "source": [
    "parameters = {\n",
    "    'C': sp_randInt(0.001, 100),\n",
    "    'max_iter': sp_randInt(100, 1000)\n",
    "}\n",
    "\n",
    "clf = RandomizedSearchCV(logistic_regression, parameters, n_jobs=-1, cv=10)\n",
    "clf.fit(train_x, train_y)\n",
    "\n",
    "print('Best parameters according to Randomized Search: \\n', clf.best_params_)"
   ]
  },
  {
   "cell_type": "markdown",
   "id": "add7f17a",
   "metadata": {
    "papermill": {
     "duration": 0.017802,
     "end_time": "2022-06-14T13:26:39.015983",
     "exception": false,
     "start_time": "2022-06-14T13:26:38.998181",
     "status": "completed"
    },
    "tags": []
   },
   "source": [
    "#### Training and Validation Accuracy Curves "
   ]
  },
  {
   "cell_type": "markdown",
   "id": "c3cb310b",
   "metadata": {
    "papermill": {
     "duration": 0.018139,
     "end_time": "2022-06-14T13:26:39.052117",
     "exception": false,
     "start_time": "2022-06-14T13:26:39.033978",
     "status": "completed"
    },
    "tags": []
   },
   "source": [
    "##### Hyperparameter C"
   ]
  },
  {
   "cell_type": "code",
   "execution_count": 30,
   "id": "37a73981",
   "metadata": {
    "execution": {
     "iopub.execute_input": "2022-06-14T13:26:39.114114Z",
     "iopub.status.busy": "2022-06-14T13:26:39.113334Z",
     "iopub.status.idle": "2022-06-14T13:26:40.631374Z",
     "shell.execute_reply": "2022-06-14T13:26:40.630722Z"
    },
    "papermill": {
     "duration": 1.551744,
     "end_time": "2022-06-14T13:26:40.633300",
     "exception": false,
     "start_time": "2022-06-14T13:26:39.081556",
     "status": "completed"
    },
    "tags": []
   },
   "outputs": [
    {
     "data": {
      "text/plain": [
       "Text(0.5, 1.0, 'Training and Validation Accuracy')"
      ]
     },
     "execution_count": 30,
     "metadata": {},
     "output_type": "execute_result"
    },
    {
     "data": {
      "image/png": "[encoded data removed]",
      "text/plain": [
       "<Figure size 432x288 with 1 Axes>"
      ]
     },
     "metadata": {
      "needs_background": "light"
     },
     "output_type": "display_data"
    }
   ],
   "source": [
    "pipeline = make_pipeline(StandardScaler(), LogisticRegression())\n",
    "\n",
    "c_values = [0.001, 0.05, 0.1, 0.5, 1, 10, 100, 1000]\n",
    "\n",
    "# different values for C, inverse of regularization strength, minimises model's overfitting, if model is more complex regularization will reduce the error due to variance\n",
    "# penalty: type of regularization\n",
    "# solver: algorithm used for optimization: 'liblinear', 'lbfgs', 'newton-cg', 'sag', 'saga'\n",
    "# max_iter\n",
    "\n",
    "train_results, validation_results = validation_curve(pipeline, train_x, train_y, cv = 10, param_name = 'logisticregression__C', param_range = c_values, scoring = \"accuracy\")\n",
    "\n",
    "train_results_mean = np.mean(train_results, axis = 1)\n",
    "validation_results_mean = np.mean(validation_results, axis = 1)\n",
    "\n",
    "plt.plot(c_values, train_results_mean, color='blue', label='Training Accuracy')\n",
    "plt.plot(c_values, validation_results_mean, color='green', label='Validation Accuracy')\n",
    "plt.xlabel('Different Values for Parameter C')\n",
    "plt.ylabel('Accuracy')\n",
    "plt.legend()\n",
    "plt.title('Training and Validation Accuracy')"
   ]
  },
  {
   "cell_type": "markdown",
   "id": "cec2cde9",
   "metadata": {
    "papermill": {
     "duration": 0.029873,
     "end_time": "2022-06-14T13:26:40.693477",
     "exception": false,
     "start_time": "2022-06-14T13:26:40.663604",
     "status": "completed"
    },
    "tags": []
   },
   "source": [
    "##### Hyperparameter Solver"
   ]
  },
  {
   "cell_type": "code",
   "execution_count": 31,
   "id": "898c165a",
   "metadata": {
    "execution": {
     "iopub.execute_input": "2022-06-14T13:26:40.755733Z",
     "iopub.status.busy": "2022-06-14T13:26:40.755218Z",
     "iopub.status.idle": "2022-06-14T13:26:41.560489Z",
     "shell.execute_reply": "2022-06-14T13:26:41.559876Z"
    },
    "papermill": {
     "duration": 0.838967,
     "end_time": "2022-06-14T13:26:41.562585",
     "exception": false,
     "start_time": "2022-06-14T13:26:40.723618",
     "status": "completed"
    },
    "tags": []
   },
   "outputs": [
    {
     "data": {
      "text/plain": [
       "Text(0.5, 1.0, 'Training and Validation Accuracy')"
      ]
     },
     "execution_count": 31,
     "metadata": {},
     "output_type": "execute_result"
    },
    {
     "data": {
      "image/png": "[encoded data removed]",
      "text/plain": [
       "<Figure size 432x288 with 1 Axes>"
      ]
     },
     "metadata": {
      "needs_background": "light"
     },
     "output_type": "display_data"
    }
   ],
   "source": [
    "pipeline = make_pipeline(StandardScaler(), LogisticRegression())\n",
    "\n",
    "solver_values = ['liblinear', 'lbfgs', 'newton-cg', 'sag', 'saga']\n",
    "\n",
    "train_results, validation_results = validation_curve(pipeline, train_x, train_y, cv = 10, param_name = 'logisticregression__solver', param_range = solver_values, scoring = \"accuracy\")\n",
    "\n",
    "train_results_mean = np.mean(train_results, axis = 1)\n",
    "validation_results_mean = np.mean(validation_results, axis = 1)\n",
    "\n",
    "plt.plot(solver_values, train_results_mean, color='blue', label='Training Accuracy')\n",
    "plt.plot(solver_values, validation_results_mean, color='green', label='Validation Accuracy')\n",
    "plt.xlabel('Different Values for Parameter Solver')\n",
    "plt.ylabel('Accuracy')\n",
    "plt.legend()\n",
    "plt.title('Training and Validation Accuracy')"
   ]
  },
  {
   "cell_type": "markdown",
   "id": "2e51fdb5",
   "metadata": {
    "papermill": {
     "duration": 0.03113,
     "end_time": "2022-06-14T13:26:41.626165",
     "exception": false,
     "start_time": "2022-06-14T13:26:41.595035",
     "status": "completed"
    },
    "tags": []
   },
   "source": [
    "##### Hyperparameter max_iter"
   ]
  },
  {
   "cell_type": "code",
   "execution_count": 32,
   "id": "f61c982d",
   "metadata": {
    "execution": {
     "iopub.execute_input": "2022-06-14T13:26:41.690246Z",
     "iopub.status.busy": "2022-06-14T13:26:41.689424Z",
     "iopub.status.idle": "2022-06-14T13:26:42.615671Z",
     "shell.execute_reply": "2022-06-14T13:26:42.614533Z"
    },
    "papermill": {
     "duration": 0.960568,
     "end_time": "2022-06-14T13:26:42.617843",
     "exception": false,
     "start_time": "2022-06-14T13:26:41.657275",
     "status": "completed"
    },
    "tags": []
   },
   "outputs": [
    {
     "data": {
      "text/plain": [
       "Text(0.5, 1.0, 'Training and Validation Accuracy')"
      ]
     },
     "execution_count": 32,
     "metadata": {},
     "output_type": "execute_result"
    },
    {
     "data": {
      "image/png": "[encoded data removed]",
      "text/plain": [
       "<Figure size 432x288 with 1 Axes>"
      ]
     },
     "metadata": {
      "needs_background": "light"
     },
     "output_type": "display_data"
    }
   ],
   "source": [
    "pipeline = make_pipeline(StandardScaler(), LogisticRegression())\n",
    "\n",
    "max_iter_values =  [100, 200, 300, 400, 500, 600]\n",
    "\n",
    "train_results, validation_results = validation_curve(pipeline, train_x, train_y, cv = 10, param_name = 'logisticregression__max_iter', param_range = max_iter_values, scoring = \"accuracy\")\n",
    "\n",
    "train_results_mean = np.mean(train_results, axis = 1)\n",
    "validation_results_mean = np.mean(validation_results, axis = 1)\n",
    "\n",
    "plt.plot(max_iter_values , train_results_mean, color='blue', label='Training Accuracy')\n",
    "plt.plot(max_iter_values , validation_results_mean, color='green', label='Validation Accuracy')\n",
    "plt.xlabel('Different Values for Parameter Max_Iter')\n",
    "plt.ylabel('Accuracy')\n",
    "plt.legend()\n",
    "plt.title('Training and Validation Accuracy')"
   ]
  },
  {
   "cell_type": "markdown",
   "id": "c7709cd7",
   "metadata": {
    "papermill": {
     "duration": 0.030799,
     "end_time": "2022-06-14T13:26:42.680372",
     "exception": false,
     "start_time": "2022-06-14T13:26:42.649573",
     "status": "completed"
    },
    "tags": []
   },
   "source": [
    "#### Training and Validation Loss Curves"
   ]
  },
  {
   "cell_type": "markdown",
   "id": "0127494b",
   "metadata": {
    "papermill": {
     "duration": 0.030656,
     "end_time": "2022-06-14T13:26:42.742350",
     "exception": false,
     "start_time": "2022-06-14T13:26:42.711694",
     "status": "completed"
    },
    "tags": []
   },
   "source": [
    "##### Hyperparameter C"
   ]
  },
  {
   "cell_type": "code",
   "execution_count": 33,
   "id": "2aee0d2a",
   "metadata": {
    "execution": {
     "iopub.execute_input": "2022-06-14T13:26:42.806507Z",
     "iopub.status.busy": "2022-06-14T13:26:42.805909Z",
     "iopub.status.idle": "2022-06-14T13:26:43.971064Z",
     "shell.execute_reply": "2022-06-14T13:26:43.970017Z"
    },
    "papermill": {
     "duration": 1.199979,
     "end_time": "2022-06-14T13:26:43.973515",
     "exception": false,
     "start_time": "2022-06-14T13:26:42.773536",
     "status": "completed"
    },
    "tags": []
   },
   "outputs": [
    {
     "data": {
      "text/plain": [
       "Text(0.5, 1.0, 'Training and Validation Loss Curve')"
      ]
     },
     "execution_count": 33,
     "metadata": {},
     "output_type": "execute_result"
    },
    {
     "data": {
      "image/png": "[encoded data removed]",
      "text/plain": [
       "<Figure size 432x288 with 1 Axes>"
      ]
     },
     "metadata": {
      "needs_background": "light"
     },
     "output_type": "display_data"
    }
   ],
   "source": [
    "pipeline = make_pipeline(StandardScaler(), LogisticRegression())\n",
    "\n",
    "c_values = [0.001, 0.05, 0.1, 0.5, 1, 10, 100, 1000] # play around with these values for better graph\n",
    "\n",
    "train_results, validation_results = validation_curve(pipeline, train_x, train_y, cv = 10, param_name = 'logisticregression__C', param_range = c_values, scoring=\"accuracy\")\n",
    "\n",
    "train_errors_mean = 1-np.mean(train_results, axis = 1) # convert accuracy to misclassification rate (ie loss)\n",
    "validation_errors_mean = 1-np.mean(validation_results , axis = 1)\n",
    "\n",
    "\n",
    "plt.plot(c_values, train_errors_mean, label=\"Training Loss\")\n",
    "plt.plot(c_values, validation_errors_mean, label=\"Validation Loss\")\n",
    "plt.legend()\n",
    "\n",
    "plt.xlabel('Different Values for Parameter C')\n",
    "plt.ylabel('Absolute Error/Loss')\n",
    "plt.title('Training and Validation Loss Curve')"
   ]
  },
  {
   "cell_type": "markdown",
   "id": "b5b5bed7",
   "metadata": {
    "papermill": {
     "duration": 0.031845,
     "end_time": "2022-06-14T13:26:44.037273",
     "exception": false,
     "start_time": "2022-06-14T13:26:44.005428",
     "status": "completed"
    },
    "tags": []
   },
   "source": [
    "##### Hyperparameter Solver"
   ]
  },
  {
   "cell_type": "code",
   "execution_count": 34,
   "id": "0d1a5a44",
   "metadata": {
    "execution": {
     "iopub.execute_input": "2022-06-14T13:26:44.103417Z",
     "iopub.status.busy": "2022-06-14T13:26:44.102973Z",
     "iopub.status.idle": "2022-06-14T13:26:45.192127Z",
     "shell.execute_reply": "2022-06-14T13:26:45.191171Z"
    },
    "papermill": {
     "duration": 1.125332,
     "end_time": "2022-06-14T13:26:45.194456",
     "exception": false,
     "start_time": "2022-06-14T13:26:44.069124",
     "status": "completed"
    },
    "tags": []
   },
   "outputs": [
    {
     "data": {
      "text/plain": [
       "Text(0.5, 1.0, 'Training and Validation Loss Curve')"
      ]
     },
     "execution_count": 34,
     "metadata": {},
     "output_type": "execute_result"
    },
    {
     "data": {
      "image/png": "[encoded data removed]",
      "text/plain": [
       "<Figure size 432x288 with 1 Axes>"
      ]
     },
     "metadata": {
      "needs_background": "light"
     },
     "output_type": "display_data"
    }
   ],
   "source": [
    "pipeline = make_pipeline(StandardScaler(), LogisticRegression())\n",
    "\n",
    "solver_values = ['liblinear', 'lbfgs', 'newton-cg', 'sag', 'saga']# play around with these values for better graph\n",
    "\n",
    "train_results, validation_results = validation_curve(pipeline, train_x, train_y, cv = 10, param_name = 'logisticregression__solver', param_range = solver_values, scoring=\"accuracy\")\n",
    "\n",
    "train_errors_mean = 1-np.mean(train_results, axis = 1) # convert accuracy to misclassification rate (ie loss)\n",
    "validation_errors_mean = 1-np.mean(validation_results , axis = 1)\n",
    "\n",
    "\n",
    "plt.plot(solver_values, train_errors_mean, label=\"Training Loss\")\n",
    "plt.plot(solver_values, validation_errors_mean, label=\"Validation Loss\")\n",
    "plt.legend()\n",
    "\n",
    "plt.xlabel('Different Values for Parameter C')\n",
    "plt.ylabel('Absolute Error/Loss')\n",
    "plt.title('Training and Validation Loss Curve')"
   ]
  },
  {
   "cell_type": "markdown",
   "id": "f1f6a527",
   "metadata": {
    "papermill": {
     "duration": 0.031961,
     "end_time": "2022-06-14T13:26:45.259596",
     "exception": false,
     "start_time": "2022-06-14T13:26:45.227635",
     "status": "completed"
    },
    "tags": []
   },
   "source": [
    "##### Hyperparameter max_iter"
   ]
  },
  {
   "cell_type": "code",
   "execution_count": 35,
   "id": "57e58f69",
   "metadata": {
    "execution": {
     "iopub.execute_input": "2022-06-14T13:26:45.325657Z",
     "iopub.status.busy": "2022-06-14T13:26:45.324767Z",
     "iopub.status.idle": "2022-06-14T13:26:46.628016Z",
     "shell.execute_reply": "2022-06-14T13:26:46.627031Z"
    },
    "papermill": {
     "duration": 1.337976,
     "end_time": "2022-06-14T13:26:46.629543",
     "exception": false,
     "start_time": "2022-06-14T13:26:45.291567",
     "status": "completed"
    },
    "tags": []
   },
   "outputs": [
    {
     "data": {
      "text/plain": [
       "Text(0.5, 1.0, 'Training and Validation Loss Curve')"
      ]
     },
     "execution_count": 35,
     "metadata": {},
     "output_type": "execute_result"
    },
    {
     "data": {
      "image/png": "[encoded data removed]",
      "text/plain": [
       "<Figure size 432x288 with 1 Axes>"
      ]
     },
     "metadata": {
      "needs_background": "light"
     },
     "output_type": "display_data"
    }
   ],
   "source": [
    "pipeline = make_pipeline(StandardScaler(), LogisticRegression())\n",
    "\n",
    "max_iter_values =  [100, 200, 300, 400, 500, 600]# play around with these values for better graph\n",
    "\n",
    "train_results, validation_results = validation_curve(pipeline, train_x, train_y, cv = 10, param_name = 'logisticregression__max_iter', param_range = max_iter_values, scoring=\"accuracy\")\n",
    "\n",
    "train_errors_mean = 1-np.mean(train_results, axis = 1) # convert accuracy to misclassification rate (ie loss)\n",
    "validation_errors_mean = 1-np.mean(validation_results , axis = 1)\n",
    "\n",
    "\n",
    "plt.plot(max_iter_values, train_errors_mean, label=\"Training Loss\")\n",
    "plt.plot(max_iter_values, validation_errors_mean, label=\"Validation Loss\")\n",
    "plt.legend()\n",
    "\n",
    "plt.xlabel('Different Values for Parameter C')\n",
    "plt.ylabel('Absolute Error/Loss')\n",
    "plt.title('Training and Validation Loss Curve')"
   ]
  },
  {
   "cell_type": "markdown",
   "id": "8d3865ff",
   "metadata": {
    "papermill": {
     "duration": 0.019223,
     "end_time": "2022-06-14T13:26:46.668295",
     "exception": false,
     "start_time": "2022-06-14T13:26:46.649072",
     "status": "completed"
    },
    "tags": []
   },
   "source": [
    "#### Cross Validation"
   ]
  },
  {
   "cell_type": "markdown",
   "id": "c6ff82ac",
   "metadata": {
    "papermill": {
     "duration": 0.019047,
     "end_time": "2022-06-14T13:26:46.706908",
     "exception": false,
     "start_time": "2022-06-14T13:26:46.687861",
     "status": "completed"
    },
    "tags": []
   },
   "source": [
    "##### K-Fold Cross Validation for More Accurate Error Estimation"
   ]
  },
  {
   "cell_type": "code",
   "execution_count": 36,
   "id": "c7086023",
   "metadata": {
    "execution": {
     "iopub.execute_input": "2022-06-14T13:26:46.747954Z",
     "iopub.status.busy": "2022-06-14T13:26:46.747198Z",
     "iopub.status.idle": "2022-06-14T13:26:46.751667Z",
     "shell.execute_reply": "2022-06-14T13:26:46.751183Z"
    },
    "papermill": {
     "duration": 0.026805,
     "end_time": "2022-06-14T13:26:46.753124",
     "exception": false,
     "start_time": "2022-06-14T13:26:46.726319",
     "status": "completed"
    },
    "tags": []
   },
   "outputs": [],
   "source": [
    "def cross_validation(logistic_regression, param):\n",
    "    kf = KFold(n_splits = 5)\n",
    "    results = cross_val_score(logistic_regression, train_x, train_y, cv = kf)  # iterates and splits up data for you\n",
    "    error = 1 - results.mean()\n",
    "    print('Avg error for ' + str(param) +': ' + format(error))\n",
    "    return error\n"
   ]
  },
  {
   "cell_type": "markdown",
   "id": "9d1d9eaa",
   "metadata": {
    "papermill": {
     "duration": 0.019843,
     "end_time": "2022-06-14T13:26:46.792522",
     "exception": false,
     "start_time": "2022-06-14T13:26:46.772679",
     "status": "completed"
    },
    "tags": []
   },
   "source": [
    "#### Training Error For Logistic Regression Using Cross Validation"
   ]
  },
  {
   "cell_type": "markdown",
   "id": "b7abde0b",
   "metadata": {
    "papermill": {
     "duration": 0.019428,
     "end_time": "2022-06-14T13:26:46.831745",
     "exception": false,
     "start_time": "2022-06-14T13:26:46.812317",
     "status": "completed"
    },
    "tags": []
   },
   "source": [
    "##### Hyperparameter C"
   ]
  },
  {
   "cell_type": "code",
   "execution_count": 37,
   "id": "7b480ef7",
   "metadata": {
    "execution": {
     "iopub.execute_input": "2022-06-14T13:26:46.872603Z",
     "iopub.status.busy": "2022-06-14T13:26:46.872182Z",
     "iopub.status.idle": "2022-06-14T13:26:47.967972Z",
     "shell.execute_reply": "2022-06-14T13:26:47.967091Z"
    },
    "papermill": {
     "duration": 1.118392,
     "end_time": "2022-06-14T13:26:47.969855",
     "exception": false,
     "start_time": "2022-06-14T13:26:46.851463",
     "status": "completed"
    },
    "tags": []
   },
   "outputs": [
    {
     "name": "stdout",
     "output_type": "stream",
     "text": [
      "Avg error for 0.001: 0.30076580252338203\n",
      "Avg error for 0.05: 0.2188374866612265\n",
      "Avg error for 0.1: 0.21433682756889083\n",
      "Avg error for 0.5: 0.2076266398845018\n",
      "Avg error for 1: 0.2098612767560103\n",
      "Avg error for 10: 0.20873768125039227\n",
      "Avg error for 100: 0.20762036281463803\n",
      "Avg error for 1000: 0.20762036281463803\n"
     ]
    },
    {
     "data": {
      "text/plain": [
       "Text(0.5, 1.0, 'Training and Validation Error Curve')"
      ]
     },
     "execution_count": 37,
     "metadata": {},
     "output_type": "execute_result"
    },
    {
     "data": {
      "image/png": "[encoded data removed]",
      "text/plain": [
       "<Figure size 432x288 with 1 Axes>"
      ]
     },
     "metadata": {
      "needs_background": "light"
     },
     "output_type": "display_data"
    }
   ],
   "source": [
    "errors = []\n",
    "c_values = [0.001, 0.05, 0.1, 0.5, 1, 10, 100, 1000] \n",
    "for x in range(8):\n",
    "    logistic_regression = LogisticRegression(C = c_values[x])\n",
    "    error = cross_validation(logistic_regression, c_values[x])\n",
    "    errors.append(error)\n",
    "\n",
    "plt.plot(c_values, errors)\n",
    "plt.xlabel('Different Values for Parameter C')\n",
    "plt.ylabel('Error')\n",
    "plt.title('Training and Validation Error Curve')"
   ]
  },
  {
   "cell_type": "markdown",
   "id": "0a88f959",
   "metadata": {
    "papermill": {
     "duration": 0.021224,
     "end_time": "2022-06-14T13:26:48.015593",
     "exception": false,
     "start_time": "2022-06-14T13:26:47.994369",
     "status": "completed"
    },
    "tags": []
   },
   "source": [
    "##### Hyperparameter Solver"
   ]
  },
  {
   "cell_type": "code",
   "execution_count": 38,
   "id": "a39fb060",
   "metadata": {
    "execution": {
     "iopub.execute_input": "2022-06-14T13:26:48.058686Z",
     "iopub.status.busy": "2022-06-14T13:26:48.058321Z",
     "iopub.status.idle": "2022-06-14T13:26:48.642744Z",
     "shell.execute_reply": "2022-06-14T13:26:48.641838Z"
    },
    "papermill": {
     "duration": 0.608764,
     "end_time": "2022-06-14T13:26:48.645371",
     "exception": false,
     "start_time": "2022-06-14T13:26:48.036607",
     "status": "completed"
    },
    "tags": []
   },
   "outputs": [
    {
     "name": "stdout",
     "output_type": "stream",
     "text": [
      "Avg error for liblinear: 0.20986755382587408\n",
      "Avg error for lbfgs: 0.2098612767560103\n",
      "Avg error for newton-cg: 0.2098612767560103\n"
     ]
    },
    {
     "name": "stderr",
     "output_type": "stream",
     "text": [
      "/opt/conda/lib/python3.7/site-packages/sklearn/linear_model/_sag.py:354: ConvergenceWarning: The max_iter was reached which means the coef_ did not converge\n",
      "  ConvergenceWarning,\n",
      "/opt/conda/lib/python3.7/site-packages/sklearn/linear_model/_sag.py:354: ConvergenceWarning: The max_iter was reached which means the coef_ did not converge\n",
      "  ConvergenceWarning,\n",
      "/opt/conda/lib/python3.7/site-packages/sklearn/linear_model/_sag.py:354: ConvergenceWarning: The max_iter was reached which means the coef_ did not converge\n",
      "  ConvergenceWarning,\n",
      "/opt/conda/lib/python3.7/site-packages/sklearn/linear_model/_sag.py:354: ConvergenceWarning: The max_iter was reached which means the coef_ did not converge\n",
      "  ConvergenceWarning,\n",
      "/opt/conda/lib/python3.7/site-packages/sklearn/linear_model/_sag.py:354: ConvergenceWarning: The max_iter was reached which means the coef_ did not converge\n",
      "  ConvergenceWarning,\n",
      "/opt/conda/lib/python3.7/site-packages/sklearn/linear_model/_sag.py:354: ConvergenceWarning: The max_iter was reached which means the coef_ did not converge\n",
      "  ConvergenceWarning,\n",
      "/opt/conda/lib/python3.7/site-packages/sklearn/linear_model/_sag.py:354: ConvergenceWarning: The max_iter was reached which means the coef_ did not converge\n",
      "  ConvergenceWarning,\n",
      "/opt/conda/lib/python3.7/site-packages/sklearn/linear_model/_sag.py:354: ConvergenceWarning: The max_iter was reached which means the coef_ did not converge\n",
      "  ConvergenceWarning,\n"
     ]
    },
    {
     "name": "stdout",
     "output_type": "stream",
     "text": [
      "Avg error for sag: 0.21211474483711013\n",
      "Avg error for saga: 0.20875023539011983\n"
     ]
    },
    {
     "name": "stderr",
     "output_type": "stream",
     "text": [
      "/opt/conda/lib/python3.7/site-packages/sklearn/linear_model/_sag.py:354: ConvergenceWarning: The max_iter was reached which means the coef_ did not converge\n",
      "  ConvergenceWarning,\n",
      "/opt/conda/lib/python3.7/site-packages/sklearn/linear_model/_sag.py:354: ConvergenceWarning: The max_iter was reached which means the coef_ did not converge\n",
      "  ConvergenceWarning,\n"
     ]
    },
    {
     "data": {
      "text/plain": [
       "Text(0.5, 1.0, 'Training and Validation Error Curve')"
      ]
     },
     "execution_count": 38,
     "metadata": {},
     "output_type": "execute_result"
    },
    {
     "data": {
      "image/png": "[encoded data removed]",
      "text/plain": [
       "<Figure size 432x288 with 1 Axes>"
      ]
     },
     "metadata": {
      "needs_background": "light"
     },
     "output_type": "display_data"
    }
   ],
   "source": [
    "errors = []\n",
    "solver_values =  ['liblinear', 'lbfgs', 'newton-cg', 'sag', 'saga']\n",
    "for x in range(5):\n",
    "    logistic_regression = LogisticRegression(solver = solver_values[x])\n",
    "    error = cross_validation(logistic_regression, solver_values[x])\n",
    "    errors.append(error)\n",
    "\n",
    "plt.plot(solver_values, errors)\n",
    "plt.xlabel('Different Values for Parameter Solver')\n",
    "plt.ylabel('Error')\n",
    "plt.title('Training and Validation Error Curve')"
   ]
  },
  {
   "cell_type": "markdown",
   "id": "6df66ff3",
   "metadata": {
    "papermill": {
     "duration": 0.020736,
     "end_time": "2022-06-14T13:26:48.691908",
     "exception": false,
     "start_time": "2022-06-14T13:26:48.671172",
     "status": "completed"
    },
    "tags": []
   },
   "source": [
    "##### Hyperparameter max_iter"
   ]
  },
  {
   "cell_type": "code",
   "execution_count": 39,
   "id": "e2e87087",
   "metadata": {
    "execution": {
     "iopub.execute_input": "2022-06-14T13:26:48.735634Z",
     "iopub.status.busy": "2022-06-14T13:26:48.735018Z",
     "iopub.status.idle": "2022-06-14T13:26:49.390703Z",
     "shell.execute_reply": "2022-06-14T13:26:49.389984Z"
    },
    "papermill": {
     "duration": 0.679758,
     "end_time": "2022-06-14T13:26:49.392526",
     "exception": false,
     "start_time": "2022-06-14T13:26:48.712768",
     "status": "completed"
    },
    "tags": []
   },
   "outputs": [
    {
     "name": "stdout",
     "output_type": "stream",
     "text": [
      "Avg error for 100: 0.2098612767560103\n",
      "Avg error for 200: 0.2098612767560103\n",
      "Avg error for 300: 0.2098612767560103\n",
      "Avg error for 400: 0.2098612767560103\n",
      "Avg error for 500: 0.2098612767560103\n",
      "Avg error for 600: 0.2098612767560103\n"
     ]
    },
    {
     "data": {
      "text/plain": [
       "Text(0.5, 1.0, 'Training and Validation Error Curve')"
      ]
     },
     "execution_count": 39,
     "metadata": {},
     "output_type": "execute_result"
    },
    {
     "data": {
      "image/png": "[encoded data removed]",
      "text/plain": [
       "<Figure size 432x288 with 1 Axes>"
      ]
     },
     "metadata": {
      "needs_background": "light"
     },
     "output_type": "display_data"
    }
   ],
   "source": [
    "errors = []\n",
    "max_iter_values =  [100, 200, 300, 400, 500, 600]\n",
    "for x in range(6):\n",
    "    logistic_regression = LogisticRegression(max_iter = max_iter_values[x])\n",
    "    error = cross_validation(logistic_regression, max_iter_values[x])\n",
    "    errors.append(error)\n",
    "\n",
    "plt.plot(max_iter_values, errors)\n",
    "plt.xlabel('Different Values for Parameter Solver')\n",
    "plt.ylabel('Error')\n",
    "plt.title('Training and Validation Error Curve')"
   ]
  },
  {
   "cell_type": "markdown",
   "id": "79949387",
   "metadata": {
    "papermill": {
     "duration": 0.021317,
     "end_time": "2022-06-14T13:26:49.438174",
     "exception": false,
     "start_time": "2022-06-14T13:26:49.416857",
     "status": "completed"
    },
    "tags": []
   },
   "source": [
    "Calculate the most accurate method"
   ]
  },
  {
   "cell_type": "code",
   "execution_count": 40,
   "id": "cb9de430",
   "metadata": {
    "execution": {
     "iopub.execute_input": "2022-06-14T13:26:49.496639Z",
     "iopub.status.busy": "2022-06-14T13:26:49.496157Z",
     "iopub.status.idle": "2022-06-14T13:26:49.509436Z",
     "shell.execute_reply": "2022-06-14T13:26:49.508508Z"
    },
    "papermill": {
     "duration": 0.051062,
     "end_time": "2022-06-14T13:26:49.511195",
     "exception": false,
     "start_time": "2022-06-14T13:26:49.460133",
     "status": "completed"
    },
    "tags": []
   },
   "outputs": [
    {
     "name": "stdout",
     "output_type": "stream",
     "text": [
      "MODEL\t\t\tACCURACY\n",
      "Logistic Regression\t80.0224\n",
      "KNN\t\t\t86.6442\n",
      "Gaussian NB\t\t77.2166\n",
      "MLP\t\t\t84.624\n",
      "\n"
     ]
    }
   ],
   "source": [
    "prediction_array = [prediction_lr, prediction_knn, prediction_gauss, prediction_mlp]\n",
    "accuracy_array = [accuracy_lr, accuracy_knn, accuracy_gauss, accuracy_mlp]\n",
    "model_names_array = ['Logistic Regression', 'KNN', 'Gaussian NB', 'MLP']\n",
    "\n",
    "print('MODEL', end = '\\t\\t\\t')\n",
    "print('ACCURACY')\n",
    "for i in range(0, len(prediction_array)):\n",
    "    if len(model_names_array[i]) > 14:\n",
    "        end = '\\t'\n",
    "    elif len(model_names_array[i]) > 7:\n",
    "        end = '\\t\\t'\n",
    "    else:\n",
    "        end = '\\t\\t\\t'\n",
    "    print(model_names_array[i], end = end)\n",
    "    print(accuracy_array[i])\n",
    "    \n",
    "# max_accuracy = max(accuracy_array)\n",
    "# max_index = accuracy_array.index(max_accuracy)\n",
    "print()\n",
    "# print(\"SUBMITTED MODEL: \", end='')\n",
    "# print(model_names_array[max_index])\n",
    "\n",
    "# submission = pd.DataFrame({\n",
    "#         \"PassengerId\": test_df[\"PassengerId\"],\n",
    "#         \"Survived\": prediction_array[max_index]\n",
    "#     })\n",
    "submission = pd.DataFrame({\n",
    "        \"PassengerId\": test_df[\"PassengerId\"],\n",
    "        \"Survived\": prediction_lr\n",
    "    })\n",
    "\n",
    "submission.to_csv('./submission.csv', index=False)"
   ]
  }
 ],
 "metadata": {
  "kernelspec": {
   "display_name": "Python 3",
   "language": "python",
   "name": "python3"
  },
  "language_info": {
   "codemirror_mode": {
    "name": "ipython",
    "version": 3
   },
   "file_extension": ".py",
   "mimetype": "text/x-python",
   "name": "python",
   "nbconvert_exporter": "python",
   "pygments_lexer": "ipython3",
   "version": "3.7.12"
  },
  "papermill": {
   "default_parameters": {},
   "duration": 40.841052,
   "end_time": "2022-06-14T13:26:52.153741",
   "environment_variables": {},
   "exception": null,
   "input_path": "__notebook__.ipynb",
   "output_path": "__notebook__.ipynb",
   "parameters": {},
   "start_time": "2022-06-14T13:26:11.312689",
   "version": "2.3.4"
  }
 },
 "nbformat": 4,
 "nbformat_minor": 5
}
