{
 "cells": [
  {
   "cell_type": "markdown",
   "id": "c26dc86f",
   "metadata": {
    "papermill": {
     "duration": 0.028032,
     "end_time": "2022-06-14T17:59:47.600879",
     "exception": false,
     "start_time": "2022-06-14T17:59:47.572847",
     "status": "completed"
    },
    "tags": []
   },
   "source": [
    "# Software Engineering Project - Titanic ML from Disaster\n",
    "Jesse van der Merwe - 1829172\n",
    "\n",
    "Robyn Gebbie - 2127777\n",
    "\n",
    "https://www.kaggle.com/robynjesse"
   ]
  },
  {
   "cell_type": "markdown",
   "id": "dc22fe6b",
   "metadata": {
    "papermill": {
     "duration": 0.01868,
     "end_time": "2022-06-14T17:59:47.638749",
     "exception": false,
     "start_time": "2022-06-14T17:59:47.620069",
     "status": "completed"
    },
    "tags": []
   },
   "source": [
    "## Introduction\n",
    "This notebook serves to document the code submitted for both the ELEN4009 exam and Titanic Machine Learning competition. \n",
    "\n",
    "The Titanic ML competition uses machine learning to create a model that predicts which passengers survived the Titanic shipwreck. \n",
    "\n",
    "The following steps will be taken: \n",
    "- Data analysis \n",
    "- Choice of ML\n",
    "- ML Tuning\n",
    "- Competition submisison "
   ]
  },
  {
   "cell_type": "markdown",
   "id": "d27e86d3",
   "metadata": {
    "papermill": {
     "duration": 0.017266,
     "end_time": "2022-06-14T17:59:47.673270",
     "exception": false,
     "start_time": "2022-06-14T17:59:47.656004",
     "status": "completed"
    },
    "tags": []
   },
   "source": [
    "## Imports and data input"
   ]
  },
  {
   "cell_type": "code",
   "execution_count": 1,
   "id": "537e95b7",
   "metadata": {
    "execution": {
     "iopub.execute_input": "2022-06-14T17:59:47.709328Z",
     "iopub.status.busy": "2022-06-14T17:59:47.708723Z",
     "iopub.status.idle": "2022-06-14T17:59:49.204619Z",
     "shell.execute_reply": "2022-06-14T17:59:49.203465Z"
    },
    "papermill": {
     "duration": 1.517133,
     "end_time": "2022-06-14T17:59:49.207285",
     "exception": false,
     "start_time": "2022-06-14T17:59:47.690152",
     "status": "completed"
    },
    "tags": []
   },
   "outputs": [],
   "source": [
    "# IMPORTS\n",
    "import numpy as np\n",
    "import pandas as pd\n",
    "import seaborn as sns\n",
    "import matplotlib.pyplot as plt\n",
    "import math\n",
    "from sklearn.linear_model import LogisticRegression\n",
    "from sklearn.neighbors import KNeighborsClassifier\n",
    "from sklearn.naive_bayes import GaussianNB\n",
    "from sklearn.neural_network import MLPClassifier\n",
    "from sklearn.model_selection import train_test_split\n",
    "from sklearn.model_selection import GridSearchCV\n",
    "from sklearn.model_selection import RandomizedSearchCV\n",
    "from sklearn.preprocessing import StandardScaler\n",
    "from sklearn.model_selection import validation_curve\n",
    "from sklearn.pipeline import make_pipeline\n",
    "from sklearn.model_selection import KFold\n",
    "from sklearn.model_selection import cross_val_score\n",
    "from scipy.stats import uniform as sp_randFloat\n",
    "from scipy.stats import randint as sp_randInt\n",
    "\n",
    "\n",
    "# testing and testing data input\n",
    "train_df = pd.read_csv('../input/titanic/train.csv')\n",
    "test_df = pd.read_csv('../input/titanic/test.csv')"
   ]
  },
  {
   "cell_type": "markdown",
   "id": "c9cfa47a",
   "metadata": {
    "papermill": {
     "duration": 0.016245,
     "end_time": "2022-06-14T17:59:49.240565",
     "exception": false,
     "start_time": "2022-06-14T17:59:49.224320",
     "status": "completed"
    },
    "tags": []
   },
   "source": [
    "## Analyzing the data"
   ]
  },
  {
   "cell_type": "code",
   "execution_count": 2,
   "id": "c77403d0",
   "metadata": {
    "execution": {
     "iopub.execute_input": "2022-06-14T17:59:49.275917Z",
     "iopub.status.busy": "2022-06-14T17:59:49.275529Z",
     "iopub.status.idle": "2022-06-14T17:59:49.294794Z",
     "shell.execute_reply": "2022-06-14T17:59:49.294076Z"
    },
    "papermill": {
     "duration": 0.039952,
     "end_time": "2022-06-14T17:59:49.297456",
     "exception": false,
     "start_time": "2022-06-14T17:59:49.257504",
     "status": "completed"
    },
    "tags": []
   },
   "outputs": [
    {
     "name": "stdout",
     "output_type": "stream",
     "text": [
      "     PassengerId  Survived  Pclass  \\\n",
      "0              1         0       3   \n",
      "1              2         1       1   \n",
      "2              3         1       3   \n",
      "3              4         1       1   \n",
      "4              5         0       3   \n",
      "..           ...       ...     ...   \n",
      "886          887         0       2   \n",
      "887          888         1       1   \n",
      "888          889         0       3   \n",
      "889          890         1       1   \n",
      "890          891         0       3   \n",
      "\n",
      "                                                  Name     Sex   Age  SibSp  \\\n",
      "0                              Braund, Mr. Owen Harris    male  22.0      1   \n",
      "1    Cumings, Mrs. John Bradley (Florence Briggs Th...  female  38.0      1   \n",
      "2                               Heikkinen, Miss. Laina  female  26.0      0   \n",
      "3         Futrelle, Mrs. Jacques Heath (Lily May Peel)  female  35.0      1   \n",
      "4                             Allen, Mr. William Henry    male  35.0      0   \n",
      "..                                                 ...     ...   ...    ...   \n",
      "886                              Montvila, Rev. Juozas    male  27.0      0   \n",
      "887                       Graham, Miss. Margaret Edith  female  19.0      0   \n",
      "888           Johnston, Miss. Catherine Helen \"Carrie\"  female   NaN      1   \n",
      "889                              Behr, Mr. Karl Howell    male  26.0      0   \n",
      "890                                Dooley, Mr. Patrick    male  32.0      0   \n",
      "\n",
      "     Parch            Ticket     Fare Cabin Embarked  \n",
      "0        0         A/5 21171   7.2500   NaN        S  \n",
      "1        0          PC 17599  71.2833   C85        C  \n",
      "2        0  STON/O2. 3101282   7.9250   NaN        S  \n",
      "3        0            113803  53.1000  C123        S  \n",
      "4        0            373450   8.0500   NaN        S  \n",
      "..     ...               ...      ...   ...      ...  \n",
      "886      0            211536  13.0000   NaN        S  \n",
      "887      0            112053  30.0000   B42        S  \n",
      "888      2        W./C. 6607  23.4500   NaN        S  \n",
      "889      0            111369  30.0000  C148        C  \n",
      "890      0            370376   7.7500   NaN        Q  \n",
      "\n",
      "[891 rows x 12 columns]\n"
     ]
    }
   ],
   "source": [
    "# Lets take a look at the data\n",
    "print(train_df)"
   ]
  },
  {
   "cell_type": "markdown",
   "id": "3a3498a0",
   "metadata": {
    "papermill": {
     "duration": 0.017311,
     "end_time": "2022-06-14T17:59:49.333516",
     "exception": false,
     "start_time": "2022-06-14T17:59:49.316205",
     "status": "completed"
    },
    "tags": []
   },
   "source": [
    "#### Column data analysis \n",
    "- PassengerId: ID of passenger\n",
    "- Survived: Whether passenger survived or not (0=no, 1=yes)\n",
    "- Pclass: Ticket class (1=1st/Upper, 2=2nd/Middle, 3=3rd/Lower)\n",
    "- Name: Name of passenger\n",
    "- Sex: Sex of passenger\n",
    "- Age: Age of passenger (in years, fractional if less than 1)\n",
    "- SibSp: Number of siblings/spouses aboard the Titanic \n",
    "- Parch: Number of parents/children aboard the Titanic \n",
    "- Ticket: Ticket number (mixed alphanumeric and numeric data type)\n",
    "- Fare: Passenger fare\n",
    "- Cabin: Cabin number (alphanumeric data type)\n",
    "- Embarked: Port of embarkation (C=Cherbourg, Q=Queenstown, S=South Hampton)"
   ]
  },
  {
   "cell_type": "code",
   "execution_count": 3,
   "id": "873ac05b",
   "metadata": {
    "execution": {
     "iopub.execute_input": "2022-06-14T17:59:49.369304Z",
     "iopub.status.busy": "2022-06-14T17:59:49.368646Z",
     "iopub.status.idle": "2022-06-14T17:59:49.373022Z",
     "shell.execute_reply": "2022-06-14T17:59:49.372322Z"
    },
    "papermill": {
     "duration": 0.024243,
     "end_time": "2022-06-14T17:59:49.374858",
     "exception": false,
     "start_time": "2022-06-14T17:59:49.350615",
     "status": "completed"
    },
    "tags": []
   },
   "outputs": [],
   "source": [
    "# Categorization of the columns into three categories\n",
    "all_columns = train_df.columns\n",
    "categorical_columns = ['Survived', 'Pclass', 'Sex', 'Embarked']\n",
    "numerical_columns = ['Age', 'SibSp', 'Parch', 'Fare']\n",
    "descriptive_columns = ['PassengerID', 'Name', 'Ticket', 'Cabin']"
   ]
  },
  {
   "cell_type": "markdown",
   "id": "1d4fe5d9",
   "metadata": {
    "papermill": {
     "duration": 0.016737,
     "end_time": "2022-06-14T17:59:49.408472",
     "exception": false,
     "start_time": "2022-06-14T17:59:49.391735",
     "status": "completed"
    },
    "tags": []
   },
   "source": [
    "#### Description of the numerical and categorical columns"
   ]
  },
  {
   "cell_type": "code",
   "execution_count": 4,
   "id": "8774ee8d",
   "metadata": {
    "execution": {
     "iopub.execute_input": "2022-06-14T17:59:49.444489Z",
     "iopub.status.busy": "2022-06-14T17:59:49.443829Z",
     "iopub.status.idle": "2022-06-14T17:59:49.474836Z",
     "shell.execute_reply": "2022-06-14T17:59:49.474130Z"
    },
    "papermill": {
     "duration": 0.051351,
     "end_time": "2022-06-14T17:59:49.476649",
     "exception": false,
     "start_time": "2022-06-14T17:59:49.425298",
     "status": "completed"
    },
    "tags": []
   },
   "outputs": [
    {
     "data": {
      "text/html": [
       "<div>\n",
       "<style scoped>\n",
       "    .dataframe tbody tr th:only-of-type {\n",
       "        vertical-align: middle;\n",
       "    }\n",
       "\n",
       "    .dataframe tbody tr th {\n",
       "        vertical-align: top;\n",
       "    }\n",
       "\n",
       "    .dataframe thead th {\n",
       "        text-align: right;\n",
       "    }\n",
       "</style>\n",
       "<table border=\"1\" class=\"dataframe\">\n",
       "  <thead>\n",
       "    <tr style=\"text-align: right;\">\n",
       "      <th></th>\n",
       "      <th>Name</th>\n",
       "      <th>Sex</th>\n",
       "      <th>Ticket</th>\n",
       "      <th>Cabin</th>\n",
       "      <th>Embarked</th>\n",
       "    </tr>\n",
       "  </thead>\n",
       "  <tbody>\n",
       "    <tr>\n",
       "      <th>count</th>\n",
       "      <td>891</td>\n",
       "      <td>891</td>\n",
       "      <td>891</td>\n",
       "      <td>204</td>\n",
       "      <td>889</td>\n",
       "    </tr>\n",
       "    <tr>\n",
       "      <th>unique</th>\n",
       "      <td>891</td>\n",
       "      <td>2</td>\n",
       "      <td>681</td>\n",
       "      <td>147</td>\n",
       "      <td>3</td>\n",
       "    </tr>\n",
       "    <tr>\n",
       "      <th>top</th>\n",
       "      <td>Braund, Mr. Owen Harris</td>\n",
       "      <td>male</td>\n",
       "      <td>347082</td>\n",
       "      <td>B96 B98</td>\n",
       "      <td>S</td>\n",
       "    </tr>\n",
       "    <tr>\n",
       "      <th>freq</th>\n",
       "      <td>1</td>\n",
       "      <td>577</td>\n",
       "      <td>7</td>\n",
       "      <td>4</td>\n",
       "      <td>644</td>\n",
       "    </tr>\n",
       "  </tbody>\n",
       "</table>\n",
       "</div>"
      ],
      "text/plain": [
       "                           Name   Sex  Ticket    Cabin Embarked\n",
       "count                       891   891     891      204      889\n",
       "unique                      891     2     681      147        3\n",
       "top     Braund, Mr. Owen Harris  male  347082  B96 B98        S\n",
       "freq                          1   577       7        4      644"
      ]
     },
     "execution_count": 4,
     "metadata": {},
     "output_type": "execute_result"
    }
   ],
   "source": [
    "# Describe the categorical data\n",
    "train_df.describe(include=['O'])"
   ]
  },
  {
   "cell_type": "code",
   "execution_count": 5,
   "id": "c7d14dff",
   "metadata": {
    "execution": {
     "iopub.execute_input": "2022-06-14T17:59:49.513158Z",
     "iopub.status.busy": "2022-06-14T17:59:49.512118Z",
     "iopub.status.idle": "2022-06-14T17:59:49.542684Z",
     "shell.execute_reply": "2022-06-14T17:59:49.541776Z"
    },
    "papermill": {
     "duration": 0.050882,
     "end_time": "2022-06-14T17:59:49.544575",
     "exception": false,
     "start_time": "2022-06-14T17:59:49.493693",
     "status": "completed"
    },
    "tags": []
   },
   "outputs": [
    {
     "data": {
      "text/html": [
       "<div>\n",
       "<style scoped>\n",
       "    .dataframe tbody tr th:only-of-type {\n",
       "        vertical-align: middle;\n",
       "    }\n",
       "\n",
       "    .dataframe tbody tr th {\n",
       "        vertical-align: top;\n",
       "    }\n",
       "\n",
       "    .dataframe thead th {\n",
       "        text-align: right;\n",
       "    }\n",
       "</style>\n",
       "<table border=\"1\" class=\"dataframe\">\n",
       "  <thead>\n",
       "    <tr style=\"text-align: right;\">\n",
       "      <th></th>\n",
       "      <th>PassengerId</th>\n",
       "      <th>Survived</th>\n",
       "      <th>Pclass</th>\n",
       "      <th>Age</th>\n",
       "      <th>SibSp</th>\n",
       "      <th>Parch</th>\n",
       "      <th>Fare</th>\n",
       "    </tr>\n",
       "  </thead>\n",
       "  <tbody>\n",
       "    <tr>\n",
       "      <th>count</th>\n",
       "      <td>891.000000</td>\n",
       "      <td>891.000000</td>\n",
       "      <td>891.000000</td>\n",
       "      <td>714.000000</td>\n",
       "      <td>891.000000</td>\n",
       "      <td>891.000000</td>\n",
       "      <td>891.000000</td>\n",
       "    </tr>\n",
       "    <tr>\n",
       "      <th>mean</th>\n",
       "      <td>446.000000</td>\n",
       "      <td>0.383838</td>\n",
       "      <td>2.308642</td>\n",
       "      <td>29.699118</td>\n",
       "      <td>0.523008</td>\n",
       "      <td>0.381594</td>\n",
       "      <td>32.204208</td>\n",
       "    </tr>\n",
       "    <tr>\n",
       "      <th>std</th>\n",
       "      <td>257.353842</td>\n",
       "      <td>0.486592</td>\n",
       "      <td>0.836071</td>\n",
       "      <td>14.526497</td>\n",
       "      <td>1.102743</td>\n",
       "      <td>0.806057</td>\n",
       "      <td>49.693429</td>\n",
       "    </tr>\n",
       "    <tr>\n",
       "      <th>min</th>\n",
       "      <td>1.000000</td>\n",
       "      <td>0.000000</td>\n",
       "      <td>1.000000</td>\n",
       "      <td>0.420000</td>\n",
       "      <td>0.000000</td>\n",
       "      <td>0.000000</td>\n",
       "      <td>0.000000</td>\n",
       "    </tr>\n",
       "    <tr>\n",
       "      <th>25%</th>\n",
       "      <td>223.500000</td>\n",
       "      <td>0.000000</td>\n",
       "      <td>2.000000</td>\n",
       "      <td>20.125000</td>\n",
       "      <td>0.000000</td>\n",
       "      <td>0.000000</td>\n",
       "      <td>7.910400</td>\n",
       "    </tr>\n",
       "    <tr>\n",
       "      <th>50%</th>\n",
       "      <td>446.000000</td>\n",
       "      <td>0.000000</td>\n",
       "      <td>3.000000</td>\n",
       "      <td>28.000000</td>\n",
       "      <td>0.000000</td>\n",
       "      <td>0.000000</td>\n",
       "      <td>14.454200</td>\n",
       "    </tr>\n",
       "    <tr>\n",
       "      <th>75%</th>\n",
       "      <td>668.500000</td>\n",
       "      <td>1.000000</td>\n",
       "      <td>3.000000</td>\n",
       "      <td>38.000000</td>\n",
       "      <td>1.000000</td>\n",
       "      <td>0.000000</td>\n",
       "      <td>31.000000</td>\n",
       "    </tr>\n",
       "    <tr>\n",
       "      <th>max</th>\n",
       "      <td>891.000000</td>\n",
       "      <td>1.000000</td>\n",
       "      <td>3.000000</td>\n",
       "      <td>80.000000</td>\n",
       "      <td>8.000000</td>\n",
       "      <td>6.000000</td>\n",
       "      <td>512.329200</td>\n",
       "    </tr>\n",
       "  </tbody>\n",
       "</table>\n",
       "</div>"
      ],
      "text/plain": [
       "       PassengerId    Survived      Pclass         Age       SibSp  \\\n",
       "count   891.000000  891.000000  891.000000  714.000000  891.000000   \n",
       "mean    446.000000    0.383838    2.308642   29.699118    0.523008   \n",
       "std     257.353842    0.486592    0.836071   14.526497    1.102743   \n",
       "min       1.000000    0.000000    1.000000    0.420000    0.000000   \n",
       "25%     223.500000    0.000000    2.000000   20.125000    0.000000   \n",
       "50%     446.000000    0.000000    3.000000   28.000000    0.000000   \n",
       "75%     668.500000    1.000000    3.000000   38.000000    1.000000   \n",
       "max     891.000000    1.000000    3.000000   80.000000    8.000000   \n",
       "\n",
       "            Parch        Fare  \n",
       "count  891.000000  891.000000  \n",
       "mean     0.381594   32.204208  \n",
       "std      0.806057   49.693429  \n",
       "min      0.000000    0.000000  \n",
       "25%      0.000000    7.910400  \n",
       "50%      0.000000   14.454200  \n",
       "75%      0.000000   31.000000  \n",
       "max      6.000000  512.329200  "
      ]
     },
     "execution_count": 5,
     "metadata": {},
     "output_type": "execute_result"
    }
   ],
   "source": [
    "# Describe the numerical data\n",
    "train_df.describe()"
   ]
  },
  {
   "cell_type": "markdown",
   "id": "bba0aa0a",
   "metadata": {
    "papermill": {
     "duration": 0.016931,
     "end_time": "2022-06-14T17:59:49.578999",
     "exception": false,
     "start_time": "2022-06-14T17:59:49.562068",
     "status": "completed"
    },
    "tags": []
   },
   "source": [
    "#### How many empty values are there in each column?\n",
    "These empty cells need to be filled with suitable values. "
   ]
  },
  {
   "cell_type": "code",
   "execution_count": 6,
   "id": "1ba27781",
   "metadata": {
    "execution": {
     "iopub.execute_input": "2022-06-14T17:59:49.615579Z",
     "iopub.status.busy": "2022-06-14T17:59:49.614895Z",
     "iopub.status.idle": "2022-06-14T17:59:49.623329Z",
     "shell.execute_reply": "2022-06-14T17:59:49.622604Z"
    },
    "papermill": {
     "duration": 0.028801,
     "end_time": "2022-06-14T17:59:49.625160",
     "exception": false,
     "start_time": "2022-06-14T17:59:49.596359",
     "status": "completed"
    },
    "tags": []
   },
   "outputs": [
    {
     "data": {
      "text/plain": [
       "PassengerId      0\n",
       "Survived         0\n",
       "Pclass           0\n",
       "Name             0\n",
       "Sex              0\n",
       "Age            177\n",
       "SibSp            0\n",
       "Parch            0\n",
       "Ticket           0\n",
       "Fare             0\n",
       "Cabin          687\n",
       "Embarked         2\n",
       "dtype: int64"
      ]
     },
     "execution_count": 6,
     "metadata": {},
     "output_type": "execute_result"
    }
   ],
   "source": [
    "# Print the number of empty values for each column\n",
    "train_df.isna().sum()"
   ]
  },
  {
   "cell_type": "markdown",
   "id": "4363915b",
   "metadata": {
    "papermill": {
     "duration": 0.017418,
     "end_time": "2022-06-14T17:59:49.660407",
     "exception": false,
     "start_time": "2022-06-14T17:59:49.642989",
     "status": "completed"
    },
    "tags": []
   },
   "source": [
    "#### What are the different data types of each column?\n",
    "This is important because the final ML algorithms implemented will only accept numerical input. Therefore, identifying the values that need to be changed in order to figure out how to change them is important.  \n",
    "\n",
    "It can be seen that 'Name', 'Sex', 'Ticket', 'Cabin' and 'Embarked fields are objects and therefore will need to be changed."
   ]
  },
  {
   "cell_type": "code",
   "execution_count": 7,
   "id": "dab47152",
   "metadata": {
    "execution": {
     "iopub.execute_input": "2022-06-14T17:59:49.697190Z",
     "iopub.status.busy": "2022-06-14T17:59:49.696529Z",
     "iopub.status.idle": "2022-06-14T17:59:49.703711Z",
     "shell.execute_reply": "2022-06-14T17:59:49.703011Z"
    },
    "papermill": {
     "duration": 0.027621,
     "end_time": "2022-06-14T17:59:49.705526",
     "exception": false,
     "start_time": "2022-06-14T17:59:49.677905",
     "status": "completed"
    },
    "tags": []
   },
   "outputs": [
    {
     "data": {
      "text/plain": [
       "PassengerId      int64\n",
       "Survived         int64\n",
       "Pclass           int64\n",
       "Name            object\n",
       "Sex             object\n",
       "Age            float64\n",
       "SibSp            int64\n",
       "Parch            int64\n",
       "Ticket          object\n",
       "Fare           float64\n",
       "Cabin           object\n",
       "Embarked        object\n",
       "dtype: object"
      ]
     },
     "execution_count": 7,
     "metadata": {},
     "output_type": "execute_result"
    }
   ],
   "source": [
    "train_df.dtypes"
   ]
  },
  {
   "cell_type": "markdown",
   "id": "c3f1af4d",
   "metadata": {
    "papermill": {
     "duration": 0.017129,
     "end_time": "2022-06-14T17:59:49.739988",
     "exception": false,
     "start_time": "2022-06-14T17:59:49.722859",
     "status": "completed"
    },
    "tags": []
   },
   "source": [
    "#### How many duplicate entries are there per column?\n",
    "Duplicate entries could imply that the data is incorrect, especially if the column should be unique. Such columns include PassengerID, Name, Ticket and Cabin.\n",
    "\n",
    "By printing the number of duplicate entries below, it can be seen that 'Ticket' has a high number of duplicates - this is concerning considering this should be a unique field. It was therefore decided that the 'Ticket' column could be ignored, as it would not provide useful data. \n",
    "\n",
    "The 'Cabin' field has an extremely high duplication rate.  "
   ]
  },
  {
   "cell_type": "code",
   "execution_count": 8,
   "id": "e7687763",
   "metadata": {
    "execution": {
     "iopub.execute_input": "2022-06-14T17:59:49.777551Z",
     "iopub.status.busy": "2022-06-14T17:59:49.776854Z",
     "iopub.status.idle": "2022-06-14T17:59:49.790055Z",
     "shell.execute_reply": "2022-06-14T17:59:49.789018Z"
    },
    "papermill": {
     "duration": 0.03472,
     "end_time": "2022-06-14T17:59:49.792347",
     "exception": false,
     "start_time": "2022-06-14T17:59:49.757627",
     "status": "completed"
    },
    "tags": []
   },
   "outputs": [
    {
     "name": "stdout",
     "output_type": "stream",
     "text": [
      "PassengerId\t0\n",
      "Name\t\t0\n",
      "Ticket\t\t344\n",
      "Cabin\t\t790\n"
     ]
    }
   ],
   "source": [
    "# Print the number of duplicate entries of columns that should be unique/almost unique\n",
    "unique_columns = [\"PassengerId\", \"Name\", \"Ticket\", \"Cabin\"]\n",
    "for i in range(0,len(unique_columns)):\n",
    "    if len(unique_columns[i]) > 7:\n",
    "        end = '\\t'\n",
    "    else:\n",
    "        end = '\\t\\t'\n",
    "    print(unique_columns[i], end=end)\n",
    "    print(len(train_df[train_df.duplicated([unique_columns[i]], keep=False)]))"
   ]
  },
  {
   "cell_type": "markdown",
   "id": "09775bc7",
   "metadata": {
    "papermill": {
     "duration": 0.017673,
     "end_time": "2022-06-14T17:59:49.828742",
     "exception": false,
     "start_time": "2022-06-14T17:59:49.811069",
     "status": "completed"
    },
    "tags": []
   },
   "source": [
    "#### Analysing the Cabin \n",
    "As mentioned above, the 'Cabin' column has a high rate of duplication. However, it should also be noted that there are also many missing cabin numbers. \n",
    "\n",
    "\n",
    "Interestingly, it can be seen that most passengers (70%) that do not have a cabin number, do not survive. It was therefore decided to extract the deck number (represented by the first letter of the 'Cabin' column) into a new column, and note each of the passengers with missing cabin (and therefore unknown deck numbers) with the same value. "
   ]
  },
  {
   "cell_type": "code",
   "execution_count": 9,
   "id": "536ed9b3",
   "metadata": {
    "execution": {
     "iopub.execute_input": "2022-06-14T17:59:49.865675Z",
     "iopub.status.busy": "2022-06-14T17:59:49.864992Z",
     "iopub.status.idle": "2022-06-14T17:59:49.884305Z",
     "shell.execute_reply": "2022-06-14T17:59:49.883372Z"
    },
    "papermill": {
     "duration": 0.040519,
     "end_time": "2022-06-14T17:59:49.886834",
     "exception": false,
     "start_time": "2022-06-14T17:59:49.846315",
     "status": "completed"
    },
    "tags": []
   },
   "outputs": [
    {
     "name": "stdout",
     "output_type": "stream",
     "text": [
      "70.01455604075691% of passengers with no cabin number did not survive.\n"
     ]
    }
   ],
   "source": [
    "count_no_cabin_no_survive = 0\n",
    "count_no_cabin_survive = 0\n",
    "for i in range(len(train_df)):\n",
    "    if type(train_df['Cabin'][i]) != str and train_df['Survived'][i] == 0:\n",
    "        count_no_cabin_no_survive = count_no_cabin_no_survive + 1\n",
    "    elif type(train_df['Cabin'][i]) != str and train_df['Survived'][i] == 1:\n",
    "        count_no_cabin_survive = count_no_cabin_survive + 1\n",
    "print(count_no_cabin_no_survive/(count_no_cabin_no_survive+count_no_cabin_survive)*100, end='')\n",
    "print('% of passengers with no cabin number did not survive.')"
   ]
  },
  {
   "cell_type": "markdown",
   "id": "8a06df3c",
   "metadata": {
    "papermill": {
     "duration": 0.017278,
     "end_time": "2022-06-14T17:59:49.922933",
     "exception": false,
     "start_time": "2022-06-14T17:59:49.905655",
     "status": "completed"
    },
    "tags": []
   },
   "source": [
    "## Data manipulation\n",
    "#### Extract 'Title' from Name column \n",
    "Test 2: leaving the rare columns as is"
   ]
  },
  {
   "cell_type": "code",
   "execution_count": 10,
   "id": "f2e361a2",
   "metadata": {
    "execution": {
     "iopub.execute_input": "2022-06-14T17:59:49.960363Z",
     "iopub.status.busy": "2022-06-14T17:59:49.959833Z",
     "iopub.status.idle": "2022-06-14T17:59:49.975006Z",
     "shell.execute_reply": "2022-06-14T17:59:49.974357Z"
    },
    "papermill": {
     "duration": 0.036246,
     "end_time": "2022-06-14T17:59:49.977365",
     "exception": false,
     "start_time": "2022-06-14T17:59:49.941119",
     "status": "completed"
    },
    "tags": []
   },
   "outputs": [
    {
     "name": "stdout",
     "output_type": "stream",
     "text": [
      "       Title  Survived\n",
      "0       Capt  0.000000\n",
      "1        Col  0.500000\n",
      "2   Countess  1.000000\n",
      "3        Don  0.000000\n",
      "4         Dr  0.428571\n",
      "5   Jonkheer  0.000000\n",
      "6       Lady  1.000000\n",
      "7      Major  0.500000\n",
      "8     Master  0.575000\n",
      "9       Miss  0.697802\n",
      "10      Mlle  1.000000\n",
      "11       Mme  1.000000\n",
      "12        Mr  0.156673\n",
      "13       Mrs  0.792000\n",
      "14        Ms  1.000000\n",
      "15       Rev  0.000000\n",
      "16       Sir  1.000000\n"
     ]
    }
   ],
   "source": [
    "# Lets start by extracting the title field (from both the training and testing data) so that Name column can be dropped\n",
    "# If the title is less than 10% of the passengers, group it into \"other\"\n",
    "for t in [train_df, test_df]:\n",
    "    title = t.Name.str.extract(' ([A-Za-z]+)\\.', expand=False)\n",
    "    t['Title'] = title\n",
    "    \n",
    "print(train_df[['Title', 'Survived']].groupby(['Title'], as_index=False).mean())\n"
   ]
  },
  {
   "cell_type": "markdown",
   "id": "4e41c815",
   "metadata": {
    "papermill": {
     "duration": 0.017502,
     "end_time": "2022-06-14T17:59:50.014326",
     "exception": false,
     "start_time": "2022-06-14T17:59:49.996824",
     "status": "completed"
    },
    "tags": []
   },
   "source": [
    "#### Create a new column for 'Deck' value\n",
    "We can also drop the 'Cabin' column after this"
   ]
  },
  {
   "cell_type": "code",
   "execution_count": 11,
   "id": "3326f1ba",
   "metadata": {
    "execution": {
     "iopub.execute_input": "2022-06-14T17:59:50.052050Z",
     "iopub.status.busy": "2022-06-14T17:59:50.051405Z",
     "iopub.status.idle": "2022-06-14T17:59:50.152840Z",
     "shell.execute_reply": "2022-06-14T17:59:50.151262Z"
    },
    "papermill": {
     "duration": 0.122646,
     "end_time": "2022-06-14T17:59:50.154844",
     "exception": false,
     "start_time": "2022-06-14T17:59:50.032198",
     "status": "completed"
    },
    "tags": []
   },
   "outputs": [
    {
     "name": "stdout",
     "output_type": "stream",
     "text": [
      "   Deck  Survived\n",
      "0     0  0.466667\n",
      "1     1  0.744681\n",
      "2     2  0.593220\n",
      "3     3  0.757576\n",
      "4     4  0.750000\n",
      "5     5  0.615385\n",
      "6     6  0.500000\n",
      "7     7  0.000000\n",
      "8     8  0.299854\n"
     ]
    },
    {
     "name": "stderr",
     "output_type": "stream",
     "text": [
      "/opt/conda/lib/python3.7/site-packages/ipykernel_launcher.py:7: SettingWithCopyWarning: \n",
      "A value is trying to be set on a copy of a slice from a DataFrame\n",
      "\n",
      "See the caveats in the documentation: https://pandas.pydata.org/pandas-docs/stable/user_guide/indexing.html#returning-a-view-versus-a-copy\n",
      "  import sys\n",
      "/opt/conda/lib/python3.7/site-packages/ipykernel_launcher.py:11: SettingWithCopyWarning: \n",
      "A value is trying to be set on a copy of a slice from a DataFrame\n",
      "\n",
      "See the caveats in the documentation: https://pandas.pydata.org/pandas-docs/stable/user_guide/indexing.html#returning-a-view-versus-a-copy\n",
      "  # This is added back by InteractiveShellApp.init_path()\n"
     ]
    }
   ],
   "source": [
    "deck_array = ['A', 'B', 'C', 'D', 'E', 'F', 'G', 'T', 'X'] # Note -  there is a T deck, but only one entry\n",
    "for t in [train_df, test_df]:\n",
    "    t['Deck'] = deck_array.index('X')\n",
    "\n",
    "for i in range(len(train_df)):\n",
    "    if type(train_df['Cabin'][i]) == str:\n",
    "        train_df['Deck'][i] = deck_array.index(train_df['Cabin'][i][0])\n",
    "\n",
    "for i in range(len(test_df)):\n",
    "    if type(test_df['Cabin'][i]) == str:\n",
    "        test_df['Deck'][i] = deck_array.index(test_df['Cabin'][i][0])\n",
    "\n",
    "print(train_df[['Deck', 'Survived']].groupby(['Deck'], as_index=False).mean())\n",
    "\n",
    "train_df = train_df.drop(['Cabin'], axis=1)\n",
    "test_df = test_df.drop(['Cabin'], axis=1)"
   ]
  },
  {
   "cell_type": "markdown",
   "id": "13397d70",
   "metadata": {
    "papermill": {
     "duration": 0.017578,
     "end_time": "2022-06-14T17:59:50.190275",
     "exception": false,
     "start_time": "2022-06-14T17:59:50.172697",
     "status": "completed"
    },
    "tags": []
   },
   "source": [
    "#### Remove 'Name', 'PassengerId', and 'Ticket' columns\n",
    "As mentioned above, these columns do not correlate to the survival rate of the passengers."
   ]
  },
  {
   "cell_type": "code",
   "execution_count": 12,
   "id": "47045876",
   "metadata": {
    "execution": {
     "iopub.execute_input": "2022-06-14T17:59:50.227848Z",
     "iopub.status.busy": "2022-06-14T17:59:50.227214Z",
     "iopub.status.idle": "2022-06-14T17:59:50.234025Z",
     "shell.execute_reply": "2022-06-14T17:59:50.233349Z"
    },
    "papermill": {
     "duration": 0.027442,
     "end_time": "2022-06-14T17:59:50.235829",
     "exception": false,
     "start_time": "2022-06-14T17:59:50.208387",
     "status": "completed"
    },
    "tags": []
   },
   "outputs": [],
   "source": [
    "# After extracting the Title field, we can drop the Name column\n",
    "# We also want to drop the PassengerId, and Ticket columns as mentioned above\n",
    "train_df = train_df.drop(['Name', 'PassengerId', 'Ticket'], axis=1)\n",
    "test_df = test_df.drop(['Name', 'Ticket'], axis=1) # NB: We cannot drop PassengerId from test data yet as we need it for the final submission\n"
   ]
  },
  {
   "cell_type": "markdown",
   "id": "772a8f96",
   "metadata": {
    "papermill": {
     "duration": 0.018418,
     "end_time": "2022-06-14T17:59:50.272396",
     "exception": false,
     "start_time": "2022-06-14T17:59:50.253978",
     "status": "completed"
    },
    "tags": []
   },
   "source": [
    "#### Combining SibSp and Parch\n",
    "Since SibSp contains both siblings and spouses, and Parch contains both parents and children, there is no useful way of using this data (for example to decide whether the person has children and therefore must be an adult, but they could also have parents and therefore be young in age).\n",
    "\n",
    "We will instead combine these two columns into one 'NumRelatives' column. \n",
    "\n",
    "If the passenger was alone, this might increase or decrease their chance of survival. Therefore by using the new 'NumRelatives' column we can easily create a new column to describe whether the passenger was alone or not.\n",
    "\n",
    "Use 1=alone, 0=not alone."
   ]
  },
  {
   "cell_type": "code",
   "execution_count": 13,
   "id": "46377024",
   "metadata": {
    "execution": {
     "iopub.execute_input": "2022-06-14T17:59:50.310206Z",
     "iopub.status.busy": "2022-06-14T17:59:50.309448Z",
     "iopub.status.idle": "2022-06-14T17:59:50.332300Z",
     "shell.execute_reply": "2022-06-14T17:59:50.331109Z"
    },
    "papermill": {
     "duration": 0.044666,
     "end_time": "2022-06-14T17:59:50.335144",
     "exception": false,
     "start_time": "2022-06-14T17:59:50.290478",
     "status": "completed"
    },
    "tags": []
   },
   "outputs": [
    {
     "name": "stdout",
     "output_type": "stream",
     "text": [
      "   NumRelatives  Survived\n",
      "0             0  0.303538\n",
      "1             1  0.552795\n",
      "2             2  0.578431\n",
      "3             3  0.724138\n",
      "4             4  0.200000\n",
      "5             5  0.136364\n",
      "6             6  0.333333\n",
      "7             7  0.000000\n",
      "8            10  0.000000\n",
      "   Alone  Survived\n",
      "0      0  0.505650\n",
      "1      1  0.303538\n"
     ]
    }
   ],
   "source": [
    "for t in [train_df, test_df]:\n",
    "    t['NumRelatives'] = t['SibSp'] + t['Parch']\n",
    "    t.loc[t['NumRelatives'] > 0, 'Alone'] = 0\n",
    "    t.loc[t['NumRelatives'] == 0, 'Alone'] = 1\n",
    "    t['Alone'] = t['Alone'].astype(int)\n",
    "print(train_df[['NumRelatives', 'Survived']].groupby(['NumRelatives'], as_index=False).mean())\n",
    "print(train_df[['Alone', 'Survived']].groupby(['Alone'], as_index=False).mean())\n",
    "\n",
    "train_df = train_df.drop(['SibSp', 'Parch'], axis=1)\n",
    "test_df = test_df.drop(['SibSp', 'Parch'], axis=1)\n"
   ]
  },
  {
   "cell_type": "markdown",
   "id": "ba337e44",
   "metadata": {
    "papermill": {
     "duration": 0.01741,
     "end_time": "2022-06-14T17:59:50.371692",
     "exception": false,
     "start_time": "2022-06-14T17:59:50.354282",
     "status": "completed"
    },
    "tags": []
   },
   "source": [
    "#### Calculate missing age values \n",
    "By using the title's average age group. \n",
    "- By plotting Title, Age, and Survived, we see that most titles band Age groups accurately. \n",
    "- A random number between the title's average age plus and minus that title's standard deviation. \n",
    "- By generating a random number between the one standard deviation up and down from the average age value, we will be able to populate the 'Other' title values. \n"
   ]
  },
  {
   "cell_type": "code",
   "execution_count": 14,
   "id": "b583a6fb",
   "metadata": {
    "execution": {
     "iopub.execute_input": "2022-06-14T17:59:50.409376Z",
     "iopub.status.busy": "2022-06-14T17:59:50.408788Z",
     "iopub.status.idle": "2022-06-14T17:59:50.590059Z",
     "shell.execute_reply": "2022-06-14T17:59:50.588570Z"
    },
    "papermill": {
     "duration": 0.203179,
     "end_time": "2022-06-14T17:59:50.592756",
     "exception": false,
     "start_time": "2022-06-14T17:59:50.389577",
     "status": "completed"
    },
    "tags": []
   },
   "outputs": [
    {
     "name": "stdout",
     "output_type": "stream",
     "text": [
      "       Title        Age\n",
      "0       Capt        NaN\n",
      "1        Col   2.828427\n",
      "2   Countess        NaN\n",
      "3        Don        NaN\n",
      "4         Dr  12.016655\n",
      "5   Jonkheer        NaN\n",
      "6       Lady        NaN\n",
      "7      Major   4.949747\n",
      "8     Master   3.619872\n",
      "9       Miss  12.990292\n",
      "10      Mlle   0.000000\n",
      "11       Mme        NaN\n",
      "12        Mr  12.708793\n",
      "13       Mrs  11.433628\n",
      "14        Ms        NaN\n",
      "15       Rev  13.136463\n",
      "16       Sir        NaN\n",
      "    Age  Survived\n",
      "0     0  1.000000\n",
      "1     1  0.750000\n",
      "2     2  0.300000\n",
      "3     3  0.833333\n",
      "4     4  0.636364\n",
      "..  ...       ...\n",
      "66   66  0.000000\n",
      "67   70  0.000000\n",
      "68   71  0.000000\n",
      "69   74  0.000000\n",
      "70   80  1.000000\n",
      "\n",
      "[71 rows x 2 columns]\n"
     ]
    },
    {
     "name": "stderr",
     "output_type": "stream",
     "text": [
      "/opt/conda/lib/python3.7/site-packages/ipykernel_launcher.py:18: SettingWithCopyWarning: \n",
      "A value is trying to be set on a copy of a slice from a DataFrame\n",
      "\n",
      "See the caveats in the documentation: https://pandas.pydata.org/pandas-docs/stable/user_guide/indexing.html#returning-a-view-versus-a-copy\n",
      "/opt/conda/lib/python3.7/site-packages/ipykernel_launcher.py:32: SettingWithCopyWarning: \n",
      "A value is trying to be set on a copy of a slice from a DataFrame\n",
      "\n",
      "See the caveats in the documentation: https://pandas.pydata.org/pandas-docs/stable/user_guide/indexing.html#returning-a-view-versus-a-copy\n",
      "/opt/conda/lib/python3.7/site-packages/ipykernel_launcher.py:34: SettingWithCopyWarning: \n",
      "A value is trying to be set on a copy of a slice from a DataFrame\n",
      "\n",
      "See the caveats in the documentation: https://pandas.pydata.org/pandas-docs/stable/user_guide/indexing.html#returning-a-view-versus-a-copy\n"
     ]
    }
   ],
   "source": [
    "average_ages_per_title = train_df[['Title', 'Age']].groupby(['Title'], as_index=False).mean()\n",
    "std_dev_per_title = train_df[['Title', 'Age']].groupby(['Title'], as_index=False).std()\n",
    "average = train_df['Age'].mean()\n",
    "standard_deviation = test_df['Age'].std()\n",
    "\n",
    "print(std_dev_per_title)\n",
    "\n",
    "for i in range(len(train_df)):\n",
    "    if math.isnan(train_df['Age'][i]):\n",
    "        # if(train_df['Title'][i] == 'Other'):\n",
    "        #     rand_age = np.random.randint(average - standard_deviation, average + standard_deviation)\n",
    "        #     train_df['Age'][i] = rand_age\n",
    "        # else:\n",
    "        for j in range(len(average_ages_per_title)):\n",
    "            if train_df['Title'][i] == average_ages_per_title['Title'][j]:\n",
    "                if(not math.isnan(std_dev_per_title['Age'][j])):\n",
    "                    rand_age_title = np.random.randint(average_ages_per_title['Age'][j] - std_dev_per_title['Age'][j], average_ages_per_title['Age'][j] + std_dev_per_title['Age'][j])\n",
    "                    train_df['Age'][i] = rand_age_title\n",
    "                else:\n",
    "                    train_df['Age'][i] = average_ages_per_title['Age'][j]\n",
    "\n",
    "for i in range(len(test_df)):\n",
    "    if math.isnan(test_df['Age'][i]):\n",
    "        # if(test_df['Title'][i] == 'Other'):\n",
    "        #     rand_age = np.random.randint(average - standard_deviation, average + standard_deviation)\n",
    "        #     test_df['Age'][i] = rand_age\n",
    "        # else:\n",
    "        for j in range(len(average_ages_per_title)):\n",
    "            if test_df['Title'][i] == average_ages_per_title['Title'][j]:\n",
    "                if(not math.isnan(std_dev_per_title['Age'][j])):\n",
    "                    rand_age_title = np.random.randint(average_ages_per_title['Age'][j] - std_dev_per_title['Age'][j], average_ages_per_title['Age'][j] + std_dev_per_title['Age'][j])\n",
    "                    test_df['Age'][i] = rand_age_title\n",
    "                else:\n",
    "                    test_df['Age'][i] = average_ages_per_title['Age'][j]\n",
    "\n",
    "train_df['Age'] = train_df['Age'].astype(int)\n",
    "test_df['Age'] = test_df['Age'].astype(int)\n",
    "\n",
    "print(train_df[['Age', 'Survived']].groupby(['Age'], as_index=False).mean())"
   ]
  },
  {
   "cell_type": "markdown",
   "id": "c55b6d98",
   "metadata": {
    "papermill": {
     "duration": 0.017899,
     "end_time": "2022-06-14T17:59:50.629024",
     "exception": false,
     "start_time": "2022-06-14T17:59:50.611125",
     "status": "completed"
    },
    "tags": []
   },
   "source": [
    "#### Calculate missing Embarked values\n",
    "Since there are only two missing embark values (<1%), we will just fill these values with the most common Embark location: S\n",
    "It should be noted that the test data is not missing any Embark values."
   ]
  },
  {
   "cell_type": "code",
   "execution_count": 15,
   "id": "6795cad5",
   "metadata": {
    "execution": {
     "iopub.execute_input": "2022-06-14T17:59:50.667616Z",
     "iopub.status.busy": "2022-06-14T17:59:50.667219Z",
     "iopub.status.idle": "2022-06-14T17:59:50.673782Z",
     "shell.execute_reply": "2022-06-14T17:59:50.673094Z"
    },
    "papermill": {
     "duration": 0.027949,
     "end_time": "2022-06-14T17:59:50.675460",
     "exception": false,
     "start_time": "2022-06-14T17:59:50.647511",
     "status": "completed"
    },
    "tags": []
   },
   "outputs": [],
   "source": [
    "train_df['Embarked'].describe()\n",
    "train_df['Embarked'].fillna('S', inplace=True)"
   ]
  },
  {
   "cell_type": "markdown",
   "id": "5ed6542b",
   "metadata": {
    "papermill": {
     "duration": 0.017979,
     "end_time": "2022-06-14T17:59:50.712367",
     "exception": false,
     "start_time": "2022-06-14T17:59:50.694388",
     "status": "completed"
    },
    "tags": []
   },
   "source": [
    "#### Convert 'Fare' individual values to grouped data \n",
    "Binning helps deal with outliers"
   ]
  },
  {
   "cell_type": "code",
   "execution_count": 16,
   "id": "79d2bba7",
   "metadata": {
    "execution": {
     "iopub.execute_input": "2022-06-14T17:59:50.749688Z",
     "iopub.status.busy": "2022-06-14T17:59:50.749268Z",
     "iopub.status.idle": "2022-06-14T17:59:51.166166Z",
     "shell.execute_reply": "2022-06-14T17:59:51.164901Z"
    },
    "papermill": {
     "duration": 0.438182,
     "end_time": "2022-06-14T17:59:51.168465",
     "exception": false,
     "start_time": "2022-06-14T17:59:50.730283",
     "status": "completed"
    },
    "tags": []
   },
   "outputs": [
    {
     "name": "stdout",
     "output_type": "stream",
     "text": [
      "[  7.75       7.9104     9.84065   14.4542    24.479175  31.\n",
      "  69.4875   512.3292  ]\n"
     ]
    },
    {
     "name": "stderr",
     "output_type": "stream",
     "text": [
      "/opt/conda/lib/python3.7/site-packages/ipykernel_launcher.py:15: SettingWithCopyWarning: \n",
      "A value is trying to be set on a copy of a slice from a DataFrame\n",
      "\n",
      "See the caveats in the documentation: https://pandas.pydata.org/pandas-docs/stable/user_guide/indexing.html#returning-a-view-versus-a-copy\n",
      "  from ipykernel import kernelapp as app\n",
      "/opt/conda/lib/python3.7/site-packages/ipykernel_launcher.py:29: SettingWithCopyWarning: \n",
      "A value is trying to be set on a copy of a slice from a DataFrame\n",
      "\n",
      "See the caveats in the documentation: https://pandas.pydata.org/pandas-docs/stable/user_guide/indexing.html#returning-a-view-versus-a-copy\n",
      "/opt/conda/lib/python3.7/site-packages/ipykernel_launcher.py:19: SettingWithCopyWarning: \n",
      "A value is trying to be set on a copy of a slice from a DataFrame\n",
      "\n",
      "See the caveats in the documentation: https://pandas.pydata.org/pandas-docs/stable/user_guide/indexing.html#returning-a-view-versus-a-copy\n",
      "/opt/conda/lib/python3.7/site-packages/ipykernel_launcher.py:27: SettingWithCopyWarning: \n",
      "A value is trying to be set on a copy of a slice from a DataFrame\n",
      "\n",
      "See the caveats in the documentation: https://pandas.pydata.org/pandas-docs/stable/user_guide/indexing.html#returning-a-view-versus-a-copy\n",
      "/opt/conda/lib/python3.7/site-packages/ipykernel_launcher.py:23: SettingWithCopyWarning: \n",
      "A value is trying to be set on a copy of a slice from a DataFrame\n",
      "\n",
      "See the caveats in the documentation: https://pandas.pydata.org/pandas-docs/stable/user_guide/indexing.html#returning-a-view-versus-a-copy\n",
      "/opt/conda/lib/python3.7/site-packages/ipykernel_launcher.py:21: SettingWithCopyWarning: \n",
      "A value is trying to be set on a copy of a slice from a DataFrame\n",
      "\n",
      "See the caveats in the documentation: https://pandas.pydata.org/pandas-docs/stable/user_guide/indexing.html#returning-a-view-versus-a-copy\n",
      "/opt/conda/lib/python3.7/site-packages/ipykernel_launcher.py:25: SettingWithCopyWarning: \n",
      "A value is trying to be set on a copy of a slice from a DataFrame\n",
      "\n",
      "See the caveats in the documentation: https://pandas.pydata.org/pandas-docs/stable/user_guide/indexing.html#returning-a-view-versus-a-copy\n",
      "/opt/conda/lib/python3.7/site-packages/ipykernel_launcher.py:17: SettingWithCopyWarning: \n",
      "A value is trying to be set on a copy of a slice from a DataFrame\n",
      "\n",
      "See the caveats in the documentation: https://pandas.pydata.org/pandas-docs/stable/user_guide/indexing.html#returning-a-view-versus-a-copy\n",
      "  app.launch_new_instance()\n"
     ]
    },
    {
     "name": "stdout",
     "output_type": "stream",
     "text": [
      "   Fare  Survived\n",
      "0   0.0  0.207143\n",
      "1   1.0  0.180723\n",
      "2   2.0  0.198198\n",
      "3   3.0  0.407080\n",
      "4   4.0  0.436364\n",
      "5   5.0  0.473214\n",
      "6   6.0  0.481818\n",
      "7   7.0  0.678571\n"
     ]
    },
    {
     "name": "stderr",
     "output_type": "stream",
     "text": [
      "/opt/conda/lib/python3.7/site-packages/ipykernel_launcher.py:40: SettingWithCopyWarning: \n",
      "A value is trying to be set on a copy of a slice from a DataFrame\n",
      "\n",
      "See the caveats in the documentation: https://pandas.pydata.org/pandas-docs/stable/user_guide/indexing.html#returning-a-view-versus-a-copy\n",
      "/opt/conda/lib/python3.7/site-packages/ipykernel_launcher.py:38: SettingWithCopyWarning: \n",
      "A value is trying to be set on a copy of a slice from a DataFrame\n",
      "\n",
      "See the caveats in the documentation: https://pandas.pydata.org/pandas-docs/stable/user_guide/indexing.html#returning-a-view-versus-a-copy\n",
      "/opt/conda/lib/python3.7/site-packages/ipykernel_launcher.py:42: SettingWithCopyWarning: \n",
      "A value is trying to be set on a copy of a slice from a DataFrame\n",
      "\n",
      "See the caveats in the documentation: https://pandas.pydata.org/pandas-docs/stable/user_guide/indexing.html#returning-a-view-versus-a-copy\n",
      "/opt/conda/lib/python3.7/site-packages/ipykernel_launcher.py:44: SettingWithCopyWarning: \n",
      "A value is trying to be set on a copy of a slice from a DataFrame\n",
      "\n",
      "See the caveats in the documentation: https://pandas.pydata.org/pandas-docs/stable/user_guide/indexing.html#returning-a-view-versus-a-copy\n",
      "/opt/conda/lib/python3.7/site-packages/ipykernel_launcher.py:48: SettingWithCopyWarning: \n",
      "A value is trying to be set on a copy of a slice from a DataFrame\n",
      "\n",
      "See the caveats in the documentation: https://pandas.pydata.org/pandas-docs/stable/user_guide/indexing.html#returning-a-view-versus-a-copy\n",
      "/opt/conda/lib/python3.7/site-packages/ipykernel_launcher.py:46: SettingWithCopyWarning: \n",
      "A value is trying to be set on a copy of a slice from a DataFrame\n",
      "\n",
      "See the caveats in the documentation: https://pandas.pydata.org/pandas-docs/stable/user_guide/indexing.html#returning-a-view-versus-a-copy\n",
      "/opt/conda/lib/python3.7/site-packages/ipykernel_launcher.py:52: SettingWithCopyWarning: \n",
      "A value is trying to be set on a copy of a slice from a DataFrame\n",
      "\n",
      "See the caveats in the documentation: https://pandas.pydata.org/pandas-docs/stable/user_guide/indexing.html#returning-a-view-versus-a-copy\n",
      "/opt/conda/lib/python3.7/site-packages/ipykernel_launcher.py:50: SettingWithCopyWarning: \n",
      "A value is trying to be set on a copy of a slice from a DataFrame\n",
      "\n",
      "See the caveats in the documentation: https://pandas.pydata.org/pandas-docs/stable/user_guide/indexing.html#returning-a-view-versus-a-copy\n"
     ]
    }
   ],
   "source": [
    "# <12.5th percentile = 0\n",
    "# <25th percentile = 1\n",
    "# <37.5th percentile = 2\n",
    "# <50th percentile = 3\n",
    "# <62.5th percentile = 4 \n",
    "# <75th percentile = 5\n",
    "# <87.5th percentile = 6 \n",
    "# <100th percentile = 7\n",
    "\n",
    "percentile = np.quantile(train_df['Fare'], [0.125, 0.25, 0.375, 0.5, 0.625, 0.75, 0.875, 1])\n",
    "print(percentile)\n",
    "\n",
    "for i in range(len(train_df['Fare'])):\n",
    "    if train_df['Fare'][i] <= percentile[0]:\n",
    "        train_df['Fare'][i] = 0\n",
    "    elif train_df['Fare'][i] <= percentile[1]:\n",
    "        train_df['Fare'][i] = 1\n",
    "    elif train_df['Fare'][i] <= percentile[2]:\n",
    "        train_df['Fare'][i] = 2\n",
    "    elif train_df['Fare'][i] <= percentile[3]:\n",
    "        train_df['Fare'][i] = 3\n",
    "    elif train_df['Fare'][i] <= percentile[4]:\n",
    "        train_df['Fare'][i] = 4\n",
    "    elif train_df['Fare'][i] <= percentile[5]:\n",
    "        train_df['Fare'][i] = 5\n",
    "    elif train_df['Fare'][i] <= percentile[6]:\n",
    "        train_df['Fare'][i] = 6\n",
    "    elif train_df['Fare'][i] <= percentile[7]:\n",
    "        train_df['Fare'][i] = 7\n",
    "\n",
    "print(train_df[['Fare', 'Survived']].groupby(['Fare'], as_index=False).mean())\n",
    "\n",
    "# Fill in the two missing fare values with the average fare value\n",
    "test_df['Fare'].fillna(test_df['Fare'].dropna().median(), inplace=True)\n",
    "\n",
    "for i in range(len(test_df['Fare'])):\n",
    "    if test_df['Fare'][i] <= percentile[0]:\n",
    "        test_df['Fare'][i] = 0\n",
    "    elif test_df['Fare'][i] <= percentile[1]:\n",
    "        test_df['Fare'][i] = 1\n",
    "    elif test_df['Fare'][i] <= percentile[2]:\n",
    "        test_df['Fare'][i] = 2\n",
    "    elif test_df['Fare'][i] <= percentile[3]:\n",
    "        test_df['Fare'][i] = 3\n",
    "    elif test_df['Fare'][i] <= percentile[4]:\n",
    "        test_df['Fare'][i] = 4\n",
    "    elif test_df['Fare'][i] <= percentile[5]:\n",
    "        test_df['Fare'][i] = 5\n",
    "    elif test_df['Fare'][i] <= percentile[6]:\n",
    "        test_df['Fare'][i] = 6\n",
    "    elif test_df['Fare'][i] <= percentile[7]:\n",
    "        test_df['Fare'][i] = 7"
   ]
  },
  {
   "cell_type": "markdown",
   "id": "7f994c6b",
   "metadata": {
    "papermill": {
     "duration": 0.017672,
     "end_time": "2022-06-14T17:59:51.204503",
     "exception": false,
     "start_time": "2022-06-14T17:59:51.186831",
     "status": "completed"
    },
    "tags": []
   },
   "source": [
    "#### Convert 'Age' individual values to grouped data \n",
    "Binning helps deal with outliers"
   ]
  },
  {
   "cell_type": "code",
   "execution_count": 17,
   "id": "35f39c88",
   "metadata": {
    "execution": {
     "iopub.execute_input": "2022-06-14T17:59:51.242763Z",
     "iopub.status.busy": "2022-06-14T17:59:51.241939Z",
     "iopub.status.idle": "2022-06-14T17:59:51.695372Z",
     "shell.execute_reply": "2022-06-14T17:59:51.694268Z"
    },
    "papermill": {
     "duration": 0.475662,
     "end_time": "2022-06-14T17:59:51.698374",
     "exception": false,
     "start_time": "2022-06-14T17:59:51.222712",
     "status": "completed"
    },
    "tags": []
   },
   "outputs": [
    {
     "name": "stderr",
     "output_type": "stream",
     "text": [
      "/opt/conda/lib/python3.7/site-packages/ipykernel_launcher.py:17: SettingWithCopyWarning: \n",
      "A value is trying to be set on a copy of a slice from a DataFrame\n",
      "\n",
      "See the caveats in the documentation: https://pandas.pydata.org/pandas-docs/stable/user_guide/indexing.html#returning-a-view-versus-a-copy\n",
      "  app.launch_new_instance()\n",
      "/opt/conda/lib/python3.7/site-packages/ipykernel_launcher.py:23: SettingWithCopyWarning: \n",
      "A value is trying to be set on a copy of a slice from a DataFrame\n",
      "\n",
      "See the caveats in the documentation: https://pandas.pydata.org/pandas-docs/stable/user_guide/indexing.html#returning-a-view-versus-a-copy\n",
      "/opt/conda/lib/python3.7/site-packages/ipykernel_launcher.py:19: SettingWithCopyWarning: \n",
      "A value is trying to be set on a copy of a slice from a DataFrame\n",
      "\n",
      "See the caveats in the documentation: https://pandas.pydata.org/pandas-docs/stable/user_guide/indexing.html#returning-a-view-versus-a-copy\n",
      "/opt/conda/lib/python3.7/site-packages/ipykernel_launcher.py:15: SettingWithCopyWarning: \n",
      "A value is trying to be set on a copy of a slice from a DataFrame\n",
      "\n",
      "See the caveats in the documentation: https://pandas.pydata.org/pandas-docs/stable/user_guide/indexing.html#returning-a-view-versus-a-copy\n",
      "  from ipykernel import kernelapp as app\n",
      "/opt/conda/lib/python3.7/site-packages/ipykernel_launcher.py:27: SettingWithCopyWarning: \n",
      "A value is trying to be set on a copy of a slice from a DataFrame\n",
      "\n",
      "See the caveats in the documentation: https://pandas.pydata.org/pandas-docs/stable/user_guide/indexing.html#returning-a-view-versus-a-copy\n",
      "/opt/conda/lib/python3.7/site-packages/ipykernel_launcher.py:13: SettingWithCopyWarning: \n",
      "A value is trying to be set on a copy of a slice from a DataFrame\n",
      "\n",
      "See the caveats in the documentation: https://pandas.pydata.org/pandas-docs/stable/user_guide/indexing.html#returning-a-view-versus-a-copy\n",
      "  del sys.path[0]\n",
      "/opt/conda/lib/python3.7/site-packages/ipykernel_launcher.py:25: SettingWithCopyWarning: \n",
      "A value is trying to be set on a copy of a slice from a DataFrame\n",
      "\n",
      "See the caveats in the documentation: https://pandas.pydata.org/pandas-docs/stable/user_guide/indexing.html#returning-a-view-versus-a-copy\n",
      "/opt/conda/lib/python3.7/site-packages/ipykernel_launcher.py:21: SettingWithCopyWarning: \n",
      "A value is trying to be set on a copy of a slice from a DataFrame\n",
      "\n",
      "See the caveats in the documentation: https://pandas.pydata.org/pandas-docs/stable/user_guide/indexing.html#returning-a-view-versus-a-copy\n",
      "/opt/conda/lib/python3.7/site-packages/ipykernel_launcher.py:43: SettingWithCopyWarning: \n",
      "A value is trying to be set on a copy of a slice from a DataFrame\n",
      "\n",
      "See the caveats in the documentation: https://pandas.pydata.org/pandas-docs/stable/user_guide/indexing.html#returning-a-view-versus-a-copy\n",
      "/opt/conda/lib/python3.7/site-packages/ipykernel_launcher.py:47: SettingWithCopyWarning: \n",
      "A value is trying to be set on a copy of a slice from a DataFrame\n",
      "\n",
      "See the caveats in the documentation: https://pandas.pydata.org/pandas-docs/stable/user_guide/indexing.html#returning-a-view-versus-a-copy\n",
      "/opt/conda/lib/python3.7/site-packages/ipykernel_launcher.py:39: SettingWithCopyWarning: \n",
      "A value is trying to be set on a copy of a slice from a DataFrame\n",
      "\n",
      "See the caveats in the documentation: https://pandas.pydata.org/pandas-docs/stable/user_guide/indexing.html#returning-a-view-versus-a-copy\n",
      "/opt/conda/lib/python3.7/site-packages/ipykernel_launcher.py:37: SettingWithCopyWarning: \n",
      "A value is trying to be set on a copy of a slice from a DataFrame\n",
      "\n",
      "See the caveats in the documentation: https://pandas.pydata.org/pandas-docs/stable/user_guide/indexing.html#returning-a-view-versus-a-copy\n",
      "/opt/conda/lib/python3.7/site-packages/ipykernel_launcher.py:33: SettingWithCopyWarning: \n",
      "A value is trying to be set on a copy of a slice from a DataFrame\n",
      "\n",
      "See the caveats in the documentation: https://pandas.pydata.org/pandas-docs/stable/user_guide/indexing.html#returning-a-view-versus-a-copy\n",
      "/opt/conda/lib/python3.7/site-packages/ipykernel_launcher.py:41: SettingWithCopyWarning: \n",
      "A value is trying to be set on a copy of a slice from a DataFrame\n",
      "\n",
      "See the caveats in the documentation: https://pandas.pydata.org/pandas-docs/stable/user_guide/indexing.html#returning-a-view-versus-a-copy\n",
      "/opt/conda/lib/python3.7/site-packages/ipykernel_launcher.py:35: SettingWithCopyWarning: \n",
      "A value is trying to be set on a copy of a slice from a DataFrame\n",
      "\n",
      "See the caveats in the documentation: https://pandas.pydata.org/pandas-docs/stable/user_guide/indexing.html#returning-a-view-versus-a-copy\n",
      "/opt/conda/lib/python3.7/site-packages/ipykernel_launcher.py:45: SettingWithCopyWarning: \n",
      "A value is trying to be set on a copy of a slice from a DataFrame\n",
      "\n",
      "See the caveats in the documentation: https://pandas.pydata.org/pandas-docs/stable/user_guide/indexing.html#returning-a-view-versus-a-copy\n"
     ]
    }
   ],
   "source": [
    "# <12.5th percentile = 0\n",
    "# <25th percentile = 1\n",
    "# <37.5th percentile = 2\n",
    "# <50th percentile = 3\n",
    "# <62.5th percentile = 4 \n",
    "# <75th percentile = 5\n",
    "# <87.5th percentile = 6 \n",
    "# <100th percentile = 7\n",
    "\n",
    "percentile_age = np.quantile(train_df['Age'], [0.125, 0.25, 0.375, 0.5, 0.625, 0.75, 0.875, 1])\n",
    "for i in range(len(train_df['Age'])):\n",
    "    if train_df['Age'][i] <= percentile_age[0]:\n",
    "        train_df['Age'][i] = 0\n",
    "    elif train_df['Age'][i] <= percentile_age[1]:\n",
    "        train_df['Age'][i] = 1\n",
    "    elif train_df['Age'][i] <= percentile_age[2]:\n",
    "        train_df['Age'][i] = 2\n",
    "    elif train_df['Age'][i] <= percentile_age[3]:\n",
    "        train_df['Age'][i] = 3\n",
    "    elif train_df['Age'][i] <= percentile_age[4]:\n",
    "        train_df['Age'][i] = 4\n",
    "    elif train_df['Age'][i] <= percentile_age[5]:\n",
    "        train_df['Age'][i] = 5\n",
    "    elif train_df['Age'][i] <= percentile_age[6]:\n",
    "        train_df['Age'][i] = 6\n",
    "    elif train_df['Age'][i] <= percentile_age[7]:\n",
    "        train_df['Age'][i] = 7\n",
    "\n",
    "# print(train_df[['Age', 'Survived']].groupby(['Age'], as_index=False).mean())\n",
    "\n",
    "for i in range(len(test_df['Age'])):\n",
    "    if test_df['Age'][i] <= percentile_age[0]:\n",
    "        test_df['Age'][i] = 0\n",
    "    elif test_df['Age'][i] <= percentile_age[1]:\n",
    "        test_df['Age'][i] = 1\n",
    "    elif test_df['Age'][i] <= percentile_age[2]:\n",
    "        test_df['Age'][i] = 2\n",
    "    elif test_df['Age'][i] <= percentile_age[3]:\n",
    "        test_df['Age'][i] = 3\n",
    "    elif test_df['Age'][i] <= percentile_age[4]:\n",
    "        test_df['Age'][i] = 4\n",
    "    elif test_df['Age'][i] <= percentile_age[5]:\n",
    "        test_df['Age'][i] = 5\n",
    "    elif test_df['Age'][i] <= percentile_age[6]:\n",
    "        test_df['Age'][i] = 6\n",
    "    elif test_df['Age'][i] <= percentile_age[7]:\n",
    "        test_df['Age'][i] = 7"
   ]
  },
  {
   "cell_type": "markdown",
   "id": "2ca8ece6",
   "metadata": {
    "papermill": {
     "duration": 0.018382,
     "end_time": "2022-06-14T17:59:51.736969",
     "exception": false,
     "start_time": "2022-06-14T17:59:51.718587",
     "status": "completed"
    },
    "tags": []
   },
   "source": [
    "#### RESULTING DATA EXTRACTED: \n",
    "- Title: extracted from the Name column\n",
    "- NumRelatives: extracted by combining SibSp and Parch \n",
    "- Deck: extracted from the first letter of Cabin's\n",
    "\n",
    "#### RESULTING ASSUMPTIONS FOR EACH COLUMN: \n",
    "- PassengerId: dropped - no correlation to survival\n",
    "- Pclass: correlates to survival\n",
    "- Name: dropped - no correlation to survival without too complicated algorithms \n",
    "- Sex: correlates to survival, needs to be converted to number set\n",
    "- Age: correlates to survival, many missing values - needs to be completed\n",
    "- SibSp: dropped - too vague to correlate to survival without further complicated analysis\n",
    "- Parch: dropped - too vague to correlate to survival without further complicated analysis\n",
    "- Ticket: dropped - no correlation to survival, and high rate of duplication\n",
    "- Fare: converted into bands for better dealing of outliers\n",
    "- Cabin: dropped - no correlation to survival, and high rate of duplication and many missing values \n",
    "- Embarked: correlates to survival, needs to be completed"
   ]
  },
  {
   "cell_type": "markdown",
   "id": "0e57bfdd",
   "metadata": {
    "papermill": {
     "duration": 0.018713,
     "end_time": "2022-06-14T17:59:51.773992",
     "exception": false,
     "start_time": "2022-06-14T17:59:51.755279",
     "status": "completed"
    },
    "tags": []
   },
   "source": [
    "## Convert Categorical Column Values to Numerical Values\n",
    "#### Convert 'S', 'C' and 'Q' to numerical values for analysis"
   ]
  },
  {
   "cell_type": "code",
   "execution_count": 18,
   "id": "5db58559",
   "metadata": {
    "execution": {
     "iopub.execute_input": "2022-06-14T17:59:51.812648Z",
     "iopub.status.busy": "2022-06-14T17:59:51.812209Z",
     "iopub.status.idle": "2022-06-14T17:59:52.215695Z",
     "shell.execute_reply": "2022-06-14T17:59:52.214273Z"
    },
    "papermill": {
     "duration": 0.425777,
     "end_time": "2022-06-14T17:59:52.218177",
     "exception": false,
     "start_time": "2022-06-14T17:59:51.792400",
     "status": "completed"
    },
    "tags": []
   },
   "outputs": [
    {
     "name": "stderr",
     "output_type": "stream",
     "text": [
      "/opt/conda/lib/python3.7/site-packages/ipykernel_launcher.py:11: SettingWithCopyWarning: \n",
      "A value is trying to be set on a copy of a slice from a DataFrame\n",
      "\n",
      "See the caveats in the documentation: https://pandas.pydata.org/pandas-docs/stable/user_guide/indexing.html#returning-a-view-versus-a-copy\n",
      "  # This is added back by InteractiveShellApp.init_path()\n",
      "/opt/conda/lib/python3.7/site-packages/ipykernel_launcher.py:7: SettingWithCopyWarning: \n",
      "A value is trying to be set on a copy of a slice from a DataFrame\n",
      "\n",
      "See the caveats in the documentation: https://pandas.pydata.org/pandas-docs/stable/user_guide/indexing.html#returning-a-view-versus-a-copy\n",
      "  import sys\n",
      "/opt/conda/lib/python3.7/site-packages/ipykernel_launcher.py:9: SettingWithCopyWarning: \n",
      "A value is trying to be set on a copy of a slice from a DataFrame\n",
      "\n",
      "See the caveats in the documentation: https://pandas.pydata.org/pandas-docs/stable/user_guide/indexing.html#returning-a-view-versus-a-copy\n",
      "  if __name__ == \"__main__\":\n",
      "/opt/conda/lib/python3.7/site-packages/ipykernel_launcher.py:19: SettingWithCopyWarning: \n",
      "A value is trying to be set on a copy of a slice from a DataFrame\n",
      "\n",
      "See the caveats in the documentation: https://pandas.pydata.org/pandas-docs/stable/user_guide/indexing.html#returning-a-view-versus-a-copy\n",
      "/opt/conda/lib/python3.7/site-packages/ipykernel_launcher.py:21: SettingWithCopyWarning: \n",
      "A value is trying to be set on a copy of a slice from a DataFrame\n",
      "\n",
      "See the caveats in the documentation: https://pandas.pydata.org/pandas-docs/stable/user_guide/indexing.html#returning-a-view-versus-a-copy\n",
      "/opt/conda/lib/python3.7/site-packages/ipykernel_launcher.py:17: SettingWithCopyWarning: \n",
      "A value is trying to be set on a copy of a slice from a DataFrame\n",
      "\n",
      "See the caveats in the documentation: https://pandas.pydata.org/pandas-docs/stable/user_guide/indexing.html#returning-a-view-versus-a-copy\n",
      "  app.launch_new_instance()\n"
     ]
    },
    {
     "name": "stdout",
     "output_type": "stream",
     "text": [
      "   Embarked  Survived\n",
      "0         1  0.553571\n",
      "1         2  0.389610\n",
      "2         3  0.339009\n"
     ]
    }
   ],
   "source": [
    "cherbourg = 1 # C=1\n",
    "queenstown = 2 # Q=2\n",
    "southhampton = 3# S=3\n",
    "\n",
    "for i in range(len(train_df)):\n",
    "    if train_df['Embarked'][i] == 'C':\n",
    "        train_df['Embarked'][i] = cherbourg\n",
    "    elif train_df['Embarked'][i] == 'Q':\n",
    "        train_df['Embarked'][i] = queenstown    \n",
    "    elif train_df['Embarked'][i] == 'S':\n",
    "        train_df['Embarked'][i] = southhampton\n",
    "\n",
    "print(train_df[['Embarked', 'Survived']].groupby(['Embarked'], as_index=False).mean())\n",
    "\n",
    "for i in range(len(test_df)):\n",
    "    if test_df['Embarked'][i] == 'C':\n",
    "        test_df['Embarked'][i] = cherbourg\n",
    "    elif test_df['Embarked'][i] == 'Q':\n",
    "        test_df['Embarked'][i] = queenstown    \n",
    "    elif test_df['Embarked'][i] == 'S':\n",
    "        test_df['Embarked'][i] = southhampton"
   ]
  },
  {
   "cell_type": "markdown",
   "id": "f7758d12",
   "metadata": {
    "papermill": {
     "duration": 0.018725,
     "end_time": "2022-06-14T17:59:52.255612",
     "exception": false,
     "start_time": "2022-06-14T17:59:52.236887",
     "status": "completed"
    },
    "tags": []
   },
   "source": [
    "#### Convert 'Titles' to numerical values for analysis"
   ]
  },
  {
   "cell_type": "code",
   "execution_count": 19,
   "id": "a953ad0d",
   "metadata": {
    "execution": {
     "iopub.execute_input": "2022-06-14T17:59:52.297387Z",
     "iopub.status.busy": "2022-06-14T17:59:52.297018Z",
     "iopub.status.idle": "2022-06-14T17:59:52.828584Z",
     "shell.execute_reply": "2022-06-14T17:59:52.827431Z"
    },
    "papermill": {
     "duration": 0.554467,
     "end_time": "2022-06-14T17:59:52.830528",
     "exception": false,
     "start_time": "2022-06-14T17:59:52.276061",
     "status": "completed"
    },
    "tags": []
   },
   "outputs": [
    {
     "name": "stdout",
     "output_type": "stream",
     "text": [
      "['Mr' 'Mrs' 'Miss' 'Master' 'Don' 'Rev' 'Dr' 'Mme' 'Ms' 'Major' 'Lady'\n",
      " 'Sir' 'Mlle' 'Col' 'Capt' 'Countess' 'Jonkheer']\n",
      "    Title  Survived\n",
      "0       0  0.156673\n",
      "1       1  0.792000\n",
      "2       2  0.697802\n",
      "3       3  0.575000\n",
      "4       4  0.000000\n",
      "5       5  0.000000\n",
      "6       6  0.428571\n",
      "7       7  1.000000\n",
      "8       8  1.000000\n",
      "9       9  0.500000\n",
      "10     10  1.000000\n",
      "11     11  1.000000\n",
      "12     12  1.000000\n",
      "13     13  0.500000\n",
      "14     14  0.000000\n",
      "15     15  1.000000\n",
      "16     16  0.000000\n"
     ]
    },
    {
     "name": "stderr",
     "output_type": "stream",
     "text": [
      "/opt/conda/lib/python3.7/site-packages/ipykernel_launcher.py:19: SettingWithCopyWarning: \n",
      "A value is trying to be set on a copy of a slice from a DataFrame\n",
      "\n",
      "See the caveats in the documentation: https://pandas.pydata.org/pandas-docs/stable/user_guide/indexing.html#returning-a-view-versus-a-copy\n",
      "/opt/conda/lib/python3.7/site-packages/ipykernel_launcher.py:27: SettingWithCopyWarning: \n",
      "A value is trying to be set on a copy of a slice from a DataFrame\n",
      "\n",
      "See the caveats in the documentation: https://pandas.pydata.org/pandas-docs/stable/user_guide/indexing.html#returning-a-view-versus-a-copy\n"
     ]
    }
   ],
   "source": [
    "# print(titles_updated)\n",
    "# for i in range(len(train_df)):\n",
    "#     for j in range(0, len(titles_updated)):\n",
    "#         if train_df['Title'][i] == titles_updated[j]:\n",
    "#             train_df['Title'][i] = j\n",
    "\n",
    "# print(train_df[['Title', 'Survived']].groupby(['Title'], as_index=False).mean())\n",
    "\n",
    "# for i in range(len(test_df)):\n",
    "#     for j in range(len(titles_updated)):\n",
    "#         if test_df['Title'][i] == titles_updated[j]:\n",
    "#             test_df['Title'][i] = j\n",
    "\n",
    "title_array = train_df['Title'].unique()\n",
    "print(title_array)\n",
    "for i in range(len(train_df)):\n",
    "    for j in range(0, len(title_array)):\n",
    "        if train_df['Title'][i] == title_array[j]:\n",
    "            train_df['Title'][i] = j\n",
    "\n",
    "print(train_df[['Title', 'Survived']].groupby(['Title'], as_index=False).mean())\n",
    "\n",
    "title_array_test = test_df['Title'].unique()\n",
    "for i in range(len(test_df)):\n",
    "    for j in range(len(title_array_test)):\n",
    "        if test_df['Title'][i] == title_array_test[j]:\n",
    "            test_df['Title'][i] = j"
   ]
  },
  {
   "cell_type": "markdown",
   "id": "133b22c1",
   "metadata": {
    "papermill": {
     "duration": 0.039288,
     "end_time": "2022-06-14T17:59:52.889094",
     "exception": false,
     "start_time": "2022-06-14T17:59:52.849806",
     "status": "completed"
    },
    "tags": []
   },
   "source": [
    "#### Convert 'Sex' to numerical values for analysis"
   ]
  },
  {
   "cell_type": "code",
   "execution_count": 20,
   "id": "86544ecb",
   "metadata": {
    "execution": {
     "iopub.execute_input": "2022-06-14T17:59:52.928820Z",
     "iopub.status.busy": "2022-06-14T17:59:52.928433Z",
     "iopub.status.idle": "2022-06-14T17:59:53.334382Z",
     "shell.execute_reply": "2022-06-14T17:59:53.333223Z"
    },
    "papermill": {
     "duration": 0.428137,
     "end_time": "2022-06-14T17:59:53.336496",
     "exception": false,
     "start_time": "2022-06-14T17:59:52.908359",
     "status": "completed"
    },
    "tags": []
   },
   "outputs": [
    {
     "name": "stdout",
     "output_type": "stream",
     "text": [
      "   Sex  Survived\n",
      "0    0  0.742038\n",
      "1    1  0.188908\n"
     ]
    },
    {
     "name": "stderr",
     "output_type": "stream",
     "text": [
      "/opt/conda/lib/python3.7/site-packages/ipykernel_launcher.py:5: SettingWithCopyWarning: \n",
      "A value is trying to be set on a copy of a slice from a DataFrame\n",
      "\n",
      "See the caveats in the documentation: https://pandas.pydata.org/pandas-docs/stable/user_guide/indexing.html#returning-a-view-versus-a-copy\n",
      "  \"\"\"\n",
      "/opt/conda/lib/python3.7/site-packages/ipykernel_launcher.py:3: SettingWithCopyWarning: \n",
      "A value is trying to be set on a copy of a slice from a DataFrame\n",
      "\n",
      "See the caveats in the documentation: https://pandas.pydata.org/pandas-docs/stable/user_guide/indexing.html#returning-a-view-versus-a-copy\n",
      "  This is separate from the ipykernel package so we can avoid doing imports until\n",
      "/opt/conda/lib/python3.7/site-packages/ipykernel_launcher.py:13: SettingWithCopyWarning: \n",
      "A value is trying to be set on a copy of a slice from a DataFrame\n",
      "\n",
      "See the caveats in the documentation: https://pandas.pydata.org/pandas-docs/stable/user_guide/indexing.html#returning-a-view-versus-a-copy\n",
      "  del sys.path[0]\n",
      "/opt/conda/lib/python3.7/site-packages/ipykernel_launcher.py:11: SettingWithCopyWarning: \n",
      "A value is trying to be set on a copy of a slice from a DataFrame\n",
      "\n",
      "See the caveats in the documentation: https://pandas.pydata.org/pandas-docs/stable/user_guide/indexing.html#returning-a-view-versus-a-copy\n",
      "  # This is added back by InteractiveShellApp.init_path()\n"
     ]
    }
   ],
   "source": [
    "for i in range(len(train_df)):\n",
    "    if train_df['Sex'][i] == 'female':\n",
    "        train_df['Sex'][i] = 0\n",
    "    elif train_df['Sex'][i] == 'male':\n",
    "        train_df['Sex'][i] = 1\n",
    "\n",
    "print(train_df[['Sex', 'Survived']].groupby(['Sex'], as_index=False).mean())\n",
    "\n",
    "for i in range(len(test_df)):\n",
    "    if test_df['Sex'][i] == 'female':\n",
    "        test_df['Sex'][i] = 0\n",
    "    elif test_df['Sex'][i] == 'male':\n",
    "        test_df['Sex'][i] = 1"
   ]
  },
  {
   "cell_type": "markdown",
   "id": "ea26fcd8",
   "metadata": {
    "papermill": {
     "duration": 0.018469,
     "end_time": "2022-06-14T17:59:53.374517",
     "exception": false,
     "start_time": "2022-06-14T17:59:53.356048",
     "status": "completed"
    },
    "tags": []
   },
   "source": [
    "#### Fill in all blank values of test_db with 0"
   ]
  },
  {
   "cell_type": "markdown",
   "id": "058e59e0",
   "metadata": {
    "papermill": {
     "duration": 0.018355,
     "end_time": "2022-06-14T17:59:53.412262",
     "exception": false,
     "start_time": "2022-06-14T17:59:53.393907",
     "status": "completed"
    },
    "tags": []
   },
   "source": [
    "## Final Data Display"
   ]
  },
  {
   "cell_type": "code",
   "execution_count": 21,
   "id": "8326b9b4",
   "metadata": {
    "execution": {
     "iopub.execute_input": "2022-06-14T17:59:53.451212Z",
     "iopub.status.busy": "2022-06-14T17:59:53.450795Z",
     "iopub.status.idle": "2022-06-14T17:59:53.934513Z",
     "shell.execute_reply": "2022-06-14T17:59:53.933845Z"
    },
    "papermill": {
     "duration": 0.505341,
     "end_time": "2022-06-14T17:59:53.936213",
     "exception": false,
     "start_time": "2022-06-14T17:59:53.430872",
     "status": "completed"
    },
    "tags": []
   },
   "outputs": [
    {
     "data": {
      "image/png": "[encoded data removed]",
      "text/plain": [
       "<Figure size 432x288 with 1 Axes>"
      ]
     },
     "metadata": {
      "needs_background": "light"
     },
     "output_type": "display_data"
    },
    {
     "data": {
      "image/png": "[encoded data removed]",
      "text/plain": [
       "<Figure size 432x288 with 1 Axes>"
      ]
     },
     "metadata": {
      "needs_background": "light"
     },
     "output_type": "display_data"
    },
    {
     "data": {
      "image/png": "[encoded data removed]",
      "text/plain": [
       "<Figure size 432x288 with 1 Axes>"
      ]
     },
     "metadata": {
      "needs_background": "light"
     },
     "output_type": "display_data"
    }
   ],
   "source": [
    "cols = categorical_columns\n",
    "\n",
    "for i in range(0, len(cols)):\n",
    "    if(cols[i] != 'Survived'):\n",
    "        sns.countplot(x=train_df[cols[i]], hue=train_df[\"Survived\"])\n",
    "        plt.show()"
   ]
  },
  {
   "cell_type": "markdown",
   "id": "6e217c79",
   "metadata": {
    "papermill": {
     "duration": 0.018935,
     "end_time": "2022-06-14T17:59:53.974554",
     "exception": false,
     "start_time": "2022-06-14T17:59:53.955619",
     "status": "completed"
    },
    "tags": []
   },
   "source": [
    "## Machine Learning Algorithm Implementation"
   ]
  },
  {
   "cell_type": "code",
   "execution_count": 22,
   "id": "4c031957",
   "metadata": {
    "execution": {
     "iopub.execute_input": "2022-06-14T17:59:54.015488Z",
     "iopub.status.busy": "2022-06-14T17:59:54.014909Z",
     "iopub.status.idle": "2022-06-14T17:59:54.025134Z",
     "shell.execute_reply": "2022-06-14T17:59:54.024112Z"
    },
    "papermill": {
     "duration": 0.033023,
     "end_time": "2022-06-14T17:59:54.027270",
     "exception": false,
     "start_time": "2022-06-14T17:59:53.994247",
     "status": "completed"
    },
    "tags": []
   },
   "outputs": [
    {
     "data": {
      "text/plain": [
       "((891, 9), (891,), (418, 9))"
      ]
     },
     "execution_count": 22,
     "metadata": {},
     "output_type": "execute_result"
    }
   ],
   "source": [
    "train_x = train_df.drop(\"Survived\", axis=1)\n",
    "train_y = train_df[\"Survived\"]\n",
    "test_x  = test_df.drop(\"PassengerId\", axis=1).copy()\n",
    "train_x.shape, train_y.shape, test_x.shape"
   ]
  },
  {
   "cell_type": "markdown",
   "id": "b1c80fe0",
   "metadata": {
    "papermill": {
     "duration": 0.01918,
     "end_time": "2022-06-14T17:59:54.066374",
     "exception": false,
     "start_time": "2022-06-14T17:59:54.047194",
     "status": "completed"
    },
    "tags": []
   },
   "source": [
    "#### Logistic Regression"
   ]
  },
  {
   "cell_type": "code",
   "execution_count": 23,
   "id": "7901abe3",
   "metadata": {
    "execution": {
     "iopub.execute_input": "2022-06-14T17:59:54.107229Z",
     "iopub.status.busy": "2022-06-14T17:59:54.106825Z",
     "iopub.status.idle": "2022-06-14T17:59:54.142851Z",
     "shell.execute_reply": "2022-06-14T17:59:54.141876Z"
    },
    "papermill": {
     "duration": 0.059506,
     "end_time": "2022-06-14T17:59:54.145110",
     "exception": false,
     "start_time": "2022-06-14T17:59:54.085604",
     "status": "completed"
    },
    "tags": []
   },
   "outputs": [
    {
     "data": {
      "text/plain": [
       "80.1347"
      ]
     },
     "execution_count": 23,
     "metadata": {},
     "output_type": "execute_result"
    }
   ],
   "source": [
    "logistic_regression = LogisticRegression(C = 25, max_iter = 360)\n",
    "logistic_regression.fit(train_x, train_y)\n",
    "prediction_lr = logistic_regression.predict(test_x)\n",
    "accuracy_lr = round(logistic_regression.score(train_x, train_y) * 100, 4)\n",
    "accuracy_lr"
   ]
  },
  {
   "cell_type": "markdown",
   "id": "10318c39",
   "metadata": {
    "papermill": {
     "duration": 0.019308,
     "end_time": "2022-06-14T17:59:54.184080",
     "exception": false,
     "start_time": "2022-06-14T17:59:54.164772",
     "status": "completed"
    },
    "tags": []
   },
   "source": [
    "#### KNN"
   ]
  },
  {
   "cell_type": "code",
   "execution_count": 24,
   "id": "1ee39f02",
   "metadata": {
    "execution": {
     "iopub.execute_input": "2022-06-14T17:59:54.224501Z",
     "iopub.status.busy": "2022-06-14T17:59:54.224123Z",
     "iopub.status.idle": "2022-06-14T17:59:54.281484Z",
     "shell.execute_reply": "2022-06-14T17:59:54.280350Z"
    },
    "papermill": {
     "duration": 0.079945,
     "end_time": "2022-06-14T17:59:54.283503",
     "exception": false,
     "start_time": "2022-06-14T17:59:54.203558",
     "status": "completed"
    },
    "tags": []
   },
   "outputs": [
    {
     "data": {
      "text/plain": [
       "86.7565"
      ]
     },
     "execution_count": 24,
     "metadata": {},
     "output_type": "execute_result"
    }
   ],
   "source": [
    "knn = KNeighborsClassifier(n_neighbors = 3)\n",
    "knn.fit(train_x, train_y)\n",
    "prediction_knn = knn.predict(test_x)\n",
    "accuracy_knn = round(knn.score(train_x, train_y) * 100, 4)\n",
    "accuracy_knn"
   ]
  },
  {
   "cell_type": "markdown",
   "id": "5830257d",
   "metadata": {
    "papermill": {
     "duration": 0.022595,
     "end_time": "2022-06-14T17:59:54.329992",
     "exception": false,
     "start_time": "2022-06-14T17:59:54.307397",
     "status": "completed"
    },
    "tags": []
   },
   "source": [
    "Gaussian Naive Bayes"
   ]
  },
  {
   "cell_type": "code",
   "execution_count": 25,
   "id": "8487aabd",
   "metadata": {
    "execution": {
     "iopub.execute_input": "2022-06-14T17:59:54.387073Z",
     "iopub.status.busy": "2022-06-14T17:59:54.386533Z",
     "iopub.status.idle": "2022-06-14T17:59:54.402825Z",
     "shell.execute_reply": "2022-06-14T17:59:54.401952Z"
    },
    "papermill": {
     "duration": 0.041961,
     "end_time": "2022-06-14T17:59:54.405143",
     "exception": false,
     "start_time": "2022-06-14T17:59:54.363182",
     "status": "completed"
    },
    "tags": []
   },
   "outputs": [
    {
     "data": {
      "text/plain": [
       "76.7677"
      ]
     },
     "execution_count": 25,
     "metadata": {},
     "output_type": "execute_result"
    }
   ],
   "source": [
    "gaussian = GaussianNB()\n",
    "gaussian.fit(train_x, train_y)\n",
    "prediction_gauss = gaussian.predict(test_x)\n",
    "accuracy_gauss = round(gaussian.score(train_x, train_y) * 100, 4)\n",
    "accuracy_gauss"
   ]
  },
  {
   "cell_type": "markdown",
   "id": "0c8ad8a8",
   "metadata": {
    "papermill": {
     "duration": 0.026692,
     "end_time": "2022-06-14T17:59:54.451617",
     "exception": false,
     "start_time": "2022-06-14T17:59:54.424925",
     "status": "completed"
    },
    "tags": []
   },
   "source": [
    "MLP"
   ]
  },
  {
   "cell_type": "code",
   "execution_count": 26,
   "id": "a9875896",
   "metadata": {
    "execution": {
     "iopub.execute_input": "2022-06-14T17:59:54.512330Z",
     "iopub.status.busy": "2022-06-14T17:59:54.511704Z",
     "iopub.status.idle": "2022-06-14T17:59:56.297917Z",
     "shell.execute_reply": "2022-06-14T17:59:56.296613Z"
    },
    "papermill": {
     "duration": 1.818521,
     "end_time": "2022-06-14T17:59:56.304799",
     "exception": false,
     "start_time": "2022-06-14T17:59:54.486278",
     "status": "completed"
    },
    "tags": []
   },
   "outputs": [
    {
     "name": "stderr",
     "output_type": "stream",
     "text": [
      "/opt/conda/lib/python3.7/site-packages/sklearn/neural_network/_multilayer_perceptron.py:696: ConvergenceWarning: Stochastic Optimizer: Maximum iterations (200) reached and the optimization hasn't converged yet.\n",
      "  ConvergenceWarning,\n"
     ]
    },
    {
     "data": {
      "text/plain": [
       "84.7363"
      ]
     },
     "execution_count": 26,
     "metadata": {},
     "output_type": "execute_result"
    }
   ],
   "source": [
    "mlp_classification = MLPClassifier() \n",
    "mlp_classification.fit(train_x, train_y)\n",
    "prediction_mlp = mlp_classification.predict(test_x)\n",
    "accuracy_mlp = round(mlp_classification.score(train_x, train_y) * 100, 4)\n",
    "accuracy_mlp"
   ]
  },
  {
   "cell_type": "markdown",
   "id": "8330c81d",
   "metadata": {
    "papermill": {
     "duration": 0.040134,
     "end_time": "2022-06-14T17:59:56.387396",
     "exception": false,
     "start_time": "2022-06-14T17:59:56.347262",
     "status": "completed"
    },
    "tags": []
   },
   "source": [
    "## Split Up Training Data"
   ]
  },
  {
   "cell_type": "code",
   "execution_count": 27,
   "id": "90c6cfbe",
   "metadata": {
    "execution": {
     "iopub.execute_input": "2022-06-14T17:59:56.441516Z",
     "iopub.status.busy": "2022-06-14T17:59:56.441128Z",
     "iopub.status.idle": "2022-06-14T17:59:56.448195Z",
     "shell.execute_reply": "2022-06-14T17:59:56.447276Z"
    },
    "papermill": {
     "duration": 0.029945,
     "end_time": "2022-06-14T17:59:56.450307",
     "exception": false,
     "start_time": "2022-06-14T17:59:56.420362",
     "status": "completed"
    },
    "tags": []
   },
   "outputs": [],
   "source": [
    "# split training data into training and validation data\n",
    "train_X, validation_X, train_Y, validation_Y = train_test_split(train_x, train_y, test_size = 0.25, random_state = 10)  "
   ]
  },
  {
   "cell_type": "markdown",
   "id": "4efd4ac8",
   "metadata": {
    "papermill": {
     "duration": 0.02048,
     "end_time": "2022-06-14T17:59:56.491156",
     "exception": false,
     "start_time": "2022-06-14T17:59:56.470676",
     "status": "completed"
    },
    "tags": []
   },
   "source": [
    "## Logistic Regression Tuning"
   ]
  },
  {
   "cell_type": "markdown",
   "id": "dcb2964e",
   "metadata": {
    "papermill": {
     "duration": 0.019475,
     "end_time": "2022-06-14T17:59:56.530854",
     "exception": false,
     "start_time": "2022-06-14T17:59:56.511379",
     "status": "completed"
    },
    "tags": []
   },
   "source": [
    "#### Testing Logistic Regression on Validation Set with No Parameters"
   ]
  },
  {
   "cell_type": "code",
   "execution_count": 28,
   "id": "25506dab",
   "metadata": {
    "execution": {
     "iopub.execute_input": "2022-06-14T17:59:56.572359Z",
     "iopub.status.busy": "2022-06-14T17:59:56.571967Z",
     "iopub.status.idle": "2022-06-14T17:59:56.599104Z",
     "shell.execute_reply": "2022-06-14T17:59:56.598381Z"
    },
    "papermill": {
     "duration": 0.049852,
     "end_time": "2022-06-14T17:59:56.600935",
     "exception": false,
     "start_time": "2022-06-14T17:59:56.551083",
     "status": "completed"
    },
    "tags": []
   },
   "outputs": [
    {
     "data": {
      "text/plain": [
       "79.491"
      ]
     },
     "execution_count": 28,
     "metadata": {},
     "output_type": "execute_result"
    }
   ],
   "source": [
    "logistic_regression = LogisticRegression()\n",
    "logistic_regression.fit(train_X, train_Y)\n",
    "prediction = logistic_regression.predict(validation_X)\n",
    "accuracy = round(logistic_regression.score(train_X, train_Y) * 100, 4)\n",
    "accuracy"
   ]
  },
  {
   "cell_type": "markdown",
   "id": "6c17772b",
   "metadata": {
    "papermill": {
     "duration": 0.021101,
     "end_time": "2022-06-14T17:59:56.641880",
     "exception": false,
     "start_time": "2022-06-14T17:59:56.620779",
     "status": "completed"
    },
    "tags": []
   },
   "source": [
    "#### Grid Search Method"
   ]
  },
  {
   "cell_type": "code",
   "execution_count": 29,
   "id": "03779ff7",
   "metadata": {
    "execution": {
     "iopub.execute_input": "2022-06-14T17:59:56.683634Z",
     "iopub.status.busy": "2022-06-14T17:59:56.683005Z",
     "iopub.status.idle": "2022-06-14T18:00:42.504808Z",
     "shell.execute_reply": "2022-06-14T18:00:42.503803Z"
    },
    "papermill": {
     "duration": 45.844926,
     "end_time": "2022-06-14T18:00:42.506989",
     "exception": false,
     "start_time": "2022-06-14T17:59:56.662063",
     "status": "completed"
    },
    "tags": []
   },
   "outputs": [
    {
     "name": "stderr",
     "output_type": "stream",
     "text": [
      "/opt/conda/lib/python3.7/site-packages/sklearn/linear_model/_sag.py:354: ConvergenceWarning: The max_iter was reached which means the coef_ did not converge\n",
      "  ConvergenceWarning,\n",
      "/opt/conda/lib/python3.7/site-packages/sklearn/linear_model/_sag.py:354: ConvergenceWarning: The max_iter was reached which means the coef_ did not converge\n",
      "  ConvergenceWarning,\n",
      "/opt/conda/lib/python3.7/site-packages/sklearn/linear_model/_sag.py:354: ConvergenceWarning: The max_iter was reached which means the coef_ did not converge\n",
      "  ConvergenceWarning,\n",
      "/opt/conda/lib/python3.7/site-packages/sklearn/linear_model/_sag.py:354: ConvergenceWarning: The max_iter was reached which means the coef_ did not converge\n",
      "  ConvergenceWarning,\n",
      "/opt/conda/lib/python3.7/site-packages/sklearn/linear_model/_sag.py:354: ConvergenceWarning: The max_iter was reached which means the coef_ did not converge\n",
      "  ConvergenceWarning,\n",
      "/opt/conda/lib/python3.7/site-packages/sklearn/linear_model/_sag.py:354: ConvergenceWarning: The max_iter was reached which means the coef_ did not converge\n",
      "  ConvergenceWarning,\n",
      "/opt/conda/lib/python3.7/site-packages/sklearn/linear_model/_sag.py:354: ConvergenceWarning: The max_iter was reached which means the coef_ did not converge\n",
      "  ConvergenceWarning,\n",
      "/opt/conda/lib/python3.7/site-packages/sklearn/linear_model/_sag.py:354: ConvergenceWarning: The max_iter was reached which means the coef_ did not converge\n",
      "  ConvergenceWarning,\n",
      "/opt/conda/lib/python3.7/site-packages/sklearn/linear_model/_sag.py:354: ConvergenceWarning: The max_iter was reached which means the coef_ did not converge\n",
      "  ConvergenceWarning,\n",
      "/opt/conda/lib/python3.7/site-packages/sklearn/linear_model/_sag.py:354: ConvergenceWarning: The max_iter was reached which means the coef_ did not converge\n",
      "  ConvergenceWarning,\n",
      "/opt/conda/lib/python3.7/site-packages/sklearn/linear_model/_sag.py:354: ConvergenceWarning: The max_iter was reached which means the coef_ did not converge\n",
      "  ConvergenceWarning,\n",
      "/opt/conda/lib/python3.7/site-packages/sklearn/linear_model/_sag.py:354: ConvergenceWarning: The max_iter was reached which means the coef_ did not converge\n",
      "  ConvergenceWarning,\n",
      "/opt/conda/lib/python3.7/site-packages/sklearn/linear_model/_sag.py:354: ConvergenceWarning: The max_iter was reached which means the coef_ did not converge\n",
      "  ConvergenceWarning,\n",
      "/opt/conda/lib/python3.7/site-packages/sklearn/linear_model/_sag.py:354: ConvergenceWarning: The max_iter was reached which means the coef_ did not converge\n",
      "  ConvergenceWarning,\n",
      "/opt/conda/lib/python3.7/site-packages/sklearn/linear_model/_sag.py:354: ConvergenceWarning: The max_iter was reached which means the coef_ did not converge\n",
      "  ConvergenceWarning,\n",
      "/opt/conda/lib/python3.7/site-packages/sklearn/linear_model/_sag.py:354: ConvergenceWarning: The max_iter was reached which means the coef_ did not converge\n",
      "  ConvergenceWarning,\n",
      "/opt/conda/lib/python3.7/site-packages/sklearn/linear_model/_sag.py:354: ConvergenceWarning: The max_iter was reached which means the coef_ did not converge\n",
      "  ConvergenceWarning,\n",
      "/opt/conda/lib/python3.7/site-packages/sklearn/linear_model/_sag.py:354: ConvergenceWarning: The max_iter was reached which means the coef_ did not converge\n",
      "  ConvergenceWarning,\n",
      "/opt/conda/lib/python3.7/site-packages/sklearn/linear_model/_sag.py:354: ConvergenceWarning: The max_iter was reached which means the coef_ did not converge\n",
      "  ConvergenceWarning,\n",
      "/opt/conda/lib/python3.7/site-packages/sklearn/linear_model/_sag.py:354: ConvergenceWarning: The max_iter was reached which means the coef_ did not converge\n",
      "  ConvergenceWarning,\n",
      "/opt/conda/lib/python3.7/site-packages/sklearn/linear_model/_sag.py:354: ConvergenceWarning: The max_iter was reached which means the coef_ did not converge\n",
      "  ConvergenceWarning,\n",
      "/opt/conda/lib/python3.7/site-packages/sklearn/linear_model/_sag.py:354: ConvergenceWarning: The max_iter was reached which means the coef_ did not converge\n",
      "  ConvergenceWarning,\n",
      "/opt/conda/lib/python3.7/site-packages/sklearn/linear_model/_sag.py:354: ConvergenceWarning: The max_iter was reached which means the coef_ did not converge\n",
      "  ConvergenceWarning,\n",
      "/opt/conda/lib/python3.7/site-packages/sklearn/linear_model/_sag.py:354: ConvergenceWarning: The max_iter was reached which means the coef_ did not converge\n",
      "  ConvergenceWarning,\n",
      "/opt/conda/lib/python3.7/site-packages/sklearn/linear_model/_sag.py:354: ConvergenceWarning: The max_iter was reached which means the coef_ did not converge\n",
      "  ConvergenceWarning,\n",
      "/opt/conda/lib/python3.7/site-packages/sklearn/linear_model/_sag.py:354: ConvergenceWarning: The max_iter was reached which means the coef_ did not converge\n",
      "  ConvergenceWarning,\n",
      "/opt/conda/lib/python3.7/site-packages/sklearn/linear_model/_sag.py:354: ConvergenceWarning: The max_iter was reached which means the coef_ did not converge\n",
      "  ConvergenceWarning,\n",
      "/opt/conda/lib/python3.7/site-packages/sklearn/linear_model/_sag.py:354: ConvergenceWarning: The max_iter was reached which means the coef_ did not converge\n",
      "  ConvergenceWarning,\n",
      "/opt/conda/lib/python3.7/site-packages/sklearn/linear_model/_sag.py:354: ConvergenceWarning: The max_iter was reached which means the coef_ did not converge\n",
      "  ConvergenceWarning,\n",
      "/opt/conda/lib/python3.7/site-packages/sklearn/linear_model/_sag.py:354: ConvergenceWarning: The max_iter was reached which means the coef_ did not converge\n",
      "  ConvergenceWarning,\n",
      "/opt/conda/lib/python3.7/site-packages/sklearn/linear_model/_sag.py:354: ConvergenceWarning: The max_iter was reached which means the coef_ did not converge\n",
      "  ConvergenceWarning,\n",
      "/opt/conda/lib/python3.7/site-packages/sklearn/linear_model/_sag.py:354: ConvergenceWarning: The max_iter was reached which means the coef_ did not converge\n",
      "  ConvergenceWarning,\n",
      "/opt/conda/lib/python3.7/site-packages/sklearn/linear_model/_sag.py:354: ConvergenceWarning: The max_iter was reached which means the coef_ did not converge\n",
      "  ConvergenceWarning,\n",
      "/opt/conda/lib/python3.7/site-packages/sklearn/linear_model/_sag.py:354: ConvergenceWarning: The max_iter was reached which means the coef_ did not converge\n",
      "  ConvergenceWarning,\n",
      "/opt/conda/lib/python3.7/site-packages/sklearn/linear_model/_sag.py:354: ConvergenceWarning: The max_iter was reached which means the coef_ did not converge\n",
      "  ConvergenceWarning,\n",
      "/opt/conda/lib/python3.7/site-packages/sklearn/linear_model/_sag.py:354: ConvergenceWarning: The max_iter was reached which means the coef_ did not converge\n",
      "  ConvergenceWarning,\n",
      "/opt/conda/lib/python3.7/site-packages/sklearn/linear_model/_sag.py:354: ConvergenceWarning: The max_iter was reached which means the coef_ did not converge\n",
      "  ConvergenceWarning,\n",
      "/opt/conda/lib/python3.7/site-packages/sklearn/linear_model/_sag.py:354: ConvergenceWarning: The max_iter was reached which means the coef_ did not converge\n",
      "  ConvergenceWarning,\n",
      "/opt/conda/lib/python3.7/site-packages/sklearn/linear_model/_sag.py:354: ConvergenceWarning: The max_iter was reached which means the coef_ did not converge\n",
      "  ConvergenceWarning,\n",
      "/opt/conda/lib/python3.7/site-packages/sklearn/linear_model/_sag.py:354: ConvergenceWarning: The max_iter was reached which means the coef_ did not converge\n",
      "  ConvergenceWarning,\n",
      "/opt/conda/lib/python3.7/site-packages/sklearn/linear_model/_sag.py:354: ConvergenceWarning: The max_iter was reached which means the coef_ did not converge\n",
      "  ConvergenceWarning,\n",
      "/opt/conda/lib/python3.7/site-packages/sklearn/linear_model/_sag.py:354: ConvergenceWarning: The max_iter was reached which means the coef_ did not converge\n",
      "  ConvergenceWarning,\n",
      "/opt/conda/lib/python3.7/site-packages/sklearn/linear_model/_sag.py:354: ConvergenceWarning: The max_iter was reached which means the coef_ did not converge\n",
      "  ConvergenceWarning,\n",
      "/opt/conda/lib/python3.7/site-packages/sklearn/linear_model/_sag.py:354: ConvergenceWarning: The max_iter was reached which means the coef_ did not converge\n",
      "  ConvergenceWarning,\n",
      "/opt/conda/lib/python3.7/site-packages/sklearn/linear_model/_sag.py:354: ConvergenceWarning: The max_iter was reached which means the coef_ did not converge\n",
      "  ConvergenceWarning,\n",
      "/opt/conda/lib/python3.7/site-packages/sklearn/linear_model/_sag.py:354: ConvergenceWarning: The max_iter was reached which means the coef_ did not converge\n",
      "  ConvergenceWarning,\n",
      "/opt/conda/lib/python3.7/site-packages/sklearn/linear_model/_sag.py:354: ConvergenceWarning: The max_iter was reached which means the coef_ did not converge\n",
      "  ConvergenceWarning,\n",
      "/opt/conda/lib/python3.7/site-packages/sklearn/linear_model/_sag.py:354: ConvergenceWarning: The max_iter was reached which means the coef_ did not converge\n",
      "  ConvergenceWarning,\n",
      "/opt/conda/lib/python3.7/site-packages/sklearn/linear_model/_sag.py:354: ConvergenceWarning: The max_iter was reached which means the coef_ did not converge\n",
      "  ConvergenceWarning,\n",
      "/opt/conda/lib/python3.7/site-packages/sklearn/linear_model/_sag.py:354: ConvergenceWarning: The max_iter was reached which means the coef_ did not converge\n",
      "  ConvergenceWarning,\n",
      "/opt/conda/lib/python3.7/site-packages/sklearn/linear_model/_sag.py:354: ConvergenceWarning: The max_iter was reached which means the coef_ did not converge\n",
      "  ConvergenceWarning,\n",
      "/opt/conda/lib/python3.7/site-packages/sklearn/linear_model/_sag.py:354: ConvergenceWarning: The max_iter was reached which means the coef_ did not converge\n",
      "  ConvergenceWarning,\n",
      "/opt/conda/lib/python3.7/site-packages/sklearn/linear_model/_sag.py:354: ConvergenceWarning: The max_iter was reached which means the coef_ did not converge\n",
      "  ConvergenceWarning,\n",
      "/opt/conda/lib/python3.7/site-packages/sklearn/linear_model/_sag.py:354: ConvergenceWarning: The max_iter was reached which means the coef_ did not converge\n",
      "  ConvergenceWarning,\n",
      "/opt/conda/lib/python3.7/site-packages/sklearn/linear_model/_sag.py:354: ConvergenceWarning: The max_iter was reached which means the coef_ did not converge\n",
      "  ConvergenceWarning,\n",
      "/opt/conda/lib/python3.7/site-packages/sklearn/linear_model/_sag.py:354: ConvergenceWarning: The max_iter was reached which means the coef_ did not converge\n",
      "  ConvergenceWarning,\n",
      "/opt/conda/lib/python3.7/site-packages/sklearn/linear_model/_sag.py:354: ConvergenceWarning: The max_iter was reached which means the coef_ did not converge\n",
      "  ConvergenceWarning,\n",
      "/opt/conda/lib/python3.7/site-packages/sklearn/linear_model/_sag.py:354: ConvergenceWarning: The max_iter was reached which means the coef_ did not converge\n",
      "  ConvergenceWarning,\n",
      "/opt/conda/lib/python3.7/site-packages/sklearn/linear_model/_sag.py:354: ConvergenceWarning: The max_iter was reached which means the coef_ did not converge\n",
      "  ConvergenceWarning,\n",
      "/opt/conda/lib/python3.7/site-packages/sklearn/linear_model/_sag.py:354: ConvergenceWarning: The max_iter was reached which means the coef_ did not converge\n",
      "  ConvergenceWarning,\n",
      "/opt/conda/lib/python3.7/site-packages/sklearn/linear_model/_sag.py:354: ConvergenceWarning: The max_iter was reached which means the coef_ did not converge\n",
      "  ConvergenceWarning,\n",
      "/opt/conda/lib/python3.7/site-packages/sklearn/linear_model/_sag.py:354: ConvergenceWarning: The max_iter was reached which means the coef_ did not converge\n",
      "  ConvergenceWarning,\n",
      "/opt/conda/lib/python3.7/site-packages/sklearn/linear_model/_sag.py:354: ConvergenceWarning: The max_iter was reached which means the coef_ did not converge\n",
      "  ConvergenceWarning,\n",
      "/opt/conda/lib/python3.7/site-packages/sklearn/linear_model/_sag.py:354: ConvergenceWarning: The max_iter was reached which means the coef_ did not converge\n",
      "  ConvergenceWarning,\n",
      "/opt/conda/lib/python3.7/site-packages/sklearn/linear_model/_sag.py:354: ConvergenceWarning: The max_iter was reached which means the coef_ did not converge\n",
      "  ConvergenceWarning,\n",
      "/opt/conda/lib/python3.7/site-packages/sklearn/linear_model/_sag.py:354: ConvergenceWarning: The max_iter was reached which means the coef_ did not converge\n",
      "  ConvergenceWarning,\n",
      "/opt/conda/lib/python3.7/site-packages/sklearn/linear_model/_sag.py:354: ConvergenceWarning: The max_iter was reached which means the coef_ did not converge\n",
      "  ConvergenceWarning,\n",
      "/opt/conda/lib/python3.7/site-packages/sklearn/linear_model/_sag.py:354: ConvergenceWarning: The max_iter was reached which means the coef_ did not converge\n",
      "  ConvergenceWarning,\n",
      "/opt/conda/lib/python3.7/site-packages/sklearn/linear_model/_sag.py:354: ConvergenceWarning: The max_iter was reached which means the coef_ did not converge\n",
      "  ConvergenceWarning,\n",
      "/opt/conda/lib/python3.7/site-packages/sklearn/linear_model/_sag.py:354: ConvergenceWarning: The max_iter was reached which means the coef_ did not converge\n",
      "  ConvergenceWarning,\n",
      "/opt/conda/lib/python3.7/site-packages/sklearn/linear_model/_sag.py:354: ConvergenceWarning: The max_iter was reached which means the coef_ did not converge\n",
      "  ConvergenceWarning,\n",
      "/opt/conda/lib/python3.7/site-packages/sklearn/linear_model/_sag.py:354: ConvergenceWarning: The max_iter was reached which means the coef_ did not converge\n",
      "  ConvergenceWarning,\n",
      "/opt/conda/lib/python3.7/site-packages/sklearn/linear_model/_sag.py:354: ConvergenceWarning: The max_iter was reached which means the coef_ did not converge\n",
      "  ConvergenceWarning,\n",
      "/opt/conda/lib/python3.7/site-packages/sklearn/linear_model/_sag.py:354: ConvergenceWarning: The max_iter was reached which means the coef_ did not converge\n",
      "  ConvergenceWarning,\n",
      "/opt/conda/lib/python3.7/site-packages/sklearn/linear_model/_sag.py:354: ConvergenceWarning: The max_iter was reached which means the coef_ did not converge\n",
      "  ConvergenceWarning,\n",
      "/opt/conda/lib/python3.7/site-packages/sklearn/linear_model/_sag.py:354: ConvergenceWarning: The max_iter was reached which means the coef_ did not converge\n",
      "  ConvergenceWarning,\n",
      "/opt/conda/lib/python3.7/site-packages/sklearn/linear_model/_sag.py:354: ConvergenceWarning: The max_iter was reached which means the coef_ did not converge\n",
      "  ConvergenceWarning,\n",
      "/opt/conda/lib/python3.7/site-packages/sklearn/linear_model/_sag.py:354: ConvergenceWarning: The max_iter was reached which means the coef_ did not converge\n",
      "  ConvergenceWarning,\n",
      "/opt/conda/lib/python3.7/site-packages/sklearn/linear_model/_sag.py:354: ConvergenceWarning: The max_iter was reached which means the coef_ did not converge\n",
      "  ConvergenceWarning,\n",
      "/opt/conda/lib/python3.7/site-packages/sklearn/linear_model/_sag.py:354: ConvergenceWarning: The max_iter was reached which means the coef_ did not converge\n",
      "  ConvergenceWarning,\n",
      "/opt/conda/lib/python3.7/site-packages/sklearn/linear_model/_sag.py:354: ConvergenceWarning: The max_iter was reached which means the coef_ did not converge\n",
      "  ConvergenceWarning,\n",
      "/opt/conda/lib/python3.7/site-packages/sklearn/linear_model/_sag.py:354: ConvergenceWarning: The max_iter was reached which means the coef_ did not converge\n",
      "  ConvergenceWarning,\n",
      "/opt/conda/lib/python3.7/site-packages/sklearn/linear_model/_sag.py:354: ConvergenceWarning: The max_iter was reached which means the coef_ did not converge\n",
      "  ConvergenceWarning,\n",
      "/opt/conda/lib/python3.7/site-packages/sklearn/linear_model/_sag.py:354: ConvergenceWarning: The max_iter was reached which means the coef_ did not converge\n",
      "  ConvergenceWarning,\n",
      "/opt/conda/lib/python3.7/site-packages/sklearn/linear_model/_sag.py:354: ConvergenceWarning: The max_iter was reached which means the coef_ did not converge\n",
      "  ConvergenceWarning,\n",
      "/opt/conda/lib/python3.7/site-packages/sklearn/linear_model/_sag.py:354: ConvergenceWarning: The max_iter was reached which means the coef_ did not converge\n",
      "  ConvergenceWarning,\n",
      "/opt/conda/lib/python3.7/site-packages/sklearn/linear_model/_sag.py:354: ConvergenceWarning: The max_iter was reached which means the coef_ did not converge\n",
      "  ConvergenceWarning,\n",
      "/opt/conda/lib/python3.7/site-packages/sklearn/linear_model/_sag.py:354: ConvergenceWarning: The max_iter was reached which means the coef_ did not converge\n",
      "  ConvergenceWarning,\n",
      "/opt/conda/lib/python3.7/site-packages/sklearn/linear_model/_sag.py:354: ConvergenceWarning: The max_iter was reached which means the coef_ did not converge\n",
      "  ConvergenceWarning,\n",
      "/opt/conda/lib/python3.7/site-packages/sklearn/linear_model/_sag.py:354: ConvergenceWarning: The max_iter was reached which means the coef_ did not converge\n",
      "  ConvergenceWarning,\n",
      "/opt/conda/lib/python3.7/site-packages/sklearn/linear_model/_sag.py:354: ConvergenceWarning: The max_iter was reached which means the coef_ did not converge\n",
      "  ConvergenceWarning,\n",
      "/opt/conda/lib/python3.7/site-packages/sklearn/linear_model/_sag.py:354: ConvergenceWarning: The max_iter was reached which means the coef_ did not converge\n",
      "  ConvergenceWarning,\n",
      "/opt/conda/lib/python3.7/site-packages/sklearn/linear_model/_sag.py:354: ConvergenceWarning: The max_iter was reached which means the coef_ did not converge\n",
      "  ConvergenceWarning,\n",
      "/opt/conda/lib/python3.7/site-packages/sklearn/linear_model/_sag.py:354: ConvergenceWarning: The max_iter was reached which means the coef_ did not converge\n",
      "  ConvergenceWarning,\n",
      "/opt/conda/lib/python3.7/site-packages/sklearn/linear_model/_sag.py:354: ConvergenceWarning: The max_iter was reached which means the coef_ did not converge\n",
      "  ConvergenceWarning,\n",
      "/opt/conda/lib/python3.7/site-packages/sklearn/linear_model/_sag.py:354: ConvergenceWarning: The max_iter was reached which means the coef_ did not converge\n",
      "  ConvergenceWarning,\n",
      "/opt/conda/lib/python3.7/site-packages/sklearn/linear_model/_sag.py:354: ConvergenceWarning: The max_iter was reached which means the coef_ did not converge\n",
      "  ConvergenceWarning,\n",
      "/opt/conda/lib/python3.7/site-packages/sklearn/linear_model/_sag.py:354: ConvergenceWarning: The max_iter was reached which means the coef_ did not converge\n",
      "  ConvergenceWarning,\n",
      "/opt/conda/lib/python3.7/site-packages/sklearn/linear_model/_sag.py:354: ConvergenceWarning: The max_iter was reached which means the coef_ did not converge\n",
      "  ConvergenceWarning,\n",
      "/opt/conda/lib/python3.7/site-packages/sklearn/linear_model/_sag.py:354: ConvergenceWarning: The max_iter was reached which means the coef_ did not converge\n",
      "  ConvergenceWarning,\n",
      "/opt/conda/lib/python3.7/site-packages/sklearn/linear_model/_sag.py:354: ConvergenceWarning: The max_iter was reached which means the coef_ did not converge\n",
      "  ConvergenceWarning,\n",
      "/opt/conda/lib/python3.7/site-packages/sklearn/linear_model/_sag.py:354: ConvergenceWarning: The max_iter was reached which means the coef_ did not converge\n",
      "  ConvergenceWarning,\n",
      "/opt/conda/lib/python3.7/site-packages/sklearn/linear_model/_sag.py:354: ConvergenceWarning: The max_iter was reached which means the coef_ did not converge\n",
      "  ConvergenceWarning,\n",
      "/opt/conda/lib/python3.7/site-packages/sklearn/linear_model/_sag.py:354: ConvergenceWarning: The max_iter was reached which means the coef_ did not converge\n",
      "  ConvergenceWarning,\n",
      "/opt/conda/lib/python3.7/site-packages/sklearn/linear_model/_sag.py:354: ConvergenceWarning: The max_iter was reached which means the coef_ did not converge\n",
      "  ConvergenceWarning,\n",
      "/opt/conda/lib/python3.7/site-packages/sklearn/linear_model/_sag.py:354: ConvergenceWarning: The max_iter was reached which means the coef_ did not converge\n",
      "  ConvergenceWarning,\n",
      "/opt/conda/lib/python3.7/site-packages/sklearn/linear_model/_sag.py:354: ConvergenceWarning: The max_iter was reached which means the coef_ did not converge\n",
      "  ConvergenceWarning,\n",
      "/opt/conda/lib/python3.7/site-packages/sklearn/linear_model/_sag.py:354: ConvergenceWarning: The max_iter was reached which means the coef_ did not converge\n",
      "  ConvergenceWarning,\n",
      "/opt/conda/lib/python3.7/site-packages/sklearn/linear_model/_sag.py:354: ConvergenceWarning: The max_iter was reached which means the coef_ did not converge\n",
      "  ConvergenceWarning,\n",
      "/opt/conda/lib/python3.7/site-packages/sklearn/linear_model/_sag.py:354: ConvergenceWarning: The max_iter was reached which means the coef_ did not converge\n",
      "  ConvergenceWarning,\n",
      "/opt/conda/lib/python3.7/site-packages/sklearn/linear_model/_sag.py:354: ConvergenceWarning: The max_iter was reached which means the coef_ did not converge\n",
      "  ConvergenceWarning,\n",
      "/opt/conda/lib/python3.7/site-packages/sklearn/linear_model/_sag.py:354: ConvergenceWarning: The max_iter was reached which means the coef_ did not converge\n",
      "  ConvergenceWarning,\n",
      "/opt/conda/lib/python3.7/site-packages/sklearn/linear_model/_sag.py:354: ConvergenceWarning: The max_iter was reached which means the coef_ did not converge\n",
      "  ConvergenceWarning,\n",
      "/opt/conda/lib/python3.7/site-packages/sklearn/linear_model/_sag.py:354: ConvergenceWarning: The max_iter was reached which means the coef_ did not converge\n",
      "  ConvergenceWarning,\n",
      "/opt/conda/lib/python3.7/site-packages/sklearn/linear_model/_sag.py:354: ConvergenceWarning: The max_iter was reached which means the coef_ did not converge\n",
      "  ConvergenceWarning,\n",
      "/opt/conda/lib/python3.7/site-packages/sklearn/linear_model/_sag.py:354: ConvergenceWarning: The max_iter was reached which means the coef_ did not converge\n",
      "  ConvergenceWarning,\n",
      "/opt/conda/lib/python3.7/site-packages/sklearn/linear_model/_sag.py:354: ConvergenceWarning: The max_iter was reached which means the coef_ did not converge\n",
      "  ConvergenceWarning,\n",
      "/opt/conda/lib/python3.7/site-packages/sklearn/linear_model/_sag.py:354: ConvergenceWarning: The max_iter was reached which means the coef_ did not converge\n",
      "  ConvergenceWarning,\n",
      "/opt/conda/lib/python3.7/site-packages/sklearn/linear_model/_sag.py:354: ConvergenceWarning: The max_iter was reached which means the coef_ did not converge\n",
      "  ConvergenceWarning,\n",
      "/opt/conda/lib/python3.7/site-packages/sklearn/linear_model/_sag.py:354: ConvergenceWarning: The max_iter was reached which means the coef_ did not converge\n",
      "  ConvergenceWarning,\n",
      "/opt/conda/lib/python3.7/site-packages/sklearn/linear_model/_sag.py:354: ConvergenceWarning: The max_iter was reached which means the coef_ did not converge\n",
      "  ConvergenceWarning,\n",
      "/opt/conda/lib/python3.7/site-packages/sklearn/linear_model/_sag.py:354: ConvergenceWarning: The max_iter was reached which means the coef_ did not converge\n",
      "  ConvergenceWarning,\n",
      "/opt/conda/lib/python3.7/site-packages/sklearn/linear_model/_sag.py:354: ConvergenceWarning: The max_iter was reached which means the coef_ did not converge\n",
      "  ConvergenceWarning,\n",
      "/opt/conda/lib/python3.7/site-packages/sklearn/linear_model/_sag.py:354: ConvergenceWarning: The max_iter was reached which means the coef_ did not converge\n",
      "  ConvergenceWarning,\n",
      "/opt/conda/lib/python3.7/site-packages/sklearn/linear_model/_sag.py:354: ConvergenceWarning: The max_iter was reached which means the coef_ did not converge\n",
      "  ConvergenceWarning,\n",
      "/opt/conda/lib/python3.7/site-packages/sklearn/linear_model/_sag.py:354: ConvergenceWarning: The max_iter was reached which means the coef_ did not converge\n",
      "  ConvergenceWarning,\n",
      "/opt/conda/lib/python3.7/site-packages/sklearn/linear_model/_sag.py:354: ConvergenceWarning: The max_iter was reached which means the coef_ did not converge\n",
      "  ConvergenceWarning,\n",
      "/opt/conda/lib/python3.7/site-packages/sklearn/linear_model/_sag.py:354: ConvergenceWarning: The max_iter was reached which means the coef_ did not converge\n",
      "  ConvergenceWarning,\n",
      "/opt/conda/lib/python3.7/site-packages/sklearn/linear_model/_sag.py:354: ConvergenceWarning: The max_iter was reached which means the coef_ did not converge\n",
      "  ConvergenceWarning,\n",
      "/opt/conda/lib/python3.7/site-packages/sklearn/linear_model/_sag.py:354: ConvergenceWarning: The max_iter was reached which means the coef_ did not converge\n",
      "  ConvergenceWarning,\n",
      "/opt/conda/lib/python3.7/site-packages/sklearn/linear_model/_sag.py:354: ConvergenceWarning: The max_iter was reached which means the coef_ did not converge\n",
      "  ConvergenceWarning,\n",
      "/opt/conda/lib/python3.7/site-packages/sklearn/linear_model/_sag.py:354: ConvergenceWarning: The max_iter was reached which means the coef_ did not converge\n",
      "  ConvergenceWarning,\n",
      "/opt/conda/lib/python3.7/site-packages/sklearn/linear_model/_sag.py:354: ConvergenceWarning: The max_iter was reached which means the coef_ did not converge\n",
      "  ConvergenceWarning,\n",
      "/opt/conda/lib/python3.7/site-packages/sklearn/linear_model/_sag.py:354: ConvergenceWarning: The max_iter was reached which means the coef_ did not converge\n",
      "  ConvergenceWarning,\n",
      "/opt/conda/lib/python3.7/site-packages/sklearn/linear_model/_sag.py:354: ConvergenceWarning: The max_iter was reached which means the coef_ did not converge\n",
      "  ConvergenceWarning,\n",
      "/opt/conda/lib/python3.7/site-packages/sklearn/linear_model/_sag.py:354: ConvergenceWarning: The max_iter was reached which means the coef_ did not converge\n",
      "  ConvergenceWarning,\n",
      "/opt/conda/lib/python3.7/site-packages/sklearn/linear_model/_sag.py:354: ConvergenceWarning: The max_iter was reached which means the coef_ did not converge\n",
      "  ConvergenceWarning,\n",
      "/opt/conda/lib/python3.7/site-packages/sklearn/linear_model/_sag.py:354: ConvergenceWarning: The max_iter was reached which means the coef_ did not converge\n",
      "  ConvergenceWarning,\n",
      "/opt/conda/lib/python3.7/site-packages/sklearn/linear_model/_sag.py:354: ConvergenceWarning: The max_iter was reached which means the coef_ did not converge\n",
      "  ConvergenceWarning,\n",
      "/opt/conda/lib/python3.7/site-packages/sklearn/linear_model/_sag.py:354: ConvergenceWarning: The max_iter was reached which means the coef_ did not converge\n",
      "  ConvergenceWarning,\n",
      "/opt/conda/lib/python3.7/site-packages/sklearn/linear_model/_sag.py:354: ConvergenceWarning: The max_iter was reached which means the coef_ did not converge\n",
      "  ConvergenceWarning,\n",
      "/opt/conda/lib/python3.7/site-packages/sklearn/linear_model/_sag.py:354: ConvergenceWarning: The max_iter was reached which means the coef_ did not converge\n",
      "  ConvergenceWarning,\n",
      "/opt/conda/lib/python3.7/site-packages/sklearn/linear_model/_sag.py:354: ConvergenceWarning: The max_iter was reached which means the coef_ did not converge\n",
      "  ConvergenceWarning,\n",
      "/opt/conda/lib/python3.7/site-packages/sklearn/linear_model/_sag.py:354: ConvergenceWarning: The max_iter was reached which means the coef_ did not converge\n",
      "  ConvergenceWarning,\n",
      "/opt/conda/lib/python3.7/site-packages/sklearn/linear_model/_sag.py:354: ConvergenceWarning: The max_iter was reached which means the coef_ did not converge\n",
      "  ConvergenceWarning,\n",
      "/opt/conda/lib/python3.7/site-packages/sklearn/linear_model/_sag.py:354: ConvergenceWarning: The max_iter was reached which means the coef_ did not converge\n",
      "  ConvergenceWarning,\n",
      "/opt/conda/lib/python3.7/site-packages/sklearn/linear_model/_sag.py:354: ConvergenceWarning: The max_iter was reached which means the coef_ did not converge\n",
      "  ConvergenceWarning,\n",
      "/opt/conda/lib/python3.7/site-packages/sklearn/linear_model/_sag.py:354: ConvergenceWarning: The max_iter was reached which means the coef_ did not converge\n",
      "  ConvergenceWarning,\n",
      "/opt/conda/lib/python3.7/site-packages/sklearn/linear_model/_sag.py:354: ConvergenceWarning: The max_iter was reached which means the coef_ did not converge\n",
      "  ConvergenceWarning,\n",
      "/opt/conda/lib/python3.7/site-packages/sklearn/linear_model/_sag.py:354: ConvergenceWarning: The max_iter was reached which means the coef_ did not converge\n",
      "  ConvergenceWarning,\n",
      "/opt/conda/lib/python3.7/site-packages/sklearn/linear_model/_sag.py:354: ConvergenceWarning: The max_iter was reached which means the coef_ did not converge\n",
      "  ConvergenceWarning,\n",
      "/opt/conda/lib/python3.7/site-packages/sklearn/linear_model/_sag.py:354: ConvergenceWarning: The max_iter was reached which means the coef_ did not converge\n",
      "  ConvergenceWarning,\n",
      "/opt/conda/lib/python3.7/site-packages/sklearn/linear_model/_sag.py:354: ConvergenceWarning: The max_iter was reached which means the coef_ did not converge\n",
      "  ConvergenceWarning,\n",
      "/opt/conda/lib/python3.7/site-packages/sklearn/linear_model/_sag.py:354: ConvergenceWarning: The max_iter was reached which means the coef_ did not converge\n",
      "  ConvergenceWarning,\n",
      "/opt/conda/lib/python3.7/site-packages/sklearn/linear_model/_sag.py:354: ConvergenceWarning: The max_iter was reached which means the coef_ did not converge\n",
      "  ConvergenceWarning,\n",
      "/opt/conda/lib/python3.7/site-packages/sklearn/linear_model/_sag.py:354: ConvergenceWarning: The max_iter was reached which means the coef_ did not converge\n",
      "  ConvergenceWarning,\n",
      "/opt/conda/lib/python3.7/site-packages/sklearn/linear_model/_sag.py:354: ConvergenceWarning: The max_iter was reached which means the coef_ did not converge\n",
      "  ConvergenceWarning,\n",
      "/opt/conda/lib/python3.7/site-packages/sklearn/linear_model/_sag.py:354: ConvergenceWarning: The max_iter was reached which means the coef_ did not converge\n",
      "  ConvergenceWarning,\n",
      "/opt/conda/lib/python3.7/site-packages/sklearn/linear_model/_sag.py:354: ConvergenceWarning: The max_iter was reached which means the coef_ did not converge\n",
      "  ConvergenceWarning,\n",
      "/opt/conda/lib/python3.7/site-packages/sklearn/linear_model/_sag.py:354: ConvergenceWarning: The max_iter was reached which means the coef_ did not converge\n",
      "  ConvergenceWarning,\n",
      "/opt/conda/lib/python3.7/site-packages/sklearn/linear_model/_sag.py:354: ConvergenceWarning: The max_iter was reached which means the coef_ did not converge\n",
      "  ConvergenceWarning,\n",
      "/opt/conda/lib/python3.7/site-packages/sklearn/linear_model/_sag.py:354: ConvergenceWarning: The max_iter was reached which means the coef_ did not converge\n",
      "  ConvergenceWarning,\n",
      "/opt/conda/lib/python3.7/site-packages/sklearn/linear_model/_sag.py:354: ConvergenceWarning: The max_iter was reached which means the coef_ did not converge\n",
      "  ConvergenceWarning,\n",
      "/opt/conda/lib/python3.7/site-packages/sklearn/linear_model/_sag.py:354: ConvergenceWarning: The max_iter was reached which means the coef_ did not converge\n",
      "  ConvergenceWarning,\n",
      "/opt/conda/lib/python3.7/site-packages/sklearn/linear_model/_sag.py:354: ConvergenceWarning: The max_iter was reached which means the coef_ did not converge\n",
      "  ConvergenceWarning,\n",
      "/opt/conda/lib/python3.7/site-packages/sklearn/linear_model/_sag.py:354: ConvergenceWarning: The max_iter was reached which means the coef_ did not converge\n",
      "  ConvergenceWarning,\n",
      "/opt/conda/lib/python3.7/site-packages/sklearn/linear_model/_sag.py:354: ConvergenceWarning: The max_iter was reached which means the coef_ did not converge\n",
      "  ConvergenceWarning,\n",
      "/opt/conda/lib/python3.7/site-packages/sklearn/linear_model/_sag.py:354: ConvergenceWarning: The max_iter was reached which means the coef_ did not converge\n",
      "  ConvergenceWarning,\n",
      "/opt/conda/lib/python3.7/site-packages/sklearn/linear_model/_sag.py:354: ConvergenceWarning: The max_iter was reached which means the coef_ did not converge\n",
      "  ConvergenceWarning,\n",
      "/opt/conda/lib/python3.7/site-packages/sklearn/linear_model/_sag.py:354: ConvergenceWarning: The max_iter was reached which means the coef_ did not converge\n",
      "  ConvergenceWarning,\n",
      "/opt/conda/lib/python3.7/site-packages/sklearn/linear_model/_sag.py:354: ConvergenceWarning: The max_iter was reached which means the coef_ did not converge\n",
      "  ConvergenceWarning,\n",
      "/opt/conda/lib/python3.7/site-packages/sklearn/linear_model/_sag.py:354: ConvergenceWarning: The max_iter was reached which means the coef_ did not converge\n",
      "  ConvergenceWarning,\n",
      "/opt/conda/lib/python3.7/site-packages/sklearn/linear_model/_sag.py:354: ConvergenceWarning: The max_iter was reached which means the coef_ did not converge\n",
      "  ConvergenceWarning,\n",
      "/opt/conda/lib/python3.7/site-packages/sklearn/linear_model/_sag.py:354: ConvergenceWarning: The max_iter was reached which means the coef_ did not converge\n",
      "  ConvergenceWarning,\n",
      "/opt/conda/lib/python3.7/site-packages/sklearn/linear_model/_sag.py:354: ConvergenceWarning: The max_iter was reached which means the coef_ did not converge\n",
      "  ConvergenceWarning,\n",
      "/opt/conda/lib/python3.7/site-packages/sklearn/linear_model/_sag.py:354: ConvergenceWarning: The max_iter was reached which means the coef_ did not converge\n",
      "  ConvergenceWarning,\n",
      "/opt/conda/lib/python3.7/site-packages/sklearn/linear_model/_sag.py:354: ConvergenceWarning: The max_iter was reached which means the coef_ did not converge\n",
      "  ConvergenceWarning,\n",
      "/opt/conda/lib/python3.7/site-packages/sklearn/linear_model/_sag.py:354: ConvergenceWarning: The max_iter was reached which means the coef_ did not converge\n",
      "  ConvergenceWarning,\n",
      "/opt/conda/lib/python3.7/site-packages/sklearn/linear_model/_sag.py:354: ConvergenceWarning: The max_iter was reached which means the coef_ did not converge\n",
      "  ConvergenceWarning,\n",
      "/opt/conda/lib/python3.7/site-packages/sklearn/linear_model/_sag.py:354: ConvergenceWarning: The max_iter was reached which means the coef_ did not converge\n",
      "  ConvergenceWarning,\n",
      "/opt/conda/lib/python3.7/site-packages/sklearn/linear_model/_sag.py:354: ConvergenceWarning: The max_iter was reached which means the coef_ did not converge\n",
      "  ConvergenceWarning,\n",
      "/opt/conda/lib/python3.7/site-packages/sklearn/linear_model/_sag.py:354: ConvergenceWarning: The max_iter was reached which means the coef_ did not converge\n",
      "  ConvergenceWarning,\n",
      "/opt/conda/lib/python3.7/site-packages/sklearn/linear_model/_sag.py:354: ConvergenceWarning: The max_iter was reached which means the coef_ did not converge\n",
      "  ConvergenceWarning,\n",
      "/opt/conda/lib/python3.7/site-packages/sklearn/linear_model/_sag.py:354: ConvergenceWarning: The max_iter was reached which means the coef_ did not converge\n",
      "  ConvergenceWarning,\n",
      "/opt/conda/lib/python3.7/site-packages/sklearn/linear_model/_sag.py:354: ConvergenceWarning: The max_iter was reached which means the coef_ did not converge\n",
      "  ConvergenceWarning,\n",
      "/opt/conda/lib/python3.7/site-packages/sklearn/linear_model/_sag.py:354: ConvergenceWarning: The max_iter was reached which means the coef_ did not converge\n",
      "  ConvergenceWarning,\n",
      "/opt/conda/lib/python3.7/site-packages/sklearn/linear_model/_sag.py:354: ConvergenceWarning: The max_iter was reached which means the coef_ did not converge\n",
      "  ConvergenceWarning,\n",
      "/opt/conda/lib/python3.7/site-packages/sklearn/linear_model/_sag.py:354: ConvergenceWarning: The max_iter was reached which means the coef_ did not converge\n",
      "  ConvergenceWarning,\n",
      "/opt/conda/lib/python3.7/site-packages/sklearn/linear_model/_sag.py:354: ConvergenceWarning: The max_iter was reached which means the coef_ did not converge\n",
      "  ConvergenceWarning,\n",
      "/opt/conda/lib/python3.7/site-packages/sklearn/linear_model/_sag.py:354: ConvergenceWarning: The max_iter was reached which means the coef_ did not converge\n",
      "  ConvergenceWarning,\n",
      "/opt/conda/lib/python3.7/site-packages/sklearn/linear_model/_sag.py:354: ConvergenceWarning: The max_iter was reached which means the coef_ did not converge\n",
      "  ConvergenceWarning,\n",
      "/opt/conda/lib/python3.7/site-packages/sklearn/linear_model/_sag.py:354: ConvergenceWarning: The max_iter was reached which means the coef_ did not converge\n",
      "  ConvergenceWarning,\n",
      "/opt/conda/lib/python3.7/site-packages/sklearn/linear_model/_sag.py:354: ConvergenceWarning: The max_iter was reached which means the coef_ did not converge\n",
      "  ConvergenceWarning,\n",
      "/opt/conda/lib/python3.7/site-packages/sklearn/linear_model/_sag.py:354: ConvergenceWarning: The max_iter was reached which means the coef_ did not converge\n",
      "  ConvergenceWarning,\n",
      "/opt/conda/lib/python3.7/site-packages/sklearn/linear_model/_sag.py:354: ConvergenceWarning: The max_iter was reached which means the coef_ did not converge\n",
      "  ConvergenceWarning,\n",
      "/opt/conda/lib/python3.7/site-packages/sklearn/linear_model/_sag.py:354: ConvergenceWarning: The max_iter was reached which means the coef_ did not converge\n",
      "  ConvergenceWarning,\n",
      "/opt/conda/lib/python3.7/site-packages/sklearn/linear_model/_sag.py:354: ConvergenceWarning: The max_iter was reached which means the coef_ did not converge\n",
      "  ConvergenceWarning,\n",
      "/opt/conda/lib/python3.7/site-packages/sklearn/linear_model/_sag.py:354: ConvergenceWarning: The max_iter was reached which means the coef_ did not converge\n",
      "  ConvergenceWarning,\n",
      "/opt/conda/lib/python3.7/site-packages/sklearn/linear_model/_sag.py:354: ConvergenceWarning: The max_iter was reached which means the coef_ did not converge\n",
      "  ConvergenceWarning,\n",
      "/opt/conda/lib/python3.7/site-packages/sklearn/linear_model/_sag.py:354: ConvergenceWarning: The max_iter was reached which means the coef_ did not converge\n",
      "  ConvergenceWarning,\n",
      "/opt/conda/lib/python3.7/site-packages/sklearn/linear_model/_sag.py:354: ConvergenceWarning: The max_iter was reached which means the coef_ did not converge\n",
      "  ConvergenceWarning,\n",
      "/opt/conda/lib/python3.7/site-packages/sklearn/linear_model/_sag.py:354: ConvergenceWarning: The max_iter was reached which means the coef_ did not converge\n",
      "  ConvergenceWarning,\n",
      "/opt/conda/lib/python3.7/site-packages/sklearn/linear_model/_sag.py:354: ConvergenceWarning: The max_iter was reached which means the coef_ did not converge\n",
      "  ConvergenceWarning,\n",
      "/opt/conda/lib/python3.7/site-packages/sklearn/linear_model/_sag.py:354: ConvergenceWarning: The max_iter was reached which means the coef_ did not converge\n",
      "  ConvergenceWarning,\n",
      "/opt/conda/lib/python3.7/site-packages/sklearn/linear_model/_sag.py:354: ConvergenceWarning: The max_iter was reached which means the coef_ did not converge\n",
      "  ConvergenceWarning,\n",
      "/opt/conda/lib/python3.7/site-packages/sklearn/linear_model/_sag.py:354: ConvergenceWarning: The max_iter was reached which means the coef_ did not converge\n",
      "  ConvergenceWarning,\n",
      "/opt/conda/lib/python3.7/site-packages/sklearn/linear_model/_sag.py:354: ConvergenceWarning: The max_iter was reached which means the coef_ did not converge\n",
      "  ConvergenceWarning,\n",
      "/opt/conda/lib/python3.7/site-packages/sklearn/linear_model/_sag.py:354: ConvergenceWarning: The max_iter was reached which means the coef_ did not converge\n",
      "  ConvergenceWarning,\n",
      "/opt/conda/lib/python3.7/site-packages/sklearn/linear_model/_sag.py:354: ConvergenceWarning: The max_iter was reached which means the coef_ did not converge\n",
      "  ConvergenceWarning,\n",
      "/opt/conda/lib/python3.7/site-packages/sklearn/linear_model/_sag.py:354: ConvergenceWarning: The max_iter was reached which means the coef_ did not converge\n",
      "  ConvergenceWarning,\n",
      "/opt/conda/lib/python3.7/site-packages/sklearn/linear_model/_sag.py:354: ConvergenceWarning: The max_iter was reached which means the coef_ did not converge\n",
      "  ConvergenceWarning,\n",
      "/opt/conda/lib/python3.7/site-packages/sklearn/linear_model/_sag.py:354: ConvergenceWarning: The max_iter was reached which means the coef_ did not converge\n",
      "  ConvergenceWarning,\n",
      "/opt/conda/lib/python3.7/site-packages/sklearn/linear_model/_sag.py:354: ConvergenceWarning: The max_iter was reached which means the coef_ did not converge\n",
      "  ConvergenceWarning,\n",
      "/opt/conda/lib/python3.7/site-packages/sklearn/linear_model/_sag.py:354: ConvergenceWarning: The max_iter was reached which means the coef_ did not converge\n",
      "  ConvergenceWarning,\n",
      "/opt/conda/lib/python3.7/site-packages/sklearn/linear_model/_sag.py:354: ConvergenceWarning: The max_iter was reached which means the coef_ did not converge\n",
      "  ConvergenceWarning,\n",
      "/opt/conda/lib/python3.7/site-packages/sklearn/linear_model/_sag.py:354: ConvergenceWarning: The max_iter was reached which means the coef_ did not converge\n",
      "  ConvergenceWarning,\n",
      "/opt/conda/lib/python3.7/site-packages/sklearn/linear_model/_sag.py:354: ConvergenceWarning: The max_iter was reached which means the coef_ did not converge\n",
      "  ConvergenceWarning,\n",
      "/opt/conda/lib/python3.7/site-packages/sklearn/linear_model/_sag.py:354: ConvergenceWarning: The max_iter was reached which means the coef_ did not converge\n",
      "  ConvergenceWarning,\n",
      "/opt/conda/lib/python3.7/site-packages/sklearn/linear_model/_sag.py:354: ConvergenceWarning: The max_iter was reached which means the coef_ did not converge\n",
      "  ConvergenceWarning,\n",
      "/opt/conda/lib/python3.7/site-packages/sklearn/linear_model/_sag.py:354: ConvergenceWarning: The max_iter was reached which means the coef_ did not converge\n",
      "  ConvergenceWarning,\n",
      "/opt/conda/lib/python3.7/site-packages/sklearn/linear_model/_sag.py:354: ConvergenceWarning: The max_iter was reached which means the coef_ did not converge\n",
      "  ConvergenceWarning,\n",
      "/opt/conda/lib/python3.7/site-packages/sklearn/linear_model/_sag.py:354: ConvergenceWarning: The max_iter was reached which means the coef_ did not converge\n",
      "  ConvergenceWarning,\n",
      "/opt/conda/lib/python3.7/site-packages/sklearn/linear_model/_sag.py:354: ConvergenceWarning: The max_iter was reached which means the coef_ did not converge\n",
      "  ConvergenceWarning,\n",
      "/opt/conda/lib/python3.7/site-packages/sklearn/linear_model/_sag.py:354: ConvergenceWarning: The max_iter was reached which means the coef_ did not converge\n",
      "  ConvergenceWarning,\n",
      "/opt/conda/lib/python3.7/site-packages/sklearn/linear_model/_sag.py:354: ConvergenceWarning: The max_iter was reached which means the coef_ did not converge\n",
      "  ConvergenceWarning,\n",
      "/opt/conda/lib/python3.7/site-packages/sklearn/linear_model/_sag.py:354: ConvergenceWarning: The max_iter was reached which means the coef_ did not converge\n",
      "  ConvergenceWarning,\n",
      "/opt/conda/lib/python3.7/site-packages/sklearn/linear_model/_sag.py:354: ConvergenceWarning: The max_iter was reached which means the coef_ did not converge\n",
      "  ConvergenceWarning,\n",
      "/opt/conda/lib/python3.7/site-packages/sklearn/linear_model/_sag.py:354: ConvergenceWarning: The max_iter was reached which means the coef_ did not converge\n",
      "  ConvergenceWarning,\n",
      "/opt/conda/lib/python3.7/site-packages/sklearn/linear_model/_sag.py:354: ConvergenceWarning: The max_iter was reached which means the coef_ did not converge\n",
      "  ConvergenceWarning,\n",
      "/opt/conda/lib/python3.7/site-packages/sklearn/linear_model/_sag.py:354: ConvergenceWarning: The max_iter was reached which means the coef_ did not converge\n",
      "  ConvergenceWarning,\n",
      "/opt/conda/lib/python3.7/site-packages/sklearn/linear_model/_sag.py:354: ConvergenceWarning: The max_iter was reached which means the coef_ did not converge\n",
      "  ConvergenceWarning,\n",
      "/opt/conda/lib/python3.7/site-packages/sklearn/linear_model/_sag.py:354: ConvergenceWarning: The max_iter was reached which means the coef_ did not converge\n",
      "  ConvergenceWarning,\n",
      "/opt/conda/lib/python3.7/site-packages/sklearn/linear_model/_sag.py:354: ConvergenceWarning: The max_iter was reached which means the coef_ did not converge\n",
      "  ConvergenceWarning,\n",
      "/opt/conda/lib/python3.7/site-packages/sklearn/linear_model/_sag.py:354: ConvergenceWarning: The max_iter was reached which means the coef_ did not converge\n",
      "  ConvergenceWarning,\n",
      "/opt/conda/lib/python3.7/site-packages/sklearn/linear_model/_sag.py:354: ConvergenceWarning: The max_iter was reached which means the coef_ did not converge\n",
      "  ConvergenceWarning,\n",
      "/opt/conda/lib/python3.7/site-packages/sklearn/linear_model/_sag.py:354: ConvergenceWarning: The max_iter was reached which means the coef_ did not converge\n",
      "  ConvergenceWarning,\n",
      "/opt/conda/lib/python3.7/site-packages/sklearn/linear_model/_sag.py:354: ConvergenceWarning: The max_iter was reached which means the coef_ did not converge\n",
      "  ConvergenceWarning,\n",
      "/opt/conda/lib/python3.7/site-packages/sklearn/linear_model/_sag.py:354: ConvergenceWarning: The max_iter was reached which means the coef_ did not converge\n",
      "  ConvergenceWarning,\n",
      "/opt/conda/lib/python3.7/site-packages/sklearn/linear_model/_sag.py:354: ConvergenceWarning: The max_iter was reached which means the coef_ did not converge\n",
      "  ConvergenceWarning,\n",
      "/opt/conda/lib/python3.7/site-packages/sklearn/linear_model/_sag.py:354: ConvergenceWarning: The max_iter was reached which means the coef_ did not converge\n",
      "  ConvergenceWarning,\n",
      "/opt/conda/lib/python3.7/site-packages/sklearn/linear_model/_sag.py:354: ConvergenceWarning: The max_iter was reached which means the coef_ did not converge\n",
      "  ConvergenceWarning,\n",
      "/opt/conda/lib/python3.7/site-packages/sklearn/linear_model/_sag.py:354: ConvergenceWarning: The max_iter was reached which means the coef_ did not converge\n",
      "  ConvergenceWarning,\n",
      "/opt/conda/lib/python3.7/site-packages/sklearn/linear_model/_sag.py:354: ConvergenceWarning: The max_iter was reached which means the coef_ did not converge\n",
      "  ConvergenceWarning,\n",
      "/opt/conda/lib/python3.7/site-packages/sklearn/linear_model/_sag.py:354: ConvergenceWarning: The max_iter was reached which means the coef_ did not converge\n",
      "  ConvergenceWarning,\n",
      "/opt/conda/lib/python3.7/site-packages/sklearn/linear_model/_sag.py:354: ConvergenceWarning: The max_iter was reached which means the coef_ did not converge\n",
      "  ConvergenceWarning,\n",
      "/opt/conda/lib/python3.7/site-packages/sklearn/linear_model/_sag.py:354: ConvergenceWarning: The max_iter was reached which means the coef_ did not converge\n",
      "  ConvergenceWarning,\n",
      "/opt/conda/lib/python3.7/site-packages/sklearn/linear_model/_sag.py:354: ConvergenceWarning: The max_iter was reached which means the coef_ did not converge\n",
      "  ConvergenceWarning,\n",
      "/opt/conda/lib/python3.7/site-packages/sklearn/linear_model/_sag.py:354: ConvergenceWarning: The max_iter was reached which means the coef_ did not converge\n",
      "  ConvergenceWarning,\n",
      "/opt/conda/lib/python3.7/site-packages/sklearn/linear_model/_sag.py:354: ConvergenceWarning: The max_iter was reached which means the coef_ did not converge\n",
      "  ConvergenceWarning,\n",
      "/opt/conda/lib/python3.7/site-packages/sklearn/linear_model/_sag.py:354: ConvergenceWarning: The max_iter was reached which means the coef_ did not converge\n",
      "  ConvergenceWarning,\n",
      "/opt/conda/lib/python3.7/site-packages/sklearn/linear_model/_sag.py:354: ConvergenceWarning: The max_iter was reached which means the coef_ did not converge\n",
      "  ConvergenceWarning,\n",
      "/opt/conda/lib/python3.7/site-packages/sklearn/linear_model/_sag.py:354: ConvergenceWarning: The max_iter was reached which means the coef_ did not converge\n",
      "  ConvergenceWarning,\n",
      "/opt/conda/lib/python3.7/site-packages/sklearn/linear_model/_sag.py:354: ConvergenceWarning: The max_iter was reached which means the coef_ did not converge\n",
      "  ConvergenceWarning,\n",
      "/opt/conda/lib/python3.7/site-packages/sklearn/linear_model/_sag.py:354: ConvergenceWarning: The max_iter was reached which means the coef_ did not converge\n",
      "  ConvergenceWarning,\n",
      "/opt/conda/lib/python3.7/site-packages/sklearn/linear_model/_sag.py:354: ConvergenceWarning: The max_iter was reached which means the coef_ did not converge\n",
      "  ConvergenceWarning,\n",
      "/opt/conda/lib/python3.7/site-packages/sklearn/linear_model/_sag.py:354: ConvergenceWarning: The max_iter was reached which means the coef_ did not converge\n",
      "  ConvergenceWarning,\n",
      "/opt/conda/lib/python3.7/site-packages/sklearn/linear_model/_sag.py:354: ConvergenceWarning: The max_iter was reached which means the coef_ did not converge\n",
      "  ConvergenceWarning,\n",
      "/opt/conda/lib/python3.7/site-packages/sklearn/linear_model/_sag.py:354: ConvergenceWarning: The max_iter was reached which means the coef_ did not converge\n",
      "  ConvergenceWarning,\n",
      "/opt/conda/lib/python3.7/site-packages/sklearn/linear_model/_sag.py:354: ConvergenceWarning: The max_iter was reached which means the coef_ did not converge\n",
      "  ConvergenceWarning,\n",
      "/opt/conda/lib/python3.7/site-packages/sklearn/linear_model/_sag.py:354: ConvergenceWarning: The max_iter was reached which means the coef_ did not converge\n",
      "  ConvergenceWarning,\n",
      "/opt/conda/lib/python3.7/site-packages/sklearn/linear_model/_sag.py:354: ConvergenceWarning: The max_iter was reached which means the coef_ did not converge\n",
      "  ConvergenceWarning,\n",
      "/opt/conda/lib/python3.7/site-packages/sklearn/linear_model/_sag.py:354: ConvergenceWarning: The max_iter was reached which means the coef_ did not converge\n",
      "  ConvergenceWarning,\n",
      "/opt/conda/lib/python3.7/site-packages/sklearn/linear_model/_sag.py:354: ConvergenceWarning: The max_iter was reached which means the coef_ did not converge\n",
      "  ConvergenceWarning,\n",
      "/opt/conda/lib/python3.7/site-packages/sklearn/linear_model/_sag.py:354: ConvergenceWarning: The max_iter was reached which means the coef_ did not converge\n",
      "  ConvergenceWarning,\n",
      "/opt/conda/lib/python3.7/site-packages/sklearn/linear_model/_sag.py:354: ConvergenceWarning: The max_iter was reached which means the coef_ did not converge\n",
      "  ConvergenceWarning,\n",
      "/opt/conda/lib/python3.7/site-packages/sklearn/linear_model/_sag.py:354: ConvergenceWarning: The max_iter was reached which means the coef_ did not converge\n",
      "  ConvergenceWarning,\n",
      "/opt/conda/lib/python3.7/site-packages/sklearn/linear_model/_sag.py:354: ConvergenceWarning: The max_iter was reached which means the coef_ did not converge\n",
      "  ConvergenceWarning,\n",
      "/opt/conda/lib/python3.7/site-packages/sklearn/linear_model/_sag.py:354: ConvergenceWarning: The max_iter was reached which means the coef_ did not converge\n",
      "  ConvergenceWarning,\n",
      "/opt/conda/lib/python3.7/site-packages/sklearn/linear_model/_sag.py:354: ConvergenceWarning: The max_iter was reached which means the coef_ did not converge\n",
      "  ConvergenceWarning,\n",
      "/opt/conda/lib/python3.7/site-packages/sklearn/linear_model/_sag.py:354: ConvergenceWarning: The max_iter was reached which means the coef_ did not converge\n",
      "  ConvergenceWarning,\n",
      "/opt/conda/lib/python3.7/site-packages/sklearn/linear_model/_sag.py:354: ConvergenceWarning: The max_iter was reached which means the coef_ did not converge\n",
      "  ConvergenceWarning,\n",
      "/opt/conda/lib/python3.7/site-packages/sklearn/linear_model/_sag.py:354: ConvergenceWarning: The max_iter was reached which means the coef_ did not converge\n",
      "  ConvergenceWarning,\n",
      "/opt/conda/lib/python3.7/site-packages/sklearn/linear_model/_sag.py:354: ConvergenceWarning: The max_iter was reached which means the coef_ did not converge\n",
      "  ConvergenceWarning,\n",
      "/opt/conda/lib/python3.7/site-packages/sklearn/linear_model/_sag.py:354: ConvergenceWarning: The max_iter was reached which means the coef_ did not converge\n",
      "  ConvergenceWarning,\n",
      "/opt/conda/lib/python3.7/site-packages/sklearn/linear_model/_sag.py:354: ConvergenceWarning: The max_iter was reached which means the coef_ did not converge\n",
      "  ConvergenceWarning,\n",
      "/opt/conda/lib/python3.7/site-packages/sklearn/linear_model/_sag.py:354: ConvergenceWarning: The max_iter was reached which means the coef_ did not converge\n",
      "  ConvergenceWarning,\n",
      "/opt/conda/lib/python3.7/site-packages/sklearn/linear_model/_sag.py:354: ConvergenceWarning: The max_iter was reached which means the coef_ did not converge\n",
      "  ConvergenceWarning,\n",
      "/opt/conda/lib/python3.7/site-packages/sklearn/linear_model/_sag.py:354: ConvergenceWarning: The max_iter was reached which means the coef_ did not converge\n",
      "  ConvergenceWarning,\n",
      "/opt/conda/lib/python3.7/site-packages/sklearn/linear_model/_sag.py:354: ConvergenceWarning: The max_iter was reached which means the coef_ did not converge\n",
      "  ConvergenceWarning,\n",
      "/opt/conda/lib/python3.7/site-packages/sklearn/linear_model/_sag.py:354: ConvergenceWarning: The max_iter was reached which means the coef_ did not converge\n",
      "  ConvergenceWarning,\n",
      "/opt/conda/lib/python3.7/site-packages/sklearn/linear_model/_sag.py:354: ConvergenceWarning: The max_iter was reached which means the coef_ did not converge\n",
      "  ConvergenceWarning,\n",
      "/opt/conda/lib/python3.7/site-packages/sklearn/linear_model/_sag.py:354: ConvergenceWarning: The max_iter was reached which means the coef_ did not converge\n",
      "  ConvergenceWarning,\n",
      "/opt/conda/lib/python3.7/site-packages/sklearn/linear_model/_sag.py:354: ConvergenceWarning: The max_iter was reached which means the coef_ did not converge\n",
      "  ConvergenceWarning,\n",
      "/opt/conda/lib/python3.7/site-packages/sklearn/linear_model/_sag.py:354: ConvergenceWarning: The max_iter was reached which means the coef_ did not converge\n",
      "  ConvergenceWarning,\n",
      "/opt/conda/lib/python3.7/site-packages/sklearn/linear_model/_sag.py:354: ConvergenceWarning: The max_iter was reached which means the coef_ did not converge\n",
      "  ConvergenceWarning,\n",
      "/opt/conda/lib/python3.7/site-packages/sklearn/linear_model/_sag.py:354: ConvergenceWarning: The max_iter was reached which means the coef_ did not converge\n",
      "  ConvergenceWarning,\n",
      "/opt/conda/lib/python3.7/site-packages/sklearn/linear_model/_sag.py:354: ConvergenceWarning: The max_iter was reached which means the coef_ did not converge\n",
      "  ConvergenceWarning,\n",
      "/opt/conda/lib/python3.7/site-packages/sklearn/linear_model/_sag.py:354: ConvergenceWarning: The max_iter was reached which means the coef_ did not converge\n",
      "  ConvergenceWarning,\n",
      "/opt/conda/lib/python3.7/site-packages/sklearn/linear_model/_sag.py:354: ConvergenceWarning: The max_iter was reached which means the coef_ did not converge\n",
      "  ConvergenceWarning,\n",
      "/opt/conda/lib/python3.7/site-packages/sklearn/linear_model/_sag.py:354: ConvergenceWarning: The max_iter was reached which means the coef_ did not converge\n",
      "  ConvergenceWarning,\n",
      "/opt/conda/lib/python3.7/site-packages/sklearn/linear_model/_sag.py:354: ConvergenceWarning: The max_iter was reached which means the coef_ did not converge\n",
      "  ConvergenceWarning,\n",
      "/opt/conda/lib/python3.7/site-packages/sklearn/linear_model/_sag.py:354: ConvergenceWarning: The max_iter was reached which means the coef_ did not converge\n",
      "  ConvergenceWarning,\n",
      "/opt/conda/lib/python3.7/site-packages/sklearn/linear_model/_sag.py:354: ConvergenceWarning: The max_iter was reached which means the coef_ did not converge\n",
      "  ConvergenceWarning,\n",
      "/opt/conda/lib/python3.7/site-packages/sklearn/linear_model/_sag.py:354: ConvergenceWarning: The max_iter was reached which means the coef_ did not converge\n",
      "  ConvergenceWarning,\n",
      "/opt/conda/lib/python3.7/site-packages/sklearn/linear_model/_sag.py:354: ConvergenceWarning: The max_iter was reached which means the coef_ did not converge\n",
      "  ConvergenceWarning,\n",
      "/opt/conda/lib/python3.7/site-packages/sklearn/linear_model/_sag.py:354: ConvergenceWarning: The max_iter was reached which means the coef_ did not converge\n",
      "  ConvergenceWarning,\n",
      "/opt/conda/lib/python3.7/site-packages/sklearn/linear_model/_sag.py:354: ConvergenceWarning: The max_iter was reached which means the coef_ did not converge\n",
      "  ConvergenceWarning,\n",
      "/opt/conda/lib/python3.7/site-packages/sklearn/linear_model/_sag.py:354: ConvergenceWarning: The max_iter was reached which means the coef_ did not converge\n",
      "  ConvergenceWarning,\n",
      "/opt/conda/lib/python3.7/site-packages/sklearn/linear_model/_sag.py:354: ConvergenceWarning: The max_iter was reached which means the coef_ did not converge\n",
      "  ConvergenceWarning,\n",
      "/opt/conda/lib/python3.7/site-packages/sklearn/linear_model/_sag.py:354: ConvergenceWarning: The max_iter was reached which means the coef_ did not converge\n",
      "  ConvergenceWarning,\n",
      "/opt/conda/lib/python3.7/site-packages/sklearn/linear_model/_sag.py:354: ConvergenceWarning: The max_iter was reached which means the coef_ did not converge\n",
      "  ConvergenceWarning,\n",
      "/opt/conda/lib/python3.7/site-packages/sklearn/linear_model/_sag.py:354: ConvergenceWarning: The max_iter was reached which means the coef_ did not converge\n",
      "  ConvergenceWarning,\n",
      "/opt/conda/lib/python3.7/site-packages/sklearn/linear_model/_sag.py:354: ConvergenceWarning: The max_iter was reached which means the coef_ did not converge\n",
      "  ConvergenceWarning,\n",
      "/opt/conda/lib/python3.7/site-packages/sklearn/linear_model/_sag.py:354: ConvergenceWarning: The max_iter was reached which means the coef_ did not converge\n",
      "  ConvergenceWarning,\n",
      "/opt/conda/lib/python3.7/site-packages/sklearn/linear_model/_sag.py:354: ConvergenceWarning: The max_iter was reached which means the coef_ did not converge\n",
      "  ConvergenceWarning,\n",
      "/opt/conda/lib/python3.7/site-packages/sklearn/linear_model/_sag.py:354: ConvergenceWarning: The max_iter was reached which means the coef_ did not converge\n",
      "  ConvergenceWarning,\n",
      "/opt/conda/lib/python3.7/site-packages/sklearn/linear_model/_sag.py:354: ConvergenceWarning: The max_iter was reached which means the coef_ did not converge\n",
      "  ConvergenceWarning,\n",
      "/opt/conda/lib/python3.7/site-packages/sklearn/linear_model/_sag.py:354: ConvergenceWarning: The max_iter was reached which means the coef_ did not converge\n",
      "  ConvergenceWarning,\n",
      "/opt/conda/lib/python3.7/site-packages/sklearn/linear_model/_sag.py:354: ConvergenceWarning: The max_iter was reached which means the coef_ did not converge\n",
      "  ConvergenceWarning,\n",
      "/opt/conda/lib/python3.7/site-packages/sklearn/linear_model/_sag.py:354: ConvergenceWarning: The max_iter was reached which means the coef_ did not converge\n",
      "  ConvergenceWarning,\n",
      "/opt/conda/lib/python3.7/site-packages/sklearn/linear_model/_sag.py:354: ConvergenceWarning: The max_iter was reached which means the coef_ did not converge\n",
      "  ConvergenceWarning,\n",
      "/opt/conda/lib/python3.7/site-packages/sklearn/linear_model/_sag.py:354: ConvergenceWarning: The max_iter was reached which means the coef_ did not converge\n",
      "  ConvergenceWarning,\n",
      "/opt/conda/lib/python3.7/site-packages/sklearn/linear_model/_sag.py:354: ConvergenceWarning: The max_iter was reached which means the coef_ did not converge\n",
      "  ConvergenceWarning,\n",
      "/opt/conda/lib/python3.7/site-packages/sklearn/linear_model/_sag.py:354: ConvergenceWarning: The max_iter was reached which means the coef_ did not converge\n",
      "  ConvergenceWarning,\n",
      "/opt/conda/lib/python3.7/site-packages/sklearn/linear_model/_sag.py:354: ConvergenceWarning: The max_iter was reached which means the coef_ did not converge\n",
      "  ConvergenceWarning,\n",
      "/opt/conda/lib/python3.7/site-packages/sklearn/linear_model/_sag.py:354: ConvergenceWarning: The max_iter was reached which means the coef_ did not converge\n",
      "  ConvergenceWarning,\n",
      "/opt/conda/lib/python3.7/site-packages/sklearn/linear_model/_sag.py:354: ConvergenceWarning: The max_iter was reached which means the coef_ did not converge\n",
      "  ConvergenceWarning,\n",
      "/opt/conda/lib/python3.7/site-packages/sklearn/linear_model/_sag.py:354: ConvergenceWarning: The max_iter was reached which means the coef_ did not converge\n",
      "  ConvergenceWarning,\n",
      "/opt/conda/lib/python3.7/site-packages/sklearn/linear_model/_sag.py:354: ConvergenceWarning: The max_iter was reached which means the coef_ did not converge\n",
      "  ConvergenceWarning,\n",
      "/opt/conda/lib/python3.7/site-packages/sklearn/linear_model/_sag.py:354: ConvergenceWarning: The max_iter was reached which means the coef_ did not converge\n",
      "  ConvergenceWarning,\n",
      "/opt/conda/lib/python3.7/site-packages/sklearn/linear_model/_sag.py:354: ConvergenceWarning: The max_iter was reached which means the coef_ did not converge\n",
      "  ConvergenceWarning,\n",
      "/opt/conda/lib/python3.7/site-packages/sklearn/linear_model/_sag.py:354: ConvergenceWarning: The max_iter was reached which means the coef_ did not converge\n",
      "  ConvergenceWarning,\n",
      "/opt/conda/lib/python3.7/site-packages/sklearn/linear_model/_sag.py:354: ConvergenceWarning: The max_iter was reached which means the coef_ did not converge\n",
      "  ConvergenceWarning,\n",
      "/opt/conda/lib/python3.7/site-packages/sklearn/linear_model/_sag.py:354: ConvergenceWarning: The max_iter was reached which means the coef_ did not converge\n",
      "  ConvergenceWarning,\n",
      "/opt/conda/lib/python3.7/site-packages/sklearn/linear_model/_sag.py:354: ConvergenceWarning: The max_iter was reached which means the coef_ did not converge\n",
      "  ConvergenceWarning,\n",
      "/opt/conda/lib/python3.7/site-packages/sklearn/linear_model/_sag.py:354: ConvergenceWarning: The max_iter was reached which means the coef_ did not converge\n",
      "  ConvergenceWarning,\n",
      "/opt/conda/lib/python3.7/site-packages/sklearn/linear_model/_sag.py:354: ConvergenceWarning: The max_iter was reached which means the coef_ did not converge\n",
      "  ConvergenceWarning,\n",
      "/opt/conda/lib/python3.7/site-packages/sklearn/linear_model/_sag.py:354: ConvergenceWarning: The max_iter was reached which means the coef_ did not converge\n",
      "  ConvergenceWarning,\n",
      "/opt/conda/lib/python3.7/site-packages/sklearn/linear_model/_sag.py:354: ConvergenceWarning: The max_iter was reached which means the coef_ did not converge\n",
      "  ConvergenceWarning,\n",
      "/opt/conda/lib/python3.7/site-packages/sklearn/linear_model/_sag.py:354: ConvergenceWarning: The max_iter was reached which means the coef_ did not converge\n",
      "  ConvergenceWarning,\n",
      "/opt/conda/lib/python3.7/site-packages/sklearn/linear_model/_sag.py:354: ConvergenceWarning: The max_iter was reached which means the coef_ did not converge\n",
      "  ConvergenceWarning,\n",
      "/opt/conda/lib/python3.7/site-packages/sklearn/linear_model/_sag.py:354: ConvergenceWarning: The max_iter was reached which means the coef_ did not converge\n",
      "  ConvergenceWarning,\n",
      "/opt/conda/lib/python3.7/site-packages/sklearn/linear_model/_sag.py:354: ConvergenceWarning: The max_iter was reached which means the coef_ did not converge\n",
      "  ConvergenceWarning,\n",
      "/opt/conda/lib/python3.7/site-packages/sklearn/linear_model/_sag.py:354: ConvergenceWarning: The max_iter was reached which means the coef_ did not converge\n",
      "  ConvergenceWarning,\n",
      "/opt/conda/lib/python3.7/site-packages/sklearn/linear_model/_sag.py:354: ConvergenceWarning: The max_iter was reached which means the coef_ did not converge\n",
      "  ConvergenceWarning,\n",
      "/opt/conda/lib/python3.7/site-packages/sklearn/linear_model/_sag.py:354: ConvergenceWarning: The max_iter was reached which means the coef_ did not converge\n",
      "  ConvergenceWarning,\n",
      "/opt/conda/lib/python3.7/site-packages/sklearn/linear_model/_sag.py:354: ConvergenceWarning: The max_iter was reached which means the coef_ did not converge\n",
      "  ConvergenceWarning,\n",
      "/opt/conda/lib/python3.7/site-packages/sklearn/linear_model/_sag.py:354: ConvergenceWarning: The max_iter was reached which means the coef_ did not converge\n",
      "  ConvergenceWarning,\n",
      "/opt/conda/lib/python3.7/site-packages/sklearn/linear_model/_sag.py:354: ConvergenceWarning: The max_iter was reached which means the coef_ did not converge\n",
      "  ConvergenceWarning,\n",
      "/opt/conda/lib/python3.7/site-packages/sklearn/linear_model/_sag.py:354: ConvergenceWarning: The max_iter was reached which means the coef_ did not converge\n",
      "  ConvergenceWarning,\n",
      "/opt/conda/lib/python3.7/site-packages/sklearn/linear_model/_sag.py:354: ConvergenceWarning: The max_iter was reached which means the coef_ did not converge\n",
      "  ConvergenceWarning,\n",
      "/opt/conda/lib/python3.7/site-packages/sklearn/linear_model/_sag.py:354: ConvergenceWarning: The max_iter was reached which means the coef_ did not converge\n",
      "  ConvergenceWarning,\n",
      "/opt/conda/lib/python3.7/site-packages/sklearn/linear_model/_sag.py:354: ConvergenceWarning: The max_iter was reached which means the coef_ did not converge\n",
      "  ConvergenceWarning,\n",
      "/opt/conda/lib/python3.7/site-packages/sklearn/linear_model/_sag.py:354: ConvergenceWarning: The max_iter was reached which means the coef_ did not converge\n",
      "  ConvergenceWarning,\n",
      "/opt/conda/lib/python3.7/site-packages/sklearn/linear_model/_sag.py:354: ConvergenceWarning: The max_iter was reached which means the coef_ did not converge\n",
      "  ConvergenceWarning,\n",
      "/opt/conda/lib/python3.7/site-packages/sklearn/linear_model/_sag.py:354: ConvergenceWarning: The max_iter was reached which means the coef_ did not converge\n",
      "  ConvergenceWarning,\n",
      "/opt/conda/lib/python3.7/site-packages/sklearn/linear_model/_sag.py:354: ConvergenceWarning: The max_iter was reached which means the coef_ did not converge\n",
      "  ConvergenceWarning,\n",
      "/opt/conda/lib/python3.7/site-packages/sklearn/linear_model/_sag.py:354: ConvergenceWarning: The max_iter was reached which means the coef_ did not converge\n",
      "  ConvergenceWarning,\n",
      "/opt/conda/lib/python3.7/site-packages/sklearn/linear_model/_sag.py:354: ConvergenceWarning: The max_iter was reached which means the coef_ did not converge\n",
      "  ConvergenceWarning,\n",
      "/opt/conda/lib/python3.7/site-packages/sklearn/linear_model/_sag.py:354: ConvergenceWarning: The max_iter was reached which means the coef_ did not converge\n",
      "  ConvergenceWarning,\n",
      "/opt/conda/lib/python3.7/site-packages/sklearn/linear_model/_sag.py:354: ConvergenceWarning: The max_iter was reached which means the coef_ did not converge\n",
      "  ConvergenceWarning,\n",
      "/opt/conda/lib/python3.7/site-packages/sklearn/linear_model/_sag.py:354: ConvergenceWarning: The max_iter was reached which means the coef_ did not converge\n",
      "  ConvergenceWarning,\n",
      "/opt/conda/lib/python3.7/site-packages/sklearn/linear_model/_sag.py:354: ConvergenceWarning: The max_iter was reached which means the coef_ did not converge\n",
      "  ConvergenceWarning,\n",
      "/opt/conda/lib/python3.7/site-packages/sklearn/linear_model/_sag.py:354: ConvergenceWarning: The max_iter was reached which means the coef_ did not converge\n",
      "  ConvergenceWarning,\n",
      "/opt/conda/lib/python3.7/site-packages/sklearn/linear_model/_sag.py:354: ConvergenceWarning: The max_iter was reached which means the coef_ did not converge\n",
      "  ConvergenceWarning,\n",
      "/opt/conda/lib/python3.7/site-packages/sklearn/linear_model/_sag.py:354: ConvergenceWarning: The max_iter was reached which means the coef_ did not converge\n",
      "  ConvergenceWarning,\n",
      "/opt/conda/lib/python3.7/site-packages/sklearn/linear_model/_sag.py:354: ConvergenceWarning: The max_iter was reached which means the coef_ did not converge\n",
      "  ConvergenceWarning,\n",
      "/opt/conda/lib/python3.7/site-packages/sklearn/linear_model/_sag.py:354: ConvergenceWarning: The max_iter was reached which means the coef_ did not converge\n",
      "  ConvergenceWarning,\n",
      "/opt/conda/lib/python3.7/site-packages/sklearn/linear_model/_sag.py:354: ConvergenceWarning: The max_iter was reached which means the coef_ did not converge\n",
      "  ConvergenceWarning,\n",
      "/opt/conda/lib/python3.7/site-packages/sklearn/linear_model/_sag.py:354: ConvergenceWarning: The max_iter was reached which means the coef_ did not converge\n",
      "  ConvergenceWarning,\n",
      "/opt/conda/lib/python3.7/site-packages/sklearn/linear_model/_sag.py:354: ConvergenceWarning: The max_iter was reached which means the coef_ did not converge\n",
      "  ConvergenceWarning,\n",
      "/opt/conda/lib/python3.7/site-packages/sklearn/linear_model/_sag.py:354: ConvergenceWarning: The max_iter was reached which means the coef_ did not converge\n",
      "  ConvergenceWarning,\n",
      "/opt/conda/lib/python3.7/site-packages/sklearn/linear_model/_sag.py:354: ConvergenceWarning: The max_iter was reached which means the coef_ did not converge\n",
      "  ConvergenceWarning,\n",
      "/opt/conda/lib/python3.7/site-packages/sklearn/linear_model/_sag.py:354: ConvergenceWarning: The max_iter was reached which means the coef_ did not converge\n",
      "  ConvergenceWarning,\n",
      "/opt/conda/lib/python3.7/site-packages/sklearn/linear_model/_sag.py:354: ConvergenceWarning: The max_iter was reached which means the coef_ did not converge\n",
      "  ConvergenceWarning,\n",
      "/opt/conda/lib/python3.7/site-packages/sklearn/linear_model/_sag.py:354: ConvergenceWarning: The max_iter was reached which means the coef_ did not converge\n",
      "  ConvergenceWarning,\n",
      "/opt/conda/lib/python3.7/site-packages/sklearn/linear_model/_sag.py:354: ConvergenceWarning: The max_iter was reached which means the coef_ did not converge\n",
      "  ConvergenceWarning,\n",
      "/opt/conda/lib/python3.7/site-packages/sklearn/linear_model/_sag.py:354: ConvergenceWarning: The max_iter was reached which means the coef_ did not converge\n",
      "  ConvergenceWarning,\n",
      "/opt/conda/lib/python3.7/site-packages/sklearn/linear_model/_sag.py:354: ConvergenceWarning: The max_iter was reached which means the coef_ did not converge\n",
      "  ConvergenceWarning,\n",
      "/opt/conda/lib/python3.7/site-packages/sklearn/linear_model/_sag.py:354: ConvergenceWarning: The max_iter was reached which means the coef_ did not converge\n",
      "  ConvergenceWarning,\n",
      "/opt/conda/lib/python3.7/site-packages/sklearn/linear_model/_sag.py:354: ConvergenceWarning: The max_iter was reached which means the coef_ did not converge\n",
      "  ConvergenceWarning,\n",
      "/opt/conda/lib/python3.7/site-packages/sklearn/linear_model/_sag.py:354: ConvergenceWarning: The max_iter was reached which means the coef_ did not converge\n",
      "  ConvergenceWarning,\n",
      "/opt/conda/lib/python3.7/site-packages/sklearn/linear_model/_sag.py:354: ConvergenceWarning: The max_iter was reached which means the coef_ did not converge\n",
      "  ConvergenceWarning,\n",
      "/opt/conda/lib/python3.7/site-packages/sklearn/linear_model/_sag.py:354: ConvergenceWarning: The max_iter was reached which means the coef_ did not converge\n",
      "  ConvergenceWarning,\n",
      "/opt/conda/lib/python3.7/site-packages/sklearn/linear_model/_sag.py:354: ConvergenceWarning: The max_iter was reached which means the coef_ did not converge\n",
      "  ConvergenceWarning,\n",
      "/opt/conda/lib/python3.7/site-packages/sklearn/linear_model/_sag.py:354: ConvergenceWarning: The max_iter was reached which means the coef_ did not converge\n",
      "  ConvergenceWarning,\n",
      "/opt/conda/lib/python3.7/site-packages/sklearn/linear_model/_sag.py:354: ConvergenceWarning: The max_iter was reached which means the coef_ did not converge\n",
      "  ConvergenceWarning,\n",
      "/opt/conda/lib/python3.7/site-packages/sklearn/linear_model/_sag.py:354: ConvergenceWarning: The max_iter was reached which means the coef_ did not converge\n",
      "  ConvergenceWarning,\n",
      "/opt/conda/lib/python3.7/site-packages/sklearn/linear_model/_sag.py:354: ConvergenceWarning: The max_iter was reached which means the coef_ did not converge\n",
      "  ConvergenceWarning,\n",
      "/opt/conda/lib/python3.7/site-packages/sklearn/linear_model/_sag.py:354: ConvergenceWarning: The max_iter was reached which means the coef_ did not converge\n",
      "  ConvergenceWarning,\n",
      "/opt/conda/lib/python3.7/site-packages/sklearn/linear_model/_sag.py:354: ConvergenceWarning: The max_iter was reached which means the coef_ did not converge\n",
      "  ConvergenceWarning,\n",
      "/opt/conda/lib/python3.7/site-packages/sklearn/linear_model/_sag.py:354: ConvergenceWarning: The max_iter was reached which means the coef_ did not converge\n",
      "  ConvergenceWarning,\n",
      "/opt/conda/lib/python3.7/site-packages/sklearn/linear_model/_sag.py:354: ConvergenceWarning: The max_iter was reached which means the coef_ did not converge\n",
      "  ConvergenceWarning,\n",
      "/opt/conda/lib/python3.7/site-packages/sklearn/linear_model/_sag.py:354: ConvergenceWarning: The max_iter was reached which means the coef_ did not converge\n",
      "  ConvergenceWarning,\n",
      "/opt/conda/lib/python3.7/site-packages/sklearn/linear_model/_sag.py:354: ConvergenceWarning: The max_iter was reached which means the coef_ did not converge\n",
      "  ConvergenceWarning,\n",
      "/opt/conda/lib/python3.7/site-packages/sklearn/linear_model/_sag.py:354: ConvergenceWarning: The max_iter was reached which means the coef_ did not converge\n",
      "  ConvergenceWarning,\n",
      "/opt/conda/lib/python3.7/site-packages/sklearn/linear_model/_sag.py:354: ConvergenceWarning: The max_iter was reached which means the coef_ did not converge\n",
      "  ConvergenceWarning,\n",
      "/opt/conda/lib/python3.7/site-packages/sklearn/linear_model/_sag.py:354: ConvergenceWarning: The max_iter was reached which means the coef_ did not converge\n",
      "  ConvergenceWarning,\n",
      "/opt/conda/lib/python3.7/site-packages/sklearn/linear_model/_sag.py:354: ConvergenceWarning: The max_iter was reached which means the coef_ did not converge\n",
      "  ConvergenceWarning,\n",
      "/opt/conda/lib/python3.7/site-packages/sklearn/linear_model/_sag.py:354: ConvergenceWarning: The max_iter was reached which means the coef_ did not converge\n",
      "  ConvergenceWarning,\n"
     ]
    },
    {
     "name": "stdout",
     "output_type": "stream",
     "text": [
      "Best parameters according to Grid Search: {'C': 0.5, 'max_iter': 300, 'solver': 'sag'}\n"
     ]
    }
   ],
   "source": [
    "logistic_regression = LogisticRegression()\n",
    "parameters = {\n",
    "    'solver':  ['liblinear', 'lbfgs', 'newton-cg', 'sag', 'saga'],\n",
    "    'C': [0.001, 0.05, 0.1, 0.5, 1, 10, 100, 1000],\n",
    "    'max_iter': [100, 200, 300, 400, 500, 600]\n",
    "}\n",
    "clf = GridSearchCV(logistic_regression, parameters, n_jobs = 1, cv = 10)\n",
    "clf.fit(train_X, train_Y)\n",
    "\n",
    "print('Best parameters according to Grid Search:', clf.best_params_)"
   ]
  },
  {
   "cell_type": "code",
   "execution_count": 30,
   "id": "f801009b",
   "metadata": {
    "execution": {
     "iopub.execute_input": "2022-06-14T18:00:42.556723Z",
     "iopub.status.busy": "2022-06-14T18:00:42.555941Z",
     "iopub.status.idle": "2022-06-14T18:00:42.582802Z",
     "shell.execute_reply": "2022-06-14T18:00:42.581940Z"
    },
    "papermill": {
     "duration": 0.053544,
     "end_time": "2022-06-14T18:00:42.584745",
     "exception": false,
     "start_time": "2022-06-14T18:00:42.531201",
     "status": "completed"
    },
    "tags": []
   },
   "outputs": [
    {
     "data": {
      "text/plain": [
       "78.1437"
      ]
     },
     "execution_count": 30,
     "metadata": {},
     "output_type": "execute_result"
    }
   ],
   "source": [
    "logistic_regression = LogisticRegression(C = 0.05, max_iter = 100, solver = 'lbfgs')\n",
    "logistic_regression.fit(train_X, train_Y)\n",
    "prediction = logistic_regression.predict(validation_X)\n",
    "accuracy = round(logistic_regression.score(train_X, train_Y) * 100, 4)\n",
    "accuracy"
   ]
  },
  {
   "cell_type": "markdown",
   "id": "2f316e90",
   "metadata": {
    "papermill": {
     "duration": 0.024745,
     "end_time": "2022-06-14T18:00:42.633462",
     "exception": false,
     "start_time": "2022-06-14T18:00:42.608717",
     "status": "completed"
    },
    "tags": []
   },
   "source": [
    "#### Random Search Method"
   ]
  },
  {
   "cell_type": "code",
   "execution_count": 31,
   "id": "288a3a2e",
   "metadata": {
    "execution": {
     "iopub.execute_input": "2022-06-14T18:00:42.682570Z",
     "iopub.status.busy": "2022-06-14T18:00:42.682154Z",
     "iopub.status.idle": "2022-06-14T18:00:44.461004Z",
     "shell.execute_reply": "2022-06-14T18:00:44.459692Z"
    },
    "papermill": {
     "duration": 1.806546,
     "end_time": "2022-06-14T18:00:44.463787",
     "exception": false,
     "start_time": "2022-06-14T18:00:42.657241",
     "status": "completed"
    },
    "tags": []
   },
   "outputs": [
    {
     "name": "stdout",
     "output_type": "stream",
     "text": [
      "Best parameters according to Randomized Search: {'C': 40, 'max_iter': 744}\n"
     ]
    },
    {
     "name": "stderr",
     "output_type": "stream",
     "text": [
      "/opt/conda/lib/python3.7/site-packages/sklearn/model_selection/_validation.py:372: FitFailedWarning: \n",
      "10 fits failed out of a total of 100.\n",
      "The score on these train-test partitions for these parameters will be set to nan.\n",
      "If these failures are not expected, you can try to debug them by setting error_score='raise'.\n",
      "\n",
      "Below are more details about the failures:\n",
      "--------------------------------------------------------------------------------\n",
      "10 fits failed with the following error:\n",
      "Traceback (most recent call last):\n",
      "  File \"/opt/conda/lib/python3.7/site-packages/sklearn/model_selection/_validation.py\", line 680, in _fit_and_score\n",
      "    estimator.fit(X_train, y_train, **fit_params)\n",
      "  File \"/opt/conda/lib/python3.7/site-packages/sklearn/linear_model/_logistic.py\", line 1614, in fit\n",
      "    for class_, warm_start_coef_ in zip(classes_, warm_start_coef)\n",
      "  File \"/opt/conda/lib/python3.7/site-packages/joblib/parallel.py\", line 1043, in __call__\n",
      "    if self.dispatch_one_batch(iterator):\n",
      "  File \"/opt/conda/lib/python3.7/site-packages/joblib/parallel.py\", line 861, in dispatch_one_batch\n",
      "    self._dispatch(tasks)\n",
      "  File \"/opt/conda/lib/python3.7/site-packages/joblib/parallel.py\", line 779, in _dispatch\n",
      "    job = self._backend.apply_async(batch, callback=cb)\n",
      "  File \"/opt/conda/lib/python3.7/site-packages/joblib/_parallel_backends.py\", line 208, in apply_async\n",
      "    result = ImmediateResult(func)\n",
      "  File \"/opt/conda/lib/python3.7/site-packages/joblib/_parallel_backends.py\", line 572, in __init__\n",
      "    self.results = batch()\n",
      "  File \"/opt/conda/lib/python3.7/site-packages/joblib/parallel.py\", line 263, in __call__\n",
      "    for func, args, kwargs in self.items]\n",
      "  File \"/opt/conda/lib/python3.7/site-packages/joblib/parallel.py\", line 263, in <listcomp>\n",
      "    for func, args, kwargs in self.items]\n",
      "  File \"/opt/conda/lib/python3.7/site-packages/sklearn/utils/fixes.py\", line 216, in __call__\n",
      "    return self.function(*args, **kwargs)\n",
      "  File \"/opt/conda/lib/python3.7/site-packages/sklearn/linear_model/_logistic.py\", line 811, in _logistic_regression_path\n",
      "    args=(X, target, 1.0 / C, sample_weight),\n",
      "ZeroDivisionError: float division by zero\n",
      "\n",
      "  warnings.warn(some_fits_failed_message, FitFailedWarning)\n",
      "/opt/conda/lib/python3.7/site-packages/sklearn/model_selection/_search.py:972: UserWarning: One or more of the test scores are non-finite: [0.7920398 0.7920398 0.7920398 0.7920398       nan 0.7920398 0.7920398\n",
      " 0.7920398 0.7920398 0.7920398]\n",
      "  category=UserWarning,\n"
     ]
    }
   ],
   "source": [
    "logistic_regression = LogisticRegression()\n",
    "parameters = {\n",
    "    'C': sp_randInt(0.001, 100),\n",
    "    'max_iter': sp_randInt(100, 1000)\n",
    "}\n",
    "\n",
    "clf = RandomizedSearchCV(logistic_regression, parameters, n_jobs = 1, cv = 10)\n",
    "clf.fit(train_X, train_Y)\n",
    "\n",
    "print('Best parameters according to Randomized Search:', clf.best_params_)"
   ]
  },
  {
   "cell_type": "code",
   "execution_count": 32,
   "id": "d05a3b55",
   "metadata": {
    "execution": {
     "iopub.execute_input": "2022-06-14T18:00:44.514989Z",
     "iopub.status.busy": "2022-06-14T18:00:44.514611Z",
     "iopub.status.idle": "2022-06-14T18:00:44.541415Z",
     "shell.execute_reply": "2022-06-14T18:00:44.540472Z"
    },
    "papermill": {
     "duration": 0.054636,
     "end_time": "2022-06-14T18:00:44.543399",
     "exception": false,
     "start_time": "2022-06-14T18:00:44.488763",
     "status": "completed"
    },
    "tags": []
   },
   "outputs": [
    {
     "data": {
      "text/plain": [
       "79.6407"
      ]
     },
     "execution_count": 32,
     "metadata": {},
     "output_type": "execute_result"
    }
   ],
   "source": [
    "logistic_regression = LogisticRegression(C = 25, max_iter = 360)\n",
    "logistic_regression.fit(train_X, train_Y)\n",
    "prediction = logistic_regression.predict(validation_X)\n",
    "accuracy = round(logistic_regression.score(train_X, train_Y) * 100, 4)\n",
    "accuracy"
   ]
  },
  {
   "cell_type": "markdown",
   "id": "e7073fbc",
   "metadata": {
    "papermill": {
     "duration": 0.025338,
     "end_time": "2022-06-14T18:00:44.594089",
     "exception": false,
     "start_time": "2022-06-14T18:00:44.568751",
     "status": "completed"
    },
    "tags": []
   },
   "source": [
    "#### Training and Validation Accuracy Curves "
   ]
  },
  {
   "cell_type": "markdown",
   "id": "2ee90cc8",
   "metadata": {
    "papermill": {
     "duration": 0.02509,
     "end_time": "2022-06-14T18:00:44.644250",
     "exception": false,
     "start_time": "2022-06-14T18:00:44.619160",
     "status": "completed"
    },
    "tags": []
   },
   "source": [
    "##### Hyperparameter C"
   ]
  },
  {
   "cell_type": "code",
   "execution_count": 33,
   "id": "8beaefe6",
   "metadata": {
    "execution": {
     "iopub.execute_input": "2022-06-14T18:00:44.696015Z",
     "iopub.status.busy": "2022-06-14T18:00:44.695604Z",
     "iopub.status.idle": "2022-06-14T18:00:46.044869Z",
     "shell.execute_reply": "2022-06-14T18:00:46.043914Z"
    },
    "papermill": {
     "duration": 1.37731,
     "end_time": "2022-06-14T18:00:46.047014",
     "exception": false,
     "start_time": "2022-06-14T18:00:44.669704",
     "status": "completed"
    },
    "tags": []
   },
   "outputs": [
    {
     "data": {
      "text/plain": [
       "Text(0.5, 1.0, 'Training and Validation Accuracy')"
      ]
     },
     "execution_count": 33,
     "metadata": {},
     "output_type": "execute_result"
    },
    {
     "data": {
      "image/png": "[encoded data removed]",
      "text/plain": [
       "<Figure size 432x288 with 1 Axes>"
      ]
     },
     "metadata": {
      "needs_background": "light"
     },
     "output_type": "display_data"
    }
   ],
   "source": [
    "pipeline = make_pipeline(StandardScaler(), LogisticRegression())\n",
    "\n",
    "c_values = [0.001, 0.05, 0.1, 0.5, 1, 10, 100, 1000]\n",
    "\n",
    "train_results, validation_results = validation_curve(pipeline, train_x, train_y, cv = 10, param_name = 'logisticregression__C', param_range = c_values, scoring = \"accuracy\")\n",
    "\n",
    "train_results_mean = np.mean(train_results, axis = 1)\n",
    "validation_results_mean = np.mean(validation_results, axis = 1)\n",
    "\n",
    "plt.plot(c_values, train_results_mean, label = 'Training Accuracy')\n",
    "plt.plot(c_values, validation_results_mean, label = 'Validation Accuracy')\n",
    "plt.xlabel('Different Values for Parameter C')\n",
    "plt.ylabel('Accuracy')\n",
    "plt.legend()\n",
    "plt.title('Training and Validation Accuracy')"
   ]
  },
  {
   "cell_type": "markdown",
   "id": "c2c1892d",
   "metadata": {
    "papermill": {
     "duration": 0.025327,
     "end_time": "2022-06-14T18:00:46.098023",
     "exception": false,
     "start_time": "2022-06-14T18:00:46.072696",
     "status": "completed"
    },
    "tags": []
   },
   "source": [
    "##### Hyperparameter Solver"
   ]
  },
  {
   "cell_type": "code",
   "execution_count": 34,
   "id": "162d2bcc",
   "metadata": {
    "execution": {
     "iopub.execute_input": "2022-06-14T18:00:46.150060Z",
     "iopub.status.busy": "2022-06-14T18:00:46.149589Z",
     "iopub.status.idle": "2022-06-14T18:00:47.065937Z",
     "shell.execute_reply": "2022-06-14T18:00:47.064997Z"
    },
    "papermill": {
     "duration": 0.945614,
     "end_time": "2022-06-14T18:00:47.068713",
     "exception": false,
     "start_time": "2022-06-14T18:00:46.123099",
     "status": "completed"
    },
    "tags": []
   },
   "outputs": [
    {
     "data": {
      "text/plain": [
       "Text(0.5, 1.0, 'Training and Validation Accuracy')"
      ]
     },
     "execution_count": 34,
     "metadata": {},
     "output_type": "execute_result"
    },
    {
     "data": {
      "image/png": "[encoded data removed]",
      "text/plain": [
       "<Figure size 432x288 with 1 Axes>"
      ]
     },
     "metadata": {
      "needs_background": "light"
     },
     "output_type": "display_data"
    }
   ],
   "source": [
    "pipeline = make_pipeline(StandardScaler(), LogisticRegression())\n",
    "\n",
    "solver_values = ['liblinear', 'lbfgs', 'newton-cg', 'sag', 'saga']\n",
    "\n",
    "train_results, validation_results = validation_curve(pipeline, train_x, train_y, cv = 10, param_name = 'logisticregression__solver', param_range = solver_values, scoring = \"accuracy\")\n",
    "\n",
    "train_results_mean = np.mean(train_results, axis = 1)\n",
    "validation_results_mean = np.mean(validation_results, axis = 1)\n",
    "\n",
    "plt.plot(solver_values, train_results_mean, label = 'Training Accuracy')\n",
    "plt.plot(solver_values, validation_results_mean, label = 'Validation Accuracy')\n",
    "plt.xlabel('Different Values for Parameter Solver')\n",
    "plt.ylabel('Accuracy')\n",
    "plt.legend()\n",
    "plt.title('Training and Validation Accuracy')"
   ]
  },
  {
   "cell_type": "markdown",
   "id": "76a3b37c",
   "metadata": {
    "papermill": {
     "duration": 0.026352,
     "end_time": "2022-06-14T18:00:47.121949",
     "exception": false,
     "start_time": "2022-06-14T18:00:47.095597",
     "status": "completed"
    },
    "tags": []
   },
   "source": [
    "##### Hyperparameter max_iter"
   ]
  },
  {
   "cell_type": "code",
   "execution_count": 35,
   "id": "52a86888",
   "metadata": {
    "execution": {
     "iopub.execute_input": "2022-06-14T18:00:47.175364Z",
     "iopub.status.busy": "2022-06-14T18:00:47.174767Z",
     "iopub.status.idle": "2022-06-14T18:00:48.260749Z",
     "shell.execute_reply": "2022-06-14T18:00:48.260077Z"
    },
    "papermill": {
     "duration": 1.115249,
     "end_time": "2022-06-14T18:00:48.262686",
     "exception": false,
     "start_time": "2022-06-14T18:00:47.147437",
     "status": "completed"
    },
    "tags": []
   },
   "outputs": [
    {
     "data": {
      "text/plain": [
       "Text(0.5, 1.0, 'Training and Validation Accuracy')"
      ]
     },
     "execution_count": 35,
     "metadata": {},
     "output_type": "execute_result"
    },
    {
     "data": {
      "image/png": "[encoded data removed]",
      "text/plain": [
       "<Figure size 432x288 with 1 Axes>"
      ]
     },
     "metadata": {
      "needs_background": "light"
     },
     "output_type": "display_data"
    }
   ],
   "source": [
    "pipeline = make_pipeline(StandardScaler(), LogisticRegression())\n",
    "\n",
    "max_iter_values =  [100, 200, 300, 400, 500, 600]\n",
    "\n",
    "train_results, validation_results = validation_curve(pipeline, train_x, train_y, cv = 10, param_name = 'logisticregression__max_iter', param_range = max_iter_values, scoring = \"accuracy\")\n",
    "\n",
    "train_results_mean = np.mean(train_results, axis = 1)\n",
    "validation_results_mean = np.mean(validation_results, axis = 1)\n",
    "\n",
    "plt.plot(max_iter_values , train_results_mean, label = 'Training Accuracy')\n",
    "plt.plot(max_iter_values , validation_results_mean, label = 'Validation Accuracy')\n",
    "plt.xlabel('Different Values for Parameter Max_Iter')\n",
    "plt.ylabel('Accuracy')\n",
    "plt.legend()\n",
    "plt.title('Training and Validation Accuracy')"
   ]
  },
  {
   "cell_type": "markdown",
   "id": "5ec70f81",
   "metadata": {
    "papermill": {
     "duration": 0.025796,
     "end_time": "2022-06-14T18:00:48.314916",
     "exception": false,
     "start_time": "2022-06-14T18:00:48.289120",
     "status": "completed"
    },
    "tags": []
   },
   "source": [
    "#### Training and Validation Loss Curves"
   ]
  },
  {
   "cell_type": "markdown",
   "id": "adcc864a",
   "metadata": {
    "papermill": {
     "duration": 0.025485,
     "end_time": "2022-06-14T18:00:48.367285",
     "exception": false,
     "start_time": "2022-06-14T18:00:48.341800",
     "status": "completed"
    },
    "tags": []
   },
   "source": [
    "##### Hyperparameter C"
   ]
  },
  {
   "cell_type": "code",
   "execution_count": 36,
   "id": "6dfa9cd0",
   "metadata": {
    "execution": {
     "iopub.execute_input": "2022-06-14T18:00:48.420177Z",
     "iopub.status.busy": "2022-06-14T18:00:48.419757Z",
     "iopub.status.idle": "2022-06-14T18:00:49.780111Z",
     "shell.execute_reply": "2022-06-14T18:00:49.779421Z"
    },
    "papermill": {
     "duration": 1.389183,
     "end_time": "2022-06-14T18:00:49.781952",
     "exception": false,
     "start_time": "2022-06-14T18:00:48.392769",
     "status": "completed"
    },
    "tags": []
   },
   "outputs": [
    {
     "data": {
      "text/plain": [
       "Text(0.5, 1.0, 'Training and Validation Loss Curve')"
      ]
     },
     "execution_count": 36,
     "metadata": {},
     "output_type": "execute_result"
    },
    {
     "data": {
      "image/png": "[encoded data removed]",
      "text/plain": [
       "<Figure size 432x288 with 1 Axes>"
      ]
     },
     "metadata": {
      "needs_background": "light"
     },
     "output_type": "display_data"
    }
   ],
   "source": [
    "pipeline = make_pipeline(StandardScaler(), LogisticRegression())\n",
    "\n",
    "c_values = [0.001, 0.05, 0.1, 0.5, 1, 10, 100, 1000] # play around with these values for better graph\n",
    "\n",
    "train_results, validation_results = validation_curve(pipeline, train_x, train_y, cv = 10, param_name = 'logisticregression__C', param_range = c_values, scoring=\"accuracy\")\n",
    "\n",
    "train_errors_mean = 1-np.mean(train_results, axis = 1) # convert accuracy to misclassification rate (ie loss)\n",
    "validation_errors_mean = 1-np.mean(validation_results , axis = 1)\n",
    "\n",
    "\n",
    "plt.plot(c_values, train_errors_mean, label = 'Training Loss')\n",
    "plt.plot(c_values, validation_errors_mean, label = 'Validation Loss')\n",
    "plt.legend()\n",
    "\n",
    "plt.xlabel('Different Values for Parameter C')\n",
    "plt.ylabel('Absolute Error/Loss')\n",
    "plt.title('Training and Validation Loss Curve')"
   ]
  },
  {
   "cell_type": "markdown",
   "id": "08500991",
   "metadata": {
    "papermill": {
     "duration": 0.026246,
     "end_time": "2022-06-14T18:00:49.835502",
     "exception": false,
     "start_time": "2022-06-14T18:00:49.809256",
     "status": "completed"
    },
    "tags": []
   },
   "source": [
    "##### Hyperparameter Solver"
   ]
  },
  {
   "cell_type": "code",
   "execution_count": 37,
   "id": "31e0109c",
   "metadata": {
    "execution": {
     "iopub.execute_input": "2022-06-14T18:00:49.890331Z",
     "iopub.status.busy": "2022-06-14T18:00:49.889751Z",
     "iopub.status.idle": "2022-06-14T18:00:50.790718Z",
     "shell.execute_reply": "2022-06-14T18:00:50.789783Z"
    },
    "papermill": {
     "duration": 0.931471,
     "end_time": "2022-06-14T18:00:50.793067",
     "exception": false,
     "start_time": "2022-06-14T18:00:49.861596",
     "status": "completed"
    },
    "tags": []
   },
   "outputs": [
    {
     "data": {
      "text/plain": [
       "Text(0.5, 1.0, 'Training and Validation Loss Curve')"
      ]
     },
     "execution_count": 37,
     "metadata": {},
     "output_type": "execute_result"
    },
    {
     "data": {
      "image/png": "[encoded data removed]",
      "text/plain": [
       "<Figure size 432x288 with 1 Axes>"
      ]
     },
     "metadata": {
      "needs_background": "light"
     },
     "output_type": "display_data"
    }
   ],
   "source": [
    "pipeline = make_pipeline(StandardScaler(), LogisticRegression())\n",
    "\n",
    "solver_values = ['liblinear', 'lbfgs', 'newton-cg', 'sag', 'saga']# play around with these values for better graph\n",
    "\n",
    "train_results, validation_results = validation_curve(pipeline, train_x, train_y, cv = 10, param_name = 'logisticregression__solver', param_range = solver_values, scoring=\"accuracy\")\n",
    "\n",
    "train_errors_mean = 1-np.mean(train_results, axis = 1) # convert accuracy to misclassification rate (ie loss)\n",
    "validation_errors_mean = 1-np.mean(validation_results , axis = 1)\n",
    "\n",
    "\n",
    "plt.plot(solver_values, train_errors_mean, label = 'Training Loss')\n",
    "plt.plot(solver_values, validation_errors_mean, label = 'Validation Loss')\n",
    "plt.legend()\n",
    "plt.xlabel('Different Values for Parameter Solver')\n",
    "plt.ylabel('Absolute Error/Loss')\n",
    "plt.title('Training and Validation Loss Curve')"
   ]
  },
  {
   "cell_type": "markdown",
   "id": "8b3c0c7d",
   "metadata": {
    "papermill": {
     "duration": 0.026702,
     "end_time": "2022-06-14T18:00:50.847458",
     "exception": false,
     "start_time": "2022-06-14T18:00:50.820756",
     "status": "completed"
    },
    "tags": []
   },
   "source": [
    "##### Hyperparameter max_iter"
   ]
  },
  {
   "cell_type": "code",
   "execution_count": 38,
   "id": "a58cae52",
   "metadata": {
    "execution": {
     "iopub.execute_input": "2022-06-14T18:00:50.903650Z",
     "iopub.status.busy": "2022-06-14T18:00:50.901768Z",
     "iopub.status.idle": "2022-06-14T18:00:51.982234Z",
     "shell.execute_reply": "2022-06-14T18:00:51.981335Z"
    },
    "papermill": {
     "duration": 1.109891,
     "end_time": "2022-06-14T18:00:51.984169",
     "exception": false,
     "start_time": "2022-06-14T18:00:50.874278",
     "status": "completed"
    },
    "tags": []
   },
   "outputs": [
    {
     "data": {
      "text/plain": [
       "Text(0.5, 1.0, 'Training and Validation Loss Curve')"
      ]
     },
     "execution_count": 38,
     "metadata": {},
     "output_type": "execute_result"
    },
    {
     "data": {
      "image/png": "[encoded data removed]",
      "text/plain": [
       "<Figure size 432x288 with 1 Axes>"
      ]
     },
     "metadata": {
      "needs_background": "light"
     },
     "output_type": "display_data"
    }
   ],
   "source": [
    "pipeline = make_pipeline(StandardScaler(), LogisticRegression())\n",
    "\n",
    "max_iter_values =  [100, 200, 300, 400, 500, 600]# play around with these values for better graph\n",
    "\n",
    "train_results, validation_results = validation_curve(pipeline, train_x, train_y, cv = 10, param_name = 'logisticregression__max_iter', param_range = max_iter_values, scoring=\"accuracy\")\n",
    "\n",
    "train_errors_mean = 1-np.mean(train_results, axis = 1) # convert accuracy to misclassification rate (ie loss)\n",
    "validation_errors_mean = 1-np.mean(validation_results , axis = 1)\n",
    "\n",
    "\n",
    "plt.plot(max_iter_values, train_errors_mean, label = 'Training Loss')\n",
    "plt.plot(max_iter_values, validation_errors_mean, label = 'Validation Loss')\n",
    "plt.legend()\n",
    "plt.xlabel('Different Values for Parameter Max_Iter')\n",
    "plt.ylabel('Absolute Error/Loss')\n",
    "plt.title('Training and Validation Loss Curve')"
   ]
  },
  {
   "cell_type": "markdown",
   "id": "58e758b0",
   "metadata": {
    "papermill": {
     "duration": 0.027679,
     "end_time": "2022-06-14T18:00:52.038682",
     "exception": false,
     "start_time": "2022-06-14T18:00:52.011003",
     "status": "completed"
    },
    "tags": []
   },
   "source": [
    "#### Cross Validation"
   ]
  },
  {
   "cell_type": "markdown",
   "id": "7e8a782f",
   "metadata": {
    "papermill": {
     "duration": 0.026853,
     "end_time": "2022-06-14T18:00:52.091982",
     "exception": false,
     "start_time": "2022-06-14T18:00:52.065129",
     "status": "completed"
    },
    "tags": []
   },
   "source": [
    "##### K-Fold Cross Validation for More Accurate Error Estimation"
   ]
  },
  {
   "cell_type": "code",
   "execution_count": 39,
   "id": "835e2cfa",
   "metadata": {
    "execution": {
     "iopub.execute_input": "2022-06-14T18:00:52.148661Z",
     "iopub.status.busy": "2022-06-14T18:00:52.148173Z",
     "iopub.status.idle": "2022-06-14T18:00:52.153653Z",
     "shell.execute_reply": "2022-06-14T18:00:52.152579Z"
    },
    "papermill": {
     "duration": 0.036162,
     "end_time": "2022-06-14T18:00:52.155795",
     "exception": false,
     "start_time": "2022-06-14T18:00:52.119633",
     "status": "completed"
    },
    "tags": []
   },
   "outputs": [],
   "source": [
    "def cross_validation(logistic_regression, param):\n",
    "    cv = KFold(n_splits = 10)\n",
    "    results = cross_val_score(logistic_regression, train_x, train_y, cv = cv)  # iterates and splits up data for you\n",
    "    error = 1 - results.mean()\n",
    "    print('Average error for ' + str(param) +': ' + format(error))\n",
    "    return error\n"
   ]
  },
  {
   "cell_type": "markdown",
   "id": "e77e4896",
   "metadata": {
    "papermill": {
     "duration": 0.027541,
     "end_time": "2022-06-14T18:00:52.209999",
     "exception": false,
     "start_time": "2022-06-14T18:00:52.182458",
     "status": "completed"
    },
    "tags": []
   },
   "source": [
    "#### Training Error For Logistic Regression Using Cross Validation"
   ]
  },
  {
   "cell_type": "markdown",
   "id": "cf1ecbbc",
   "metadata": {
    "papermill": {
     "duration": 0.026412,
     "end_time": "2022-06-14T18:00:52.263171",
     "exception": false,
     "start_time": "2022-06-14T18:00:52.236759",
     "status": "completed"
    },
    "tags": []
   },
   "source": [
    "##### Hyperparameter C"
   ]
  },
  {
   "cell_type": "code",
   "execution_count": 40,
   "id": "633054ef",
   "metadata": {
    "execution": {
     "iopub.execute_input": "2022-06-14T18:00:52.319162Z",
     "iopub.status.busy": "2022-06-14T18:00:52.318726Z",
     "iopub.status.idle": "2022-06-14T18:00:53.953621Z",
     "shell.execute_reply": "2022-06-14T18:00:53.952550Z"
    },
    "papermill": {
     "duration": 1.665534,
     "end_time": "2022-06-14T18:00:53.955821",
     "exception": false,
     "start_time": "2022-06-14T18:00:52.290287",
     "status": "completed"
    },
    "tags": []
   },
   "outputs": [
    {
     "name": "stdout",
     "output_type": "stream",
     "text": [
      "Average error for 0.001: 0.29847690387016235\n",
      "Average error for 0.05: 0.22554307116104866\n",
      "Average error for 0.1: 0.21099875156054926\n",
      "Average error for 0.5: 0.20987515605493134\n",
      "Average error for 1: 0.2053682896379525\n",
      "Average error for 10: 0.20424469413233448\n",
      "Average error for 100: 0.20424469413233448\n",
      "Average error for 1000: 0.20424469413233448\n"
     ]
    },
    {
     "data": {
      "text/plain": [
       "Text(0.5, 1.0, '10-Fold CV')"
      ]
     },
     "execution_count": 40,
     "metadata": {},
     "output_type": "execute_result"
    },
    {
     "data": {
      "image/png": "[encoded data removed]",
      "text/plain": [
       "<Figure size 432x288 with 1 Axes>"
      ]
     },
     "metadata": {
      "needs_background": "light"
     },
     "output_type": "display_data"
    }
   ],
   "source": [
    "errors = []\n",
    "c_values = [0.001, 0.05, 0.1, 0.5, 1, 10, 100, 1000] \n",
    "for x in range(8):\n",
    "    logistic_regression = LogisticRegression(C = c_values[x])\n",
    "    error = cross_validation(logistic_regression, c_values[x])\n",
    "    errors.append(error)\n",
    "\n",
    "plt.plot(c_values, errors)\n",
    "plt.xlabel('Different Values for Parameter C')\n",
    "plt.ylabel('Error')\n",
    "plt.title('10-Fold CV')"
   ]
  },
  {
   "cell_type": "markdown",
   "id": "d1ca2cb2",
   "metadata": {
    "papermill": {
     "duration": 0.030899,
     "end_time": "2022-06-14T18:00:54.014821",
     "exception": false,
     "start_time": "2022-06-14T18:00:53.983922",
     "status": "completed"
    },
    "tags": []
   },
   "source": [
    "##### Hyperparameter Solver"
   ]
  },
  {
   "cell_type": "code",
   "execution_count": 41,
   "id": "0d7ed31e",
   "metadata": {
    "execution": {
     "iopub.execute_input": "2022-06-14T18:00:54.075889Z",
     "iopub.status.busy": "2022-06-14T18:00:54.074829Z",
     "iopub.status.idle": "2022-06-14T18:00:55.105816Z",
     "shell.execute_reply": "2022-06-14T18:00:55.105097Z"
    },
    "papermill": {
     "duration": 1.062728,
     "end_time": "2022-06-14T18:00:55.107510",
     "exception": false,
     "start_time": "2022-06-14T18:00:54.044782",
     "status": "completed"
    },
    "tags": []
   },
   "outputs": [
    {
     "name": "stdout",
     "output_type": "stream",
     "text": [
      "Average error for liblinear: 0.20650436953807738\n",
      "Average error for lbfgs: 0.2053682896379525\n",
      "Average error for newton-cg: 0.2053682896379525\n",
      "Average error for sag: 0.20650436953807738\n"
     ]
    },
    {
     "name": "stderr",
     "output_type": "stream",
     "text": [
      "/opt/conda/lib/python3.7/site-packages/sklearn/linear_model/_sag.py:354: ConvergenceWarning: The max_iter was reached which means the coef_ did not converge\n",
      "  ConvergenceWarning,\n",
      "/opt/conda/lib/python3.7/site-packages/sklearn/linear_model/_sag.py:354: ConvergenceWarning: The max_iter was reached which means the coef_ did not converge\n",
      "  ConvergenceWarning,\n",
      "/opt/conda/lib/python3.7/site-packages/sklearn/linear_model/_sag.py:354: ConvergenceWarning: The max_iter was reached which means the coef_ did not converge\n",
      "  ConvergenceWarning,\n",
      "/opt/conda/lib/python3.7/site-packages/sklearn/linear_model/_sag.py:354: ConvergenceWarning: The max_iter was reached which means the coef_ did not converge\n",
      "  ConvergenceWarning,\n",
      "/opt/conda/lib/python3.7/site-packages/sklearn/linear_model/_sag.py:354: ConvergenceWarning: The max_iter was reached which means the coef_ did not converge\n",
      "  ConvergenceWarning,\n",
      "/opt/conda/lib/python3.7/site-packages/sklearn/linear_model/_sag.py:354: ConvergenceWarning: The max_iter was reached which means the coef_ did not converge\n",
      "  ConvergenceWarning,\n",
      "/opt/conda/lib/python3.7/site-packages/sklearn/linear_model/_sag.py:354: ConvergenceWarning: The max_iter was reached which means the coef_ did not converge\n",
      "  ConvergenceWarning,\n",
      "/opt/conda/lib/python3.7/site-packages/sklearn/linear_model/_sag.py:354: ConvergenceWarning: The max_iter was reached which means the coef_ did not converge\n",
      "  ConvergenceWarning,\n",
      "/opt/conda/lib/python3.7/site-packages/sklearn/linear_model/_sag.py:354: ConvergenceWarning: The max_iter was reached which means the coef_ did not converge\n",
      "  ConvergenceWarning,\n",
      "/opt/conda/lib/python3.7/site-packages/sklearn/linear_model/_sag.py:354: ConvergenceWarning: The max_iter was reached which means the coef_ did not converge\n",
      "  ConvergenceWarning,\n"
     ]
    },
    {
     "name": "stdout",
     "output_type": "stream",
     "text": [
      "Average error for saga: 0.2109862671660424\n"
     ]
    },
    {
     "name": "stderr",
     "output_type": "stream",
     "text": [
      "/opt/conda/lib/python3.7/site-packages/sklearn/linear_model/_sag.py:354: ConvergenceWarning: The max_iter was reached which means the coef_ did not converge\n",
      "  ConvergenceWarning,\n",
      "/opt/conda/lib/python3.7/site-packages/sklearn/linear_model/_sag.py:354: ConvergenceWarning: The max_iter was reached which means the coef_ did not converge\n",
      "  ConvergenceWarning,\n",
      "/opt/conda/lib/python3.7/site-packages/sklearn/linear_model/_sag.py:354: ConvergenceWarning: The max_iter was reached which means the coef_ did not converge\n",
      "  ConvergenceWarning,\n",
      "/opt/conda/lib/python3.7/site-packages/sklearn/linear_model/_sag.py:354: ConvergenceWarning: The max_iter was reached which means the coef_ did not converge\n",
      "  ConvergenceWarning,\n",
      "/opt/conda/lib/python3.7/site-packages/sklearn/linear_model/_sag.py:354: ConvergenceWarning: The max_iter was reached which means the coef_ did not converge\n",
      "  ConvergenceWarning,\n",
      "/opt/conda/lib/python3.7/site-packages/sklearn/linear_model/_sag.py:354: ConvergenceWarning: The max_iter was reached which means the coef_ did not converge\n",
      "  ConvergenceWarning,\n",
      "/opt/conda/lib/python3.7/site-packages/sklearn/linear_model/_sag.py:354: ConvergenceWarning: The max_iter was reached which means the coef_ did not converge\n",
      "  ConvergenceWarning,\n",
      "/opt/conda/lib/python3.7/site-packages/sklearn/linear_model/_sag.py:354: ConvergenceWarning: The max_iter was reached which means the coef_ did not converge\n",
      "  ConvergenceWarning,\n",
      "/opt/conda/lib/python3.7/site-packages/sklearn/linear_model/_sag.py:354: ConvergenceWarning: The max_iter was reached which means the coef_ did not converge\n",
      "  ConvergenceWarning,\n",
      "/opt/conda/lib/python3.7/site-packages/sklearn/linear_model/_sag.py:354: ConvergenceWarning: The max_iter was reached which means the coef_ did not converge\n",
      "  ConvergenceWarning,\n"
     ]
    },
    {
     "data": {
      "text/plain": [
       "Text(0.5, 1.0, '10-Fold CV')"
      ]
     },
     "execution_count": 41,
     "metadata": {},
     "output_type": "execute_result"
    },
    {
     "data": {
      "image/png": "[encoded data removed]",
      "text/plain": [
       "<Figure size 432x288 with 1 Axes>"
      ]
     },
     "metadata": {
      "needs_background": "light"
     },
     "output_type": "display_data"
    }
   ],
   "source": [
    "errors = []\n",
    "solver_values =  ['liblinear', 'lbfgs', 'newton-cg', 'sag', 'saga']\n",
    "for x in range(5):\n",
    "    logistic_regression = LogisticRegression(solver = solver_values[x])\n",
    "    error = cross_validation(logistic_regression, solver_values[x])\n",
    "    errors.append(error)\n",
    "\n",
    "plt.plot(solver_values, errors)\n",
    "plt.xlabel('Different Values for Parameter Solver')\n",
    "plt.ylabel('Error')\n",
    "plt.title('10-Fold CV')"
   ]
  },
  {
   "cell_type": "markdown",
   "id": "78799dd3",
   "metadata": {
    "papermill": {
     "duration": 0.027908,
     "end_time": "2022-06-14T18:00:55.164106",
     "exception": false,
     "start_time": "2022-06-14T18:00:55.136198",
     "status": "completed"
    },
    "tags": []
   },
   "source": [
    "##### Hyperparameter max_iter"
   ]
  },
  {
   "cell_type": "code",
   "execution_count": 42,
   "id": "05801c1b",
   "metadata": {
    "execution": {
     "iopub.execute_input": "2022-06-14T18:00:55.223163Z",
     "iopub.status.busy": "2022-06-14T18:00:55.222404Z",
     "iopub.status.idle": "2022-06-14T18:00:56.586743Z",
     "shell.execute_reply": "2022-06-14T18:00:56.585892Z"
    },
    "papermill": {
     "duration": 1.39653,
     "end_time": "2022-06-14T18:00:56.589001",
     "exception": false,
     "start_time": "2022-06-14T18:00:55.192471",
     "status": "completed"
    },
    "tags": []
   },
   "outputs": [
    {
     "name": "stdout",
     "output_type": "stream",
     "text": [
      "Average error for 100: 0.2053682896379525\n",
      "Average error for 200: 0.2053682896379525\n",
      "Average error for 300: 0.2053682896379525\n",
      "Average error for 400: 0.2053682896379525\n",
      "Average error for 500: 0.2053682896379525\n",
      "Average error for 600: 0.2053682896379525\n"
     ]
    },
    {
     "data": {
      "text/plain": [
       "Text(0.5, 1.0, '10-Fold CV')"
      ]
     },
     "execution_count": 42,
     "metadata": {},
     "output_type": "execute_result"
    },
    {
     "data": {
      "image/png": "[encoded data removed]",
      "text/plain": [
       "<Figure size 432x288 with 1 Axes>"
      ]
     },
     "metadata": {
      "needs_background": "light"
     },
     "output_type": "display_data"
    }
   ],
   "source": [
    "errors = []\n",
    "max_iter_values =  [100, 200, 300, 400, 500, 600]\n",
    "for x in range(6):\n",
    "    logistic_regression = LogisticRegression(max_iter = max_iter_values[x])\n",
    "    error = cross_validation(logistic_regression, max_iter_values[x])\n",
    "    errors.append(error)\n",
    "\n",
    "plt.plot(max_iter_values, errors)\n",
    "plt.xlabel('Different Values for Parameter Solver')\n",
    "plt.ylabel('Error')\n",
    "plt.title('10-Fold CV')"
   ]
  },
  {
   "cell_type": "markdown",
   "id": "50044d0a",
   "metadata": {
    "papermill": {
     "duration": 0.032116,
     "end_time": "2022-06-14T18:00:56.650403",
     "exception": false,
     "start_time": "2022-06-14T18:00:56.618287",
     "status": "completed"
    },
    "tags": []
   },
   "source": [
    "## Gaussian Naive Bayes Tuning"
   ]
  },
  {
   "cell_type": "markdown",
   "id": "daa0f255",
   "metadata": {
    "papermill": {
     "duration": 0.030984,
     "end_time": "2022-06-14T18:00:56.712517",
     "exception": false,
     "start_time": "2022-06-14T18:00:56.681533",
     "status": "completed"
    },
    "tags": []
   },
   "source": [
    "#### Testing Gaussian Naive Bayes on Validation Set with No Parameters"
   ]
  },
  {
   "cell_type": "code",
   "execution_count": 43,
   "id": "b02da1c1",
   "metadata": {
    "execution": {
     "iopub.execute_input": "2022-06-14T18:00:56.777291Z",
     "iopub.status.busy": "2022-06-14T18:00:56.776394Z",
     "iopub.status.idle": "2022-06-14T18:00:56.790228Z",
     "shell.execute_reply": "2022-06-14T18:00:56.789397Z"
    },
    "papermill": {
     "duration": 0.046861,
     "end_time": "2022-06-14T18:00:56.792072",
     "exception": false,
     "start_time": "2022-06-14T18:00:56.745211",
     "status": "completed"
    },
    "tags": []
   },
   "outputs": [
    {
     "data": {
      "text/plain": [
       "76.9461"
      ]
     },
     "execution_count": 43,
     "metadata": {},
     "output_type": "execute_result"
    }
   ],
   "source": [
    "gaussian = GaussianNB()\n",
    "gaussian.fit(train_X, train_Y)\n",
    "prediction = gaussian.predict(validation_X)\n",
    "accuracy = round(gaussian.score(train_X, train_Y) * 100, 4)\n",
    "accuracy"
   ]
  },
  {
   "cell_type": "markdown",
   "id": "d622f2a3",
   "metadata": {
    "papermill": {
     "duration": 0.028156,
     "end_time": "2022-06-14T18:00:56.849477",
     "exception": false,
     "start_time": "2022-06-14T18:00:56.821321",
     "status": "completed"
    },
    "tags": []
   },
   "source": [
    "#### Grid Search Method"
   ]
  },
  {
   "cell_type": "code",
   "execution_count": 44,
   "id": "62a3734d",
   "metadata": {
    "execution": {
     "iopub.execute_input": "2022-06-14T18:00:56.908474Z",
     "iopub.status.busy": "2022-06-14T18:00:56.907546Z",
     "iopub.status.idle": "2022-06-14T18:01:01.968856Z",
     "shell.execute_reply": "2022-06-14T18:01:01.967855Z"
    },
    "papermill": {
     "duration": 5.094184,
     "end_time": "2022-06-14T18:01:01.972118",
     "exception": false,
     "start_time": "2022-06-14T18:00:56.877934",
     "status": "completed"
    },
    "tags": []
   },
   "outputs": [
    {
     "name": "stdout",
     "output_type": "stream",
     "text": [
      "Best parameters according to Grid Search: {'var_smoothing': 0.001}\n"
     ]
    }
   ],
   "source": [
    "gaussian = GaussianNB()\n",
    "parameters = {\n",
    "    'var_smoothing': np.logspace(0,-9, num = 100)\n",
    "}\n",
    "clf = GridSearchCV(gaussian, parameters, n_jobs = 1, cv = 10)\n",
    "clf.fit(train_X, train_Y)\n",
    "\n",
    "print('Best parameters according to Grid Search:', clf.best_params_)"
   ]
  },
  {
   "cell_type": "code",
   "execution_count": 45,
   "id": "174183d0",
   "metadata": {
    "execution": {
     "iopub.execute_input": "2022-06-14T18:01:02.041174Z",
     "iopub.status.busy": "2022-06-14T18:01:02.040732Z",
     "iopub.status.idle": "2022-06-14T18:01:02.056217Z",
     "shell.execute_reply": "2022-06-14T18:01:02.055247Z"
    },
    "papermill": {
     "duration": 0.049389,
     "end_time": "2022-06-14T18:01:02.058097",
     "exception": false,
     "start_time": "2022-06-14T18:01:02.008708",
     "status": "completed"
    },
    "tags": []
   },
   "outputs": [
    {
     "data": {
      "text/plain": [
       "76.6467"
      ]
     },
     "execution_count": 45,
     "metadata": {},
     "output_type": "execute_result"
    }
   ],
   "source": [
    "gaussian = GaussianNB(var_smoothing = 0.0002310129700083158)\n",
    "gaussian.fit(train_X, train_Y)\n",
    "prediction = gaussian.predict(validation_X)\n",
    "accuracy = round(gaussian.score(train_X, train_Y) * 100, 4)\n",
    "accuracy"
   ]
  },
  {
   "cell_type": "markdown",
   "id": "091494d3",
   "metadata": {
    "papermill": {
     "duration": 0.032055,
     "end_time": "2022-06-14T18:01:02.119953",
     "exception": false,
     "start_time": "2022-06-14T18:01:02.087898",
     "status": "completed"
    },
    "tags": []
   },
   "source": [
    "#### Random Search Method"
   ]
  },
  {
   "cell_type": "code",
   "execution_count": 46,
   "id": "0cf05861",
   "metadata": {
    "execution": {
     "iopub.execute_input": "2022-06-14T18:01:02.249603Z",
     "iopub.status.busy": "2022-06-14T18:01:02.249180Z",
     "iopub.status.idle": "2022-06-14T18:01:02.759927Z",
     "shell.execute_reply": "2022-06-14T18:01:02.758715Z"
    },
    "papermill": {
     "duration": 0.546284,
     "end_time": "2022-06-14T18:01:02.762168",
     "exception": false,
     "start_time": "2022-06-14T18:01:02.215884",
     "status": "completed"
    },
    "tags": []
   },
   "outputs": [
    {
     "name": "stdout",
     "output_type": "stream",
     "text": [
      "Best parameters according to Randomized Search: {'var_smoothing': 4.328761281083062e-05}\n"
     ]
    }
   ],
   "source": [
    "gaussian = GaussianNB()\n",
    "parameters = {\n",
    "    'var_smoothing': np.logspace(0,-9, num = 100)\n",
    "}\n",
    "\n",
    "clf = RandomizedSearchCV(gaussian, parameters, n_jobs = 1, cv = 10)\n",
    "clf.fit(train_X, train_Y)\n",
    "\n",
    "print('Best parameters according to Randomized Search:', clf.best_params_)"
   ]
  },
  {
   "cell_type": "code",
   "execution_count": 47,
   "id": "222898f1",
   "metadata": {
    "execution": {
     "iopub.execute_input": "2022-06-14T18:01:02.822558Z",
     "iopub.status.busy": "2022-06-14T18:01:02.822179Z",
     "iopub.status.idle": "2022-06-14T18:01:02.836933Z",
     "shell.execute_reply": "2022-06-14T18:01:02.836082Z"
    },
    "papermill": {
     "duration": 0.047473,
     "end_time": "2022-06-14T18:01:02.838785",
     "exception": false,
     "start_time": "2022-06-14T18:01:02.791312",
     "status": "completed"
    },
    "tags": []
   },
   "outputs": [
    {
     "data": {
      "text/plain": [
       "76.9461"
      ]
     },
     "execution_count": 47,
     "metadata": {},
     "output_type": "execute_result"
    }
   ],
   "source": [
    "gaussian = GaussianNB(var_smoothing = 2.310129700083158e-05)\n",
    "gaussian.fit(train_X, train_Y)\n",
    "prediction = gaussian.predict(validation_X)\n",
    "accuracy = round(gaussian.score(train_X, train_Y) * 100, 4)\n",
    "accuracy"
   ]
  },
  {
   "cell_type": "markdown",
   "id": "f4ee78ce",
   "metadata": {
    "papermill": {
     "duration": 0.029094,
     "end_time": "2022-06-14T18:01:02.897366",
     "exception": false,
     "start_time": "2022-06-14T18:01:02.868272",
     "status": "completed"
    },
    "tags": []
   },
   "source": [
    "#### Training and Validation Accuracy Curves "
   ]
  },
  {
   "cell_type": "markdown",
   "id": "2711bafe",
   "metadata": {
    "papermill": {
     "duration": 0.028343,
     "end_time": "2022-06-14T18:01:02.954804",
     "exception": false,
     "start_time": "2022-06-14T18:01:02.926461",
     "status": "completed"
    },
    "tags": []
   },
   "source": [
    "##### Hyperparameter var_smoothing"
   ]
  },
  {
   "cell_type": "code",
   "execution_count": 48,
   "id": "6961d8b8",
   "metadata": {
    "execution": {
     "iopub.execute_input": "2022-06-14T18:01:03.014703Z",
     "iopub.status.busy": "2022-06-14T18:01:03.014144Z",
     "iopub.status.idle": "2022-06-14T18:01:13.669519Z",
     "shell.execute_reply": "2022-06-14T18:01:13.668471Z"
    },
    "papermill": {
     "duration": 10.688019,
     "end_time": "2022-06-14T18:01:13.671739",
     "exception": false,
     "start_time": "2022-06-14T18:01:02.983720",
     "status": "completed"
    },
    "tags": []
   },
   "outputs": [
    {
     "data": {
      "text/plain": [
       "Text(0.5, 1.0, 'Training and Validation Accuracy')"
      ]
     },
     "execution_count": 48,
     "metadata": {},
     "output_type": "execute_result"
    },
    {
     "data": {
      "image/png": "[encoded data removed]",
      "text/plain": [
       "<Figure size 432x288 with 1 Axes>"
      ]
     },
     "metadata": {
      "needs_background": "light"
     },
     "output_type": "display_data"
    }
   ],
   "source": [
    "pipeline = make_pipeline(StandardScaler(), GaussianNB())\n",
    "\n",
    "var_smoothing_values = np.logspace(0,-9, num = 100)\n",
    "\n",
    "train_results, validation_results = validation_curve(pipeline, train_x, train_y, cv = 10, param_name = 'gaussiannb__var_smoothing', param_range = var_smoothing_values, scoring = \"accuracy\")\n",
    "\n",
    "train_results_mean = np.mean(train_results, axis = 1)\n",
    "validation_results_mean = np.mean(validation_results, axis = 1)\n",
    "\n",
    "plt.plot(var_smoothing_values , train_results_mean, label = 'Training Accuracy')\n",
    "plt.plot(var_smoothing_values , validation_results_mean, label = 'Validation Accuracy')\n",
    "plt.xlabel('Different Values for Parameter Var_Smoothing')\n",
    "plt.ylabel('Accuracy')\n",
    "plt.legend()\n",
    "plt.title('Training and Validation Accuracy')"
   ]
  },
  {
   "cell_type": "markdown",
   "id": "72a00f7c",
   "metadata": {
    "papermill": {
     "duration": 0.030108,
     "end_time": "2022-06-14T18:01:13.731525",
     "exception": false,
     "start_time": "2022-06-14T18:01:13.701417",
     "status": "completed"
    },
    "tags": []
   },
   "source": [
    "#### Training and Validation Loss Curves"
   ]
  },
  {
   "cell_type": "markdown",
   "id": "e5e8e44f",
   "metadata": {
    "papermill": {
     "duration": 0.029576,
     "end_time": "2022-06-14T18:01:13.790964",
     "exception": false,
     "start_time": "2022-06-14T18:01:13.761388",
     "status": "completed"
    },
    "tags": []
   },
   "source": [
    "##### Hyperparameter var_smoothing"
   ]
  },
  {
   "cell_type": "code",
   "execution_count": 49,
   "id": "02fdb642",
   "metadata": {
    "execution": {
     "iopub.execute_input": "2022-06-14T18:01:13.853308Z",
     "iopub.status.busy": "2022-06-14T18:01:13.852624Z",
     "iopub.status.idle": "2022-06-14T18:01:24.863848Z",
     "shell.execute_reply": "2022-06-14T18:01:24.862959Z"
    },
    "papermill": {
     "duration": 11.044418,
     "end_time": "2022-06-14T18:01:24.865926",
     "exception": false,
     "start_time": "2022-06-14T18:01:13.821508",
     "status": "completed"
    },
    "tags": []
   },
   "outputs": [
    {
     "data": {
      "text/plain": [
       "Text(0.5, 1.0, 'Training and Validation Loss Curve')"
      ]
     },
     "execution_count": 49,
     "metadata": {},
     "output_type": "execute_result"
    },
    {
     "data": {
      "image/png": "[encoded data removed]",
      "text/plain": [
       "<Figure size 432x288 with 1 Axes>"
      ]
     },
     "metadata": {
      "needs_background": "light"
     },
     "output_type": "display_data"
    }
   ],
   "source": [
    "pipeline = make_pipeline(StandardScaler(), GaussianNB())\n",
    "\n",
    "var_smoothing_values = np.logspace(0,-9, num = 100)\n",
    "\n",
    "train_results, validation_results = validation_curve(pipeline, train_x, train_y, cv = 10, param_name = 'gaussiannb__var_smoothing', param_range = var_smoothing_values, scoring = \"accuracy\")\n",
    "\n",
    "train_errors_mean = 1-np.mean(train_results, axis = 1) # convert accuracy to misclassification rate (ie loss)\n",
    "validation_errors_mean = 1-np.mean(validation_results , axis = 1)\n",
    "\n",
    "\n",
    "plt.plot(var_smoothing_values, train_errors_mean, label = 'Training Loss')\n",
    "plt.plot(var_smoothing_values, validation_errors_mean, label = 'Validation Loss')\n",
    "plt.legend()\n",
    "plt.xlabel('Different Values for Var_Smoothing')\n",
    "plt.ylabel('Absolute Error/Loss')\n",
    "plt.title('Training and Validation Loss Curve')"
   ]
  },
  {
   "cell_type": "markdown",
   "id": "7855e792",
   "metadata": {
    "papermill": {
     "duration": 0.029454,
     "end_time": "2022-06-14T18:01:24.925653",
     "exception": false,
     "start_time": "2022-06-14T18:01:24.896199",
     "status": "completed"
    },
    "tags": []
   },
   "source": [
    "#### Cross Validation"
   ]
  },
  {
   "cell_type": "markdown",
   "id": "18a8267f",
   "metadata": {
    "papermill": {
     "duration": 0.029619,
     "end_time": "2022-06-14T18:01:24.985087",
     "exception": false,
     "start_time": "2022-06-14T18:01:24.955468",
     "status": "completed"
    },
    "tags": []
   },
   "source": [
    "##### K-Fold Cross Validation for More Accurate Error Estimation"
   ]
  },
  {
   "cell_type": "code",
   "execution_count": 50,
   "id": "2d93428f",
   "metadata": {
    "execution": {
     "iopub.execute_input": "2022-06-14T18:01:25.047092Z",
     "iopub.status.busy": "2022-06-14T18:01:25.045928Z",
     "iopub.status.idle": "2022-06-14T18:01:25.051948Z",
     "shell.execute_reply": "2022-06-14T18:01:25.051269Z"
    },
    "papermill": {
     "duration": 0.039263,
     "end_time": "2022-06-14T18:01:25.053861",
     "exception": false,
     "start_time": "2022-06-14T18:01:25.014598",
     "status": "completed"
    },
    "tags": []
   },
   "outputs": [],
   "source": [
    "def cross_validation(gaussian, param):\n",
    "    cv = KFold(n_splits = 10)\n",
    "    results = cross_val_score(gaussian, train_x, train_y, cv = cv)  # iterates and splits up data for you\n",
    "    error = 1 - results.mean()\n",
    "    print('Average error for ' + str(param) +': ' + format(error))\n",
    "    return error"
   ]
  },
  {
   "cell_type": "markdown",
   "id": "a223786a",
   "metadata": {
    "papermill": {
     "duration": 0.02972,
     "end_time": "2022-06-14T18:01:25.114173",
     "exception": false,
     "start_time": "2022-06-14T18:01:25.084453",
     "status": "completed"
    },
    "tags": []
   },
   "source": [
    "#### Training Error For Gaussian Naive Bayers Using Cross Validation"
   ]
  },
  {
   "cell_type": "markdown",
   "id": "8a04a5f7",
   "metadata": {
    "papermill": {
     "duration": 0.029473,
     "end_time": "2022-06-14T18:01:25.173952",
     "exception": false,
     "start_time": "2022-06-14T18:01:25.144479",
     "status": "completed"
    },
    "tags": []
   },
   "source": [
    "##### Hyperparameter var_smoothing"
   ]
  },
  {
   "cell_type": "code",
   "execution_count": 51,
   "id": "f876b6c2",
   "metadata": {
    "execution": {
     "iopub.execute_input": "2022-06-14T18:01:25.236128Z",
     "iopub.status.busy": "2022-06-14T18:01:25.235430Z",
     "iopub.status.idle": "2022-06-14T18:01:30.477083Z",
     "shell.execute_reply": "2022-06-14T18:01:30.476073Z"
    },
    "papermill": {
     "duration": 5.274857,
     "end_time": "2022-06-14T18:01:30.479098",
     "exception": false,
     "start_time": "2022-06-14T18:01:25.204241",
     "status": "completed"
    },
    "tags": []
   },
   "outputs": [
    {
     "name": "stdout",
     "output_type": "stream",
     "text": [
      "Average error for 1.0: 0.3108239700374531\n",
      "Average error for 0.8111308307896871: 0.30857677902621716\n",
      "Average error for 0.657933224657568: 0.31081148564294625\n",
      "Average error for 0.533669923120631: 0.3029463171036204\n",
      "Average error for 0.43287612810830584: 0.3029463171036205\n",
      "Average error for 0.3511191734215131: 0.30068664169787773\n",
      "Average error for 0.2848035868435802: 0.29845193508114864\n",
      "Average error for 0.23101297000831597: 0.2939700374531835\n",
      "Average error for 0.1873817422860384: 0.2939700374531835\n",
      "Average error for 0.15199110829529336: 0.28947565543071163\n",
      "Average error for 0.12328467394420659: 0.2872284644194757\n",
      "Average error for 0.1: 0.28162297128589264\n",
      "Average error for 0.08111308307896872: 0.27715355805243447\n",
      "Average error for 0.0657933224657568: 0.26931335830212233\n",
      "Average error for 0.0533669923120631: 0.2681897627965044\n",
      "Average error for 0.04328761281083057: 0.2580774032459425\n",
      "Average error for 0.03511191734215131: 0.25694132334581765\n",
      "Average error for 0.02848035868435802: 0.2535705368289637\n",
      "Average error for 0.02310129700083159: 0.2513108614232209\n",
      "Average error for 0.01873817422860384: 0.2479275905118602\n",
      "Average error for 0.01519911082952933: 0.242334581772784\n",
      "Average error for 0.012328467394420659: 0.2456928838951311\n",
      "Average error for 0.01: 0.24794007490636705\n",
      "Average error for 0.008111308307896872: 0.24681647940074902\n",
      "Average error for 0.006579332246575682: 0.2434581772784019\n",
      "Average error for 0.005336699231206307: 0.24008739076154817\n",
      "Average error for 0.004328761281083057: 0.238976279650437\n",
      "Average error for 0.003511191734215131: 0.24122347066167293\n",
      "Average error for 0.002848035868435802: 0.23785268414481908\n",
      "Average error for 0.0023101297000831605: 0.23896379525593026\n",
      "Average error for 0.001873817422860383: 0.23896379525593026\n",
      "Average error for 0.0015199110829529332: 0.23784019975031212\n",
      "Average error for 0.0012328467394420659: 0.23784019975031212\n",
      "Average error for 0.001: 0.23896379525593026\n",
      "Average error for 0.0008111308307896872: 0.23896379525593026\n",
      "Average error for 0.0006579332246575676: 0.24008739076154817\n",
      "Average error for 0.0005336699231206307: 0.24008739076154817\n",
      "Average error for 0.0004328761281083057: 0.24121098626716608\n",
      "Average error for 0.0003511191734215131: 0.242334581772784\n",
      "Average error for 0.0002848035868435802: 0.24122347066167293\n",
      "Average error for 0.0002310129700083158: 0.24122347066167293\n",
      "Average error for 0.0001873817422860383: 0.24122347066167293\n",
      "Average error for 0.0001519911082952933: 0.24122347066167293\n",
      "Average error for 0.0001232846739442066: 0.24122347066167293\n",
      "Average error for 0.0001: 0.24122347066167293\n",
      "Average error for 8.111308307896872e-05: 0.24122347066167293\n",
      "Average error for 6.579332246575683e-05: 0.24122347066167293\n",
      "Average error for 5.3366992312063123e-05: 0.24122347066167293\n",
      "Average error for 4.328761281083062e-05: 0.24122347066167293\n",
      "Average error for 3.511191734215127e-05: 0.24122347066167293\n",
      "Average error for 2.848035868435799e-05: 0.24122347066167293\n",
      "Average error for 2.310129700083158e-05: 0.24122347066167293\n",
      "Average error for 1.873817422860383e-05: 0.24122347066167293\n",
      "Average error for 1.5199110829529332e-05: 0.24122347066167293\n",
      "Average error for 1.2328467394420658e-05: 0.24122347066167293\n",
      "Average error for 1e-05: 0.24122347066167293\n",
      "Average error for 8.111308307896873e-06: 0.24122347066167293\n",
      "Average error for 6.579332246575683e-06: 0.24122347066167293\n",
      "Average error for 5.336699231206313e-06: 0.24122347066167293\n",
      "Average error for 4.328761281083053e-06: 0.24122347066167293\n",
      "Average error for 3.5111917342151275e-06: 0.24122347066167293\n",
      "Average error for 2.848035868435799e-06: 0.24122347066167293\n",
      "Average error for 2.310129700083158e-06: 0.24122347066167293\n",
      "Average error for 1.873817422860383e-06: 0.24122347066167293\n",
      "Average error for 1.519911082952933e-06: 0.24122347066167293\n",
      "Average error for 1.232846739442066e-06: 0.24122347066167293\n",
      "Average error for 1e-06: 0.24122347066167293\n",
      "Average error for 8.111308307896872e-07: 0.24122347066167293\n",
      "Average error for 6.579332246575682e-07: 0.24122347066167293\n",
      "Average error for 5.336699231206313e-07: 0.24122347066167293\n",
      "Average error for 4.3287612810830526e-07: 0.24122347066167293\n",
      "Average error for 3.5111917342151277e-07: 0.24122347066167293\n",
      "Average error for 2.848035868435799e-07: 0.24122347066167293\n",
      "Average error for 2.310129700083158e-07: 0.24122347066167293\n",
      "Average error for 1.873817422860383e-07: 0.24122347066167293\n",
      "Average error for 1.519911082952933e-07: 0.24122347066167293\n",
      "Average error for 1.232846739442066e-07: 0.24122347066167293\n",
      "Average error for 1e-07: 0.24122347066167293\n",
      "Average error for 8.111308307896873e-08: 0.24122347066167293\n",
      "Average error for 6.579332246575682e-08: 0.24122347066167293\n",
      "Average error for 5.336699231206302e-08: 0.24122347066167293\n",
      "Average error for 4.3287612810830526e-08: 0.24122347066167293\n",
      "Average error for 3.5111917342151277e-08: 0.24122347066167293\n",
      "Average error for 2.848035868435799e-08: 0.24122347066167293\n",
      "Average error for 2.310129700083158e-08: 0.24122347066167293\n",
      "Average error for 1.873817422860383e-08: 0.24122347066167293\n",
      "Average error for 1.519911082952933e-08: 0.24122347066167293\n",
      "Average error for 1.232846739442066e-08: 0.24122347066167293\n",
      "Average error for 1e-08: 0.24122347066167293\n",
      "Average error for 8.111308307896856e-09: 0.24122347066167293\n",
      "Average error for 6.579332246575682e-09: 0.24122347066167293\n",
      "Average error for 5.336699231206302e-09: 0.24122347066167293\n",
      "Average error for 4.328761281083061e-09: 0.24122347066167293\n",
      "Average error for 3.5111917342151273e-09: 0.24122347066167293\n",
      "Average error for 2.848035868435805e-09: 0.24122347066167293\n",
      "Average error for 2.310129700083158e-09: 0.24122347066167293\n",
      "Average error for 1.873817422860387e-09: 0.24122347066167293\n",
      "Average error for 1.519911082952933e-09: 0.24122347066167293\n",
      "Average error for 1.2328467394420635e-09: 0.24122347066167293\n",
      "Average error for 1e-09: 0.24122347066167293\n"
     ]
    },
    {
     "data": {
      "text/plain": [
       "Text(0.5, 1.0, '10-Fold CV')"
      ]
     },
     "execution_count": 51,
     "metadata": {},
     "output_type": "execute_result"
    },
    {
     "data": {
      "image/png": "[encoded data removed]",
      "text/plain": [
       "<Figure size 432x288 with 1 Axes>"
      ]
     },
     "metadata": {
      "needs_background": "light"
     },
     "output_type": "display_data"
    }
   ],
   "source": [
    "errors = []\n",
    "var_smoothing_values = np.logspace(0,-9, num = 100)\n",
    "for x in range(100):\n",
    "    gaussian = GaussianNB(var_smoothing = var_smoothing_values[x])\n",
    "    error = cross_validation(gaussian, var_smoothing_values[x])\n",
    "    errors.append(error)\n",
    "\n",
    "plt.plot(var_smoothing_values, errors)\n",
    "plt.xlabel('Different Values for Parameter Var_Smoothing')\n",
    "plt.ylabel('Error')\n",
    "plt.title('10-Fold CV')"
   ]
  },
  {
   "cell_type": "markdown",
   "id": "d0fc3632",
   "metadata": {
    "papermill": {
     "duration": 0.031955,
     "end_time": "2022-06-14T18:01:30.544752",
     "exception": false,
     "start_time": "2022-06-14T18:01:30.512797",
     "status": "completed"
    },
    "tags": []
   },
   "source": [
    "Calculate the most accurate method"
   ]
  },
  {
   "cell_type": "code",
   "execution_count": 52,
   "id": "d33b54f7",
   "metadata": {
    "execution": {
     "iopub.execute_input": "2022-06-14T18:01:30.610601Z",
     "iopub.status.busy": "2022-06-14T18:01:30.609972Z",
     "iopub.status.idle": "2022-06-14T18:01:30.623082Z",
     "shell.execute_reply": "2022-06-14T18:01:30.621403Z"
    },
    "papermill": {
     "duration": 0.04923,
     "end_time": "2022-06-14T18:01:30.625631",
     "exception": false,
     "start_time": "2022-06-14T18:01:30.576401",
     "status": "completed"
    },
    "tags": []
   },
   "outputs": [
    {
     "name": "stdout",
     "output_type": "stream",
     "text": [
      "MODEL\t\t\tACCURACY\n",
      "Logistic Regression\t80.1347\n",
      "KNN\t\t\t86.7565\n",
      "Gaussian NB\t\t76.7677\n",
      "MLP\t\t\t84.7363\n",
      "\n"
     ]
    }
   ],
   "source": [
    "prediction_array = [prediction_lr, prediction_knn, prediction_gauss, prediction_mlp]\n",
    "accuracy_array = [accuracy_lr, accuracy_knn, accuracy_gauss, accuracy_mlp]\n",
    "model_names_array = ['Logistic Regression', 'KNN', 'Gaussian NB', 'MLP']\n",
    "\n",
    "print('MODEL', end = '\\t\\t\\t')\n",
    "print('ACCURACY')\n",
    "for i in range(0, len(prediction_array)):\n",
    "    if len(model_names_array[i]) > 14:\n",
    "        end = '\\t'\n",
    "    elif len(model_names_array[i]) > 7:\n",
    "        end = '\\t\\t'\n",
    "    else:\n",
    "        end = '\\t\\t\\t'\n",
    "    print(model_names_array[i], end = end)\n",
    "    print(accuracy_array[i])\n",
    "    \n",
    "# max_accuracy = max(accuracy_array)\n",
    "# max_index = accuracy_array.index(max_accuracy)\n",
    "print()\n",
    "# print(\"SUBMITTED MODEL: \", end='')\n",
    "# print(model_names_array[max_index])\n",
    "\n",
    "# submission = pd.DataFrame({\n",
    "#         \"PassengerId\": test_df[\"PassengerId\"],\n",
    "#         \"Survived\": prediction_array[max_index]\n",
    "#     })\n",
    "submission = pd.DataFrame({\n",
    "        \"PassengerId\": test_df[\"PassengerId\"],\n",
    "        \"Survived\": prediction_lr\n",
    "    })\n",
    "\n",
    "submission.to_csv('./submission.csv', index=False)"
   ]
  }
 ],
 "metadata": {
  "kernelspec": {
   "display_name": "Python 3",
   "language": "python",
   "name": "python3"
  },
  "language_info": {
   "codemirror_mode": {
    "name": "ipython",
    "version": 3
   },
   "file_extension": ".py",
   "mimetype": "text/x-python",
   "name": "python",
   "nbconvert_exporter": "python",
   "pygments_lexer": "ipython3",
   "version": "3.7.12"
  },
  "papermill": {
   "default_parameters": {},
   "duration": 112.739212,
   "end_time": "2022-06-14T18:01:31.479407",
   "environment_variables": {},
   "exception": null,
   "input_path": "__notebook__.ipynb",
   "output_path": "__notebook__.ipynb",
   "parameters": {},
   "start_time": "2022-06-14T17:59:38.740195",
   "version": "2.3.4"
  }
 },
 "nbformat": 4,
 "nbformat_minor": 5
}
